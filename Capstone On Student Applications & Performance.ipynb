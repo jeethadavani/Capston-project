{
 "cells": [
  {
   "cell_type": "code",
   "execution_count": 1,
   "id": "2688d85b",
   "metadata": {},
   "outputs": [],
   "source": [
    "import pandas as pd\n",
    "import numpy as np\n",
    "import matplotlib.pyplot as plt\n",
    "%matplotlib inline\n",
    "import seaborn as sns\n",
    "from sklearn.model_selection import train_test_split\n",
    "from sklearn.preprocessing import PowerTransformer\n",
    "from sklearn.linear_model import LogisticRegression\n",
    "from sklearn.tree import DecisionTreeClassifier"
   ]
  },
  {
   "cell_type": "code",
   "execution_count": 2,
   "id": "fe8aa1b6",
   "metadata": {},
   "outputs": [
    {
     "data": {
      "text/html": [
       "<div>\n",
       "<style scoped>\n",
       "    .dataframe tbody tr th:only-of-type {\n",
       "        vertical-align: middle;\n",
       "    }\n",
       "\n",
       "    .dataframe tbody tr th {\n",
       "        vertical-align: top;\n",
       "    }\n",
       "\n",
       "    .dataframe thead th {\n",
       "        text-align: right;\n",
       "    }\n",
       "</style>\n",
       "<table border=\"1\" class=\"dataframe\">\n",
       "  <thead>\n",
       "    <tr style=\"text-align: right;\">\n",
       "      <th></th>\n",
       "      <th>STUDENT IDENTIFIER</th>\n",
       "      <th>STDNT_AGE</th>\n",
       "      <th>STDNT_GENDER</th>\n",
       "      <th>STDNT_BACKGROUND</th>\n",
       "      <th>IN_STATE_FLAG</th>\n",
       "      <th>INTERNATIONAL_STS</th>\n",
       "      <th>STDNT_MAJOR</th>\n",
       "      <th>STDNT_MINOR</th>\n",
       "      <th>STDNT_TEST_ENTRANCE1</th>\n",
       "      <th>STDNT_TEST_ENTRANCE2</th>\n",
       "      <th>...</th>\n",
       "      <th>DEGREE_GROUP_CD</th>\n",
       "      <th>DEGREE_GROUP_DESC</th>\n",
       "      <th>FIRST_TERM_ATTEMPT_HRS</th>\n",
       "      <th>FIRST_TERM_EARNED_HRS</th>\n",
       "      <th>SECOND_TERM_ATTEMPT_HRS</th>\n",
       "      <th>SECOND_TERM_EARNED_HRS</th>\n",
       "      <th>GROSS_FIN_NEED</th>\n",
       "      <th>COST_OF_ATTEND</th>\n",
       "      <th>EST_FAM_CONTRIBUTION</th>\n",
       "      <th>UNMET_NEED</th>\n",
       "    </tr>\n",
       "  </thead>\n",
       "  <tbody>\n",
       "    <tr>\n",
       "      <th>0</th>\n",
       "      <td>7808615</td>\n",
       "      <td>18</td>\n",
       "      <td>F</td>\n",
       "      <td>BGD 1</td>\n",
       "      <td>Y</td>\n",
       "      <td>N</td>\n",
       "      <td>Undeclared</td>\n",
       "      <td>N</td>\n",
       "      <td>NaN</td>\n",
       "      <td>1150.0</td>\n",
       "      <td>...</td>\n",
       "      <td>B</td>\n",
       "      <td>Bachelors</td>\n",
       "      <td>16</td>\n",
       "      <td>16</td>\n",
       "      <td>14.0</td>\n",
       "      <td>14.0</td>\n",
       "      <td>0</td>\n",
       "      <td>0</td>\n",
       "      <td>0</td>\n",
       "      <td>0.0</td>\n",
       "    </tr>\n",
       "    <tr>\n",
       "      <th>1</th>\n",
       "      <td>7830063</td>\n",
       "      <td>19</td>\n",
       "      <td>F</td>\n",
       "      <td>BGD 1</td>\n",
       "      <td>N</td>\n",
       "      <td>N</td>\n",
       "      <td>Undeclared</td>\n",
       "      <td>N</td>\n",
       "      <td>26.0</td>\n",
       "      <td>NaN</td>\n",
       "      <td>...</td>\n",
       "      <td>B</td>\n",
       "      <td>Bachelors</td>\n",
       "      <td>18</td>\n",
       "      <td>18</td>\n",
       "      <td>18.0</td>\n",
       "      <td>18.0</td>\n",
       "      <td>570000</td>\n",
       "      <td>1355760</td>\n",
       "      <td>785760</td>\n",
       "      <td>459300.0</td>\n",
       "    </tr>\n",
       "    <tr>\n",
       "      <th>2</th>\n",
       "      <td>7847538</td>\n",
       "      <td>18</td>\n",
       "      <td>M</td>\n",
       "      <td>BGD 1</td>\n",
       "      <td>Y</td>\n",
       "      <td>N</td>\n",
       "      <td>Mathematics</td>\n",
       "      <td>N</td>\n",
       "      <td>NaN</td>\n",
       "      <td>1020.0</td>\n",
       "      <td>...</td>\n",
       "      <td>B</td>\n",
       "      <td>Bachelors</td>\n",
       "      <td>15</td>\n",
       "      <td>15</td>\n",
       "      <td>14.0</td>\n",
       "      <td>14.0</td>\n",
       "      <td>0</td>\n",
       "      <td>0</td>\n",
       "      <td>0</td>\n",
       "      <td>0.0</td>\n",
       "    </tr>\n",
       "    <tr>\n",
       "      <th>3</th>\n",
       "      <td>8006429</td>\n",
       "      <td>18</td>\n",
       "      <td>M</td>\n",
       "      <td>BGD 1</td>\n",
       "      <td>Y</td>\n",
       "      <td>N</td>\n",
       "      <td>Undeclared</td>\n",
       "      <td>N</td>\n",
       "      <td>NaN</td>\n",
       "      <td>1210.0</td>\n",
       "      <td>...</td>\n",
       "      <td>B</td>\n",
       "      <td>Bachelors</td>\n",
       "      <td>13</td>\n",
       "      <td>13</td>\n",
       "      <td>14.0</td>\n",
       "      <td>14.0</td>\n",
       "      <td>0</td>\n",
       "      <td>0</td>\n",
       "      <td>0</td>\n",
       "      <td>0.0</td>\n",
       "    </tr>\n",
       "    <tr>\n",
       "      <th>4</th>\n",
       "      <td>7962680</td>\n",
       "      <td>18</td>\n",
       "      <td>F</td>\n",
       "      <td>BGD 1</td>\n",
       "      <td>Y</td>\n",
       "      <td>N</td>\n",
       "      <td>Art</td>\n",
       "      <td>N</td>\n",
       "      <td>NaN</td>\n",
       "      <td>1200.0</td>\n",
       "      <td>...</td>\n",
       "      <td>B</td>\n",
       "      <td>Bachelors</td>\n",
       "      <td>12</td>\n",
       "      <td>12</td>\n",
       "      <td>12.0</td>\n",
       "      <td>12.0</td>\n",
       "      <td>835920</td>\n",
       "      <td>1355760</td>\n",
       "      <td>519840</td>\n",
       "      <td>278340.0</td>\n",
       "    </tr>\n",
       "  </tbody>\n",
       "</table>\n",
       "<p>5 rows × 56 columns</p>\n",
       "</div>"
      ],
      "text/plain": [
       "   STUDENT IDENTIFIER  STDNT_AGE STDNT_GENDER STDNT_BACKGROUND IN_STATE_FLAG  \\\n",
       "0             7808615         18            F            BGD 1             Y   \n",
       "1             7830063         19            F            BGD 1             N   \n",
       "2             7847538         18            M            BGD 1             Y   \n",
       "3             8006429         18            M            BGD 1             Y   \n",
       "4             7962680         18            F            BGD 1             Y   \n",
       "\n",
       "  INTERNATIONAL_STS  STDNT_MAJOR STDNT_MINOR  STDNT_TEST_ENTRANCE1  \\\n",
       "0                 N   Undeclared           N                   NaN   \n",
       "1                 N   Undeclared           N                  26.0   \n",
       "2                 N  Mathematics           N                   NaN   \n",
       "3                 N   Undeclared           N                   NaN   \n",
       "4                 N          Art           N                   NaN   \n",
       "\n",
       "   STDNT_TEST_ENTRANCE2  ...  DEGREE_GROUP_CD  DEGREE_GROUP_DESC  \\\n",
       "0                1150.0  ...                B          Bachelors   \n",
       "1                   NaN  ...                B          Bachelors   \n",
       "2                1020.0  ...                B          Bachelors   \n",
       "3                1210.0  ...                B          Bachelors   \n",
       "4                1200.0  ...                B          Bachelors   \n",
       "\n",
       "  FIRST_TERM_ATTEMPT_HRS FIRST_TERM_EARNED_HRS SECOND_TERM_ATTEMPT_HRS  \\\n",
       "0                     16                    16                    14.0   \n",
       "1                     18                    18                    18.0   \n",
       "2                     15                    15                    14.0   \n",
       "3                     13                    13                    14.0   \n",
       "4                     12                    12                    12.0   \n",
       "\n",
       "  SECOND_TERM_EARNED_HRS GROSS_FIN_NEED COST_OF_ATTEND EST_FAM_CONTRIBUTION  \\\n",
       "0                   14.0              0              0                    0   \n",
       "1                   18.0         570000        1355760               785760   \n",
       "2                   14.0              0              0                    0   \n",
       "3                   14.0              0              0                    0   \n",
       "4                   12.0         835920        1355760               519840   \n",
       "\n",
       "  UNMET_NEED  \n",
       "0        0.0  \n",
       "1   459300.0  \n",
       "2        0.0  \n",
       "3        0.0  \n",
       "4   278340.0  \n",
       "\n",
       "[5 rows x 56 columns]"
      ]
     },
     "execution_count": 2,
     "metadata": {},
     "output_type": "execute_result"
    }
   ],
   "source": [
    "pr=pd.read_excel(r'C:\\Users\\PRANAY\\Documents\\FULL STACK DATA SCIENCE jigsaw document\\capstone project\\Student Applications & Performance.xlsx')\n",
    "pr.head()"
   ]
  },
  {
   "cell_type": "code",
   "execution_count": 3,
   "id": "f1233f8a",
   "metadata": {},
   "outputs": [
    {
     "data": {
      "text/plain": [
       "(3400, 56)"
      ]
     },
     "execution_count": 3,
     "metadata": {},
     "output_type": "execute_result"
    }
   ],
   "source": [
    "pr.shape"
   ]
  },
  {
   "cell_type": "code",
   "execution_count": 4,
   "id": "9b5ad4a2",
   "metadata": {},
   "outputs": [
    {
     "name": "stdout",
     "output_type": "stream",
     "text": [
      "<class 'pandas.core.frame.DataFrame'>\n",
      "RangeIndex: 3400 entries, 0 to 3399\n",
      "Data columns (total 56 columns):\n",
      " #   Column                    Non-Null Count  Dtype  \n",
      "---  ------                    --------------  -----  \n",
      " 0   STUDENT IDENTIFIER        3400 non-null   int64  \n",
      " 1   STDNT_AGE                 3400 non-null   int64  \n",
      " 2   STDNT_GENDER              3400 non-null   object \n",
      " 3   STDNT_BACKGROUND          3400 non-null   object \n",
      " 4   IN_STATE_FLAG             3400 non-null   object \n",
      " 5   INTERNATIONAL_STS         3400 non-null   object \n",
      " 6   STDNT_MAJOR               3400 non-null   object \n",
      " 7   STDNT_MINOR               3400 non-null   object \n",
      " 8   STDNT_TEST_ENTRANCE1      1106 non-null   float64\n",
      " 9   STDNT_TEST_ENTRANCE2      2492 non-null   float64\n",
      " 10  STDNT_TEST_ENTRANCE_COMB  2882 non-null   float64\n",
      " 11  FIRST_TERM                3400 non-null   int64  \n",
      " 12  CORE_COURSE_NAME_1_F      3400 non-null   object \n",
      " 13  CORE_COURSE_GRADE_1_F     3400 non-null   object \n",
      " 14  CORE_COURSE_NAME_2_F      3301 non-null   object \n",
      " 15  CORE_COURSE_GRADE_2_F     3301 non-null   object \n",
      " 16  CORE_COURSE_NAME_3_F      2835 non-null   object \n",
      " 17  CORE_COURSE_GRADE_3_F     2835 non-null   object \n",
      " 18  CORE_COURSE_NAME_4_F      1803 non-null   object \n",
      " 19  CORE_COURSE_GRADE_4_F     1803 non-null   object \n",
      " 20  CORE_COURSE_NAME_5_F      645 non-null    object \n",
      " 21  CORE_COURSE_GRADE_5_F     645 non-null    object \n",
      " 22  CORE_COURSE_NAME_6_F      128 non-null    object \n",
      " 23  CORE_COURSE_GRADE_6_F     128 non-null    object \n",
      " 24  SECOND_TERM               3400 non-null   int64  \n",
      " 25  CORE_COURSE_NAME_1_S      3243 non-null   object \n",
      " 26  CORE_COURSE_GRADE_1_S     3168 non-null   object \n",
      " 27  CORE_COURSE_NAME_2_S      2961 non-null   object \n",
      " 28  CORE_COURSE_GRADE_2_S     2961 non-null   object \n",
      " 29  CORE_COURSE_NAME_3_S      2362 non-null   object \n",
      " 30  CORE_COURSE_GRADE_3_S     2362 non-null   object \n",
      " 31  CORE_COURSE_NAME_4_S      1355 non-null   object \n",
      " 32  CORE_COURSE_GRADE_4_S     1355 non-null   object \n",
      " 33  CORE_COURSE_NAME_5_S      450 non-null    object \n",
      " 34  CORE_COURSE_GRADE_5_S     450 non-null    object \n",
      " 35  CORE_COURSE_NAME_6_S      81 non-null     object \n",
      " 36  CORE_COURSE_GRADE_6_S     81 non-null     object \n",
      " 37  HOUSING_STS               3400 non-null   object \n",
      " 38  RETURNED_2ND_YR           3400 non-null   int64  \n",
      " 39  DISTANCE_FROM_HOME        3375 non-null   float64\n",
      " 40  HIGH_SCHL_GPA             3347 non-null   float64\n",
      " 41  HIGH_SCHL_NAME            3399 non-null   object \n",
      " 42  FATHER_HI_EDU_CD          2968 non-null   float64\n",
      " 43  FATHER_HI_EDU_DESC        3400 non-null   object \n",
      " 44  MOTHER_HI_EDU_CD          2911 non-null   float64\n",
      " 45  MOTHER_HI_EDU_DESC        3400 non-null   object \n",
      " 46  DEGREE_GROUP_CD           3400 non-null   object \n",
      " 47  DEGREE_GROUP_DESC         3400 non-null   object \n",
      " 48  FIRST_TERM_ATTEMPT_HRS    3400 non-null   int64  \n",
      " 49  FIRST_TERM_EARNED_HRS     3400 non-null   int64  \n",
      " 50  SECOND_TERM_ATTEMPT_HRS   3194 non-null   float64\n",
      " 51  SECOND_TERM_EARNED_HRS    3191 non-null   float64\n",
      " 52  GROSS_FIN_NEED            3400 non-null   int64  \n",
      " 53  COST_OF_ATTEND            3400 non-null   int64  \n",
      " 54  EST_FAM_CONTRIBUTION      3400 non-null   int64  \n",
      " 55  UNMET_NEED                3400 non-null   float64\n",
      "dtypes: float64(10), int64(10), object(36)\n",
      "memory usage: 1.5+ MB\n"
     ]
    }
   ],
   "source": [
    "pr.info()"
   ]
  },
  {
   "cell_type": "code",
   "execution_count": 5,
   "id": "f5339e66",
   "metadata": {},
   "outputs": [
    {
     "data": {
      "text/plain": [
       "STUDENT IDENTIFIER             0\n",
       "STDNT_AGE                      0\n",
       "STDNT_GENDER                   0\n",
       "STDNT_BACKGROUND               0\n",
       "IN_STATE_FLAG                  0\n",
       "INTERNATIONAL_STS              0\n",
       "STDNT_MAJOR                    0\n",
       "STDNT_MINOR                    0\n",
       "STDNT_TEST_ENTRANCE1        2294\n",
       "STDNT_TEST_ENTRANCE2         908\n",
       "STDNT_TEST_ENTRANCE_COMB     518\n",
       "FIRST_TERM                     0\n",
       "CORE_COURSE_NAME_1_F           0\n",
       "CORE_COURSE_GRADE_1_F          0\n",
       "CORE_COURSE_NAME_2_F          99\n",
       "CORE_COURSE_GRADE_2_F         99\n",
       "CORE_COURSE_NAME_3_F         565\n",
       "CORE_COURSE_GRADE_3_F        565\n",
       "CORE_COURSE_NAME_4_F        1597\n",
       "CORE_COURSE_GRADE_4_F       1597\n",
       "CORE_COURSE_NAME_5_F        2755\n",
       "CORE_COURSE_GRADE_5_F       2755\n",
       "CORE_COURSE_NAME_6_F        3272\n",
       "CORE_COURSE_GRADE_6_F       3272\n",
       "SECOND_TERM                    0\n",
       "CORE_COURSE_NAME_1_S         157\n",
       "CORE_COURSE_GRADE_1_S        232\n",
       "CORE_COURSE_NAME_2_S         439\n",
       "CORE_COURSE_GRADE_2_S        439\n",
       "CORE_COURSE_NAME_3_S        1038\n",
       "CORE_COURSE_GRADE_3_S       1038\n",
       "CORE_COURSE_NAME_4_S        2045\n",
       "CORE_COURSE_GRADE_4_S       2045\n",
       "CORE_COURSE_NAME_5_S        2950\n",
       "CORE_COURSE_GRADE_5_S       2950\n",
       "CORE_COURSE_NAME_6_S        3319\n",
       "CORE_COURSE_GRADE_6_S       3319\n",
       "HOUSING_STS                    0\n",
       "RETURNED_2ND_YR                0\n",
       "DISTANCE_FROM_HOME            25\n",
       "HIGH_SCHL_GPA                 53\n",
       "HIGH_SCHL_NAME                 1\n",
       "FATHER_HI_EDU_CD             432\n",
       "FATHER_HI_EDU_DESC             0\n",
       "MOTHER_HI_EDU_CD             489\n",
       "MOTHER_HI_EDU_DESC             0\n",
       "DEGREE_GROUP_CD                0\n",
       "DEGREE_GROUP_DESC              0\n",
       "FIRST_TERM_ATTEMPT_HRS         0\n",
       "FIRST_TERM_EARNED_HRS          0\n",
       "SECOND_TERM_ATTEMPT_HRS      206\n",
       "SECOND_TERM_EARNED_HRS       209\n",
       "GROSS_FIN_NEED                 0\n",
       "COST_OF_ATTEND                 0\n",
       "EST_FAM_CONTRIBUTION           0\n",
       "UNMET_NEED                     0\n",
       "dtype: int64"
      ]
     },
     "execution_count": 5,
     "metadata": {},
     "output_type": "execute_result"
    }
   ],
   "source": [
    "pr.isna().sum()"
   ]
  },
  {
   "cell_type": "code",
   "execution_count": 6,
   "id": "de93e3d4",
   "metadata": {},
   "outputs": [
    {
     "data": {
      "text/plain": [
       "1    2677\n",
       "0     723\n",
       "Name: RETURNED_2ND_YR, dtype: int64"
      ]
     },
     "execution_count": 6,
     "metadata": {},
     "output_type": "execute_result"
    }
   ],
   "source": [
    "pr['RETURNED_2ND_YR'].value_counts()"
   ]
  },
  {
   "cell_type": "code",
   "execution_count": 7,
   "id": "9f88c179",
   "metadata": {},
   "outputs": [],
   "source": [
    "### Creating target feature\n",
    "# RETURNED_2ND_YR\n",
    "\n",
    "#Create a new feature called attrition from the RETURNED_2ND_YR\n",
    "pr['Attrition']=pr['RETURNED_2ND_YR']\n",
    "\n",
    "#dropping RETURNED_2ND_YR\n",
    "pr.drop('RETURNED_2ND_YR',axis=1,inplace=True)"
   ]
  },
  {
   "cell_type": "code",
   "execution_count": 8,
   "id": "66295b2d",
   "metadata": {},
   "outputs": [],
   "source": [
    "#swapping 1&0 in Attrition, so 1 represents students who discontinued\n",
    "pr['Attrition']=pr['Attrition'].apply(lambda x: 0 if x == 1 else 1)"
   ]
  },
  {
   "cell_type": "code",
   "execution_count": 9,
   "id": "84db5367",
   "metadata": {},
   "outputs": [
    {
     "data": {
      "text/plain": [
       "0    2677\n",
       "1     723\n",
       "Name: Attrition, dtype: int64"
      ]
     },
     "execution_count": 9,
     "metadata": {},
     "output_type": "execute_result"
    }
   ],
   "source": [
    "pr['Attrition'].value_counts()"
   ]
  },
  {
   "cell_type": "markdown",
   "id": "d4ae8f3f",
   "metadata": {},
   "source": [
    "# EDA"
   ]
  },
  {
   "cell_type": "markdown",
   "id": "41855455",
   "metadata": {},
   "source": [
    "## Target - Attrition"
   ]
  },
  {
   "cell_type": "code",
   "execution_count": 10,
   "id": "20fb6f25",
   "metadata": {},
   "outputs": [
    {
     "data": {
      "text/plain": [
       "0    0.787353\n",
       "1    0.212647\n",
       "Name: Attrition, dtype: float64"
      ]
     },
     "execution_count": 10,
     "metadata": {},
     "output_type": "execute_result"
    }
   ],
   "source": [
    "#target is imbalance, we treat it in further process\n",
    "pr['Attrition'].value_counts(normalize=True)"
   ]
  },
  {
   "cell_type": "code",
   "execution_count": 11,
   "id": "2b356862",
   "metadata": {},
   "outputs": [
    {
     "name": "stderr",
     "output_type": "stream",
     "text": [
      "C:\\ProgramData\\Anaconda3\\lib\\site-packages\\seaborn\\_decorators.py:36: FutureWarning: Pass the following variable as a keyword arg: x. From version 0.12, the only valid positional argument will be `data`, and passing other arguments without an explicit keyword will result in an error or misinterpretation.\n",
      "  warnings.warn(\n"
     ]
    },
    {
     "data": {
      "image/png": "[encoded data removed]",
      "text/plain": [
       "<Figure size 1152x504 with 2 Axes>"
      ]
     },
     "metadata": {
      "needs_background": "light"
     },
     "output_type": "display_data"
    }
   ],
   "source": [
    "plt.figure(figsize=(16,7))\n",
    "\n",
    "plt.subplot(1,2,1)\n",
    "sns.countplot(pr['Attrition'])\n",
    "plt.title('Bar graph')\n",
    "\n",
    "plt.subplot(1,2,2)\n",
    "plt.pie(pr['Attrition'].value_counts(),explode=[0.05,0], colors=[ 'lightskyblue', 'orange'], labels=['YES', 'NO'], autopct='%.2f%%')\n",
    "plt.title('Pie chart')\n",
    "\n",
    "plt.show()"
   ]
  },
  {
   "cell_type": "markdown",
   "id": "ba7d1aa5",
   "metadata": {},
   "source": [
    "# STUDENT IDENTIFIER"
   ]
  },
  {
   "cell_type": "code",
   "execution_count": 12,
   "id": "b73c993b",
   "metadata": {},
   "outputs": [
    {
     "data": {
      "text/plain": [
       "3400"
      ]
     },
     "execution_count": 12,
     "metadata": {},
     "output_type": "execute_result"
    }
   ],
   "source": [
    "pr['STUDENT IDENTIFIER'].nunique()\n",
    "\n",
    "#There 3400 unique id's, unique id for each record.\n",
    "#Insignificant variable, we can remove this feature"
   ]
  },
  {
   "cell_type": "markdown",
   "id": "5d513dc1",
   "metadata": {},
   "source": [
    "# STDNT_AGE"
   ]
  },
  {
   "cell_type": "code",
   "execution_count": 13,
   "id": "bba6580f",
   "metadata": {},
   "outputs": [
    {
     "data": {
      "text/plain": [
       "count    3400.000000\n",
       "mean       17.994118\n",
       "std         0.552052\n",
       "min        16.000000\n",
       "25%        18.000000\n",
       "50%        18.000000\n",
       "75%        18.000000\n",
       "max        26.000000\n",
       "Name: STDNT_AGE, dtype: float64"
      ]
     },
     "execution_count": 13,
     "metadata": {},
     "output_type": "execute_result"
    }
   ],
   "source": [
    "pr['STDNT_AGE'].describe()\n",
    "#IQR method will be not possible because Q1, Q3, Q2 are same"
   ]
  },
  {
   "cell_type": "code",
   "execution_count": 14,
   "id": "d97eeb71",
   "metadata": {},
   "outputs": [
    {
     "name": "stderr",
     "output_type": "stream",
     "text": [
      "C:\\ProgramData\\Anaconda3\\lib\\site-packages\\seaborn\\distributions.py:2619: FutureWarning: `distplot` is a deprecated function and will be removed in a future version. Please adapt your code to use either `displot` (a figure-level function with similar flexibility) or `histplot` (an axes-level function for histograms).\n",
      "  warnings.warn(msg, FutureWarning)\n"
     ]
    },
    {
     "data": {
      "text/plain": [
       "<AxesSubplot:xlabel='STDNT_AGE', ylabel='Density'>"
      ]
     },
     "execution_count": 14,
     "metadata": {},
     "output_type": "execute_result"
    },
    {
     "data": {
      "image/png": "[encoded data removed]",
      "text/plain": [
       "<Figure size 432x288 with 1 Axes>"
      ]
     },
     "metadata": {
      "needs_background": "light"
     },
     "output_type": "display_data"
    }
   ],
   "source": [
    "#distribution\n",
    "\n",
    "sns.distplot(pr['STDNT_AGE'])"
   ]
  },
  {
   "cell_type": "code",
   "execution_count": 15,
   "id": "32c76738",
   "metadata": {},
   "outputs": [
    {
     "data": {
      "image/png": "[encoded data removed]",
      "text/plain": [
       "<Figure size 1152x360 with 2 Axes>"
      ]
     },
     "metadata": {
      "needs_background": "light"
     },
     "output_type": "display_data"
    }
   ],
   "source": [
    "plt.figure(figsize=(16,5))\n",
    "\n",
    "plt.subplot(1,2,1)\n",
    "sns.histplot(pr['STDNT_AGE'], binwidth=1)\n",
    "plt.xticks(ticks=np.arange(16.5,27.5,1) , labels=np.arange(16,27))\n",
    "plt.title('Count of Age group')\n",
    "\n",
    "plt.subplot(1,2,2)\n",
    "sns.histplot(data=pr, x='STDNT_AGE', hue='Attrition', binwidth=1,color=[ 'lightskyblue', 'orange'])\n",
    "plt.xticks(ticks=np.arange(16.5,27.5,1) , labels=np.arange(16,27))\n",
    "plt.title('Count of Age group w.r.t Attrition')\n",
    "plt.show()"
   ]
  },
  {
   "cell_type": "code",
   "execution_count": 16,
   "id": "0788de91",
   "metadata": {},
   "outputs": [
    {
     "name": "stderr",
     "output_type": "stream",
     "text": [
      "C:\\ProgramData\\Anaconda3\\lib\\site-packages\\seaborn\\_decorators.py:36: FutureWarning: Pass the following variable as a keyword arg: x. From version 0.12, the only valid positional argument will be `data`, and passing other arguments without an explicit keyword will result in an error or misinterpretation.\n",
      "  warnings.warn(\n"
     ]
    },
    {
     "data": {
      "text/plain": [
       "<AxesSubplot:xlabel='STDNT_AGE'>"
      ]
     },
     "execution_count": 16,
     "metadata": {},
     "output_type": "execute_result"
    },
    {
     "data": {
      "image/png": "[encoded data removed]",
      "text/plain": [
       "<Figure size 432x288 with 1 Axes>"
      ]
     },
     "metadata": {
      "needs_background": "light"
     },
     "output_type": "display_data"
    }
   ],
   "source": [
    "#outliers in AGE group\n",
    "\n",
    "sns.boxplot(pr['STDNT_AGE'])"
   ]
  },
  {
   "cell_type": "code",
   "execution_count": 17,
   "id": "c96c28f9",
   "metadata": {},
   "outputs": [
    {
     "data": {
      "text/plain": [
       "18    2860\n",
       "17     309\n",
       "19     190\n",
       "20      14\n",
       "16       8\n",
       "21       7\n",
       "22       4\n",
       "23       3\n",
       "25       3\n",
       "26       1\n",
       "24       1\n",
       "Name: STDNT_AGE, dtype: int64"
      ]
     },
     "execution_count": 17,
     "metadata": {},
     "output_type": "execute_result"
    }
   ],
   "source": [
    "pr['STDNT_AGE'].value_counts()"
   ]
  },
  {
   "cell_type": "markdown",
   "id": "75e74caa",
   "metadata": {},
   "source": [
    "# STDNT_GENDER"
   ]
  },
  {
   "cell_type": "code",
   "execution_count": 18,
   "id": "2515b866",
   "metadata": {},
   "outputs": [
    {
     "data": {
      "text/plain": [
       "F    2140\n",
       "M    1260\n",
       "Name: STDNT_GENDER, dtype: int64"
      ]
     },
     "execution_count": 18,
     "metadata": {},
     "output_type": "execute_result"
    }
   ],
   "source": [
    "pr['STDNT_GENDER'].value_counts()\n",
    "\n",
    "#Female students are more"
   ]
  },
  {
   "cell_type": "code",
   "execution_count": 19,
   "id": "3196146a",
   "metadata": {},
   "outputs": [
    {
     "data": {
      "text/plain": [
       "F    62.941176\n",
       "M    37.058824\n",
       "Name: STDNT_GENDER, dtype: float64"
      ]
     },
     "execution_count": 19,
     "metadata": {},
     "output_type": "execute_result"
    }
   ],
   "source": [
    "pr['STDNT_GENDER'].value_counts(normalize=True)*100"
   ]
  },
  {
   "cell_type": "code",
   "execution_count": 20,
   "id": "e24e2b56",
   "metadata": {},
   "outputs": [
    {
     "name": "stderr",
     "output_type": "stream",
     "text": [
      "C:\\ProgramData\\Anaconda3\\lib\\site-packages\\seaborn\\_decorators.py:36: FutureWarning: Pass the following variable as a keyword arg: x. From version 0.12, the only valid positional argument will be `data`, and passing other arguments without an explicit keyword will result in an error or misinterpretation.\n",
      "  warnings.warn(\n",
      "C:\\ProgramData\\Anaconda3\\lib\\site-packages\\seaborn\\_decorators.py:36: FutureWarning: Pass the following variable as a keyword arg: x. From version 0.12, the only valid positional argument will be `data`, and passing other arguments without an explicit keyword will result in an error or misinterpretation.\n",
      "  warnings.warn(\n"
     ]
    },
    {
     "data": {
      "image/png": "[encoded data removed]",
      "text/plain": [
       "<Figure size 1440x720 with 3 Axes>"
      ]
     },
     "metadata": {
      "needs_background": "light"
     },
     "output_type": "display_data"
    }
   ],
   "source": [
    "plt.figure(figsize=(20,10))\n",
    "\n",
    "plt.subplot(1,3,1)\n",
    "sns.countplot(pr['STDNT_GENDER'])\n",
    "plt.title('Bar Graph')\n",
    "\n",
    "plt.subplot(1,3,2)\n",
    "plt.pie(pr['STDNT_GENDER'].value_counts(),explode=[0.05,0], colors=[ 'lightskyblue', 'orange'], labels=['Female', 'Male'], autopct='%.2f%%')\n",
    "plt.title('Pie Graph')\n",
    "\n",
    "plt.subplot(1,3,3)\n",
    "sns.countplot(pr['STDNT_GENDER'],hue=pr['Attrition'])\n",
    "plt.show()"
   ]
  },
  {
   "cell_type": "markdown",
   "id": "6b95e163",
   "metadata": {},
   "source": [
    "# STDNT_BACKGROUND"
   ]
  },
  {
   "cell_type": "code",
   "execution_count": 21,
   "id": "9d345c49",
   "metadata": {},
   "outputs": [
    {
     "data": {
      "text/plain": [
       "BGD 1    2082\n",
       "BGD 3     947\n",
       "BGD 4     139\n",
       "BGD 2     106\n",
       "BGD 6      94\n",
       "BGD 7      19\n",
       "BGD 5       8\n",
       "BGD 8       5\n",
       "Name: STDNT_BACKGROUND, dtype: int64"
      ]
     },
     "execution_count": 21,
     "metadata": {},
     "output_type": "execute_result"
    }
   ],
   "source": [
    "pr['STDNT_BACKGROUND'].value_counts()"
   ]
  },
  {
   "cell_type": "code",
   "execution_count": 22,
   "id": "712287dd",
   "metadata": {},
   "outputs": [
    {
     "name": "stderr",
     "output_type": "stream",
     "text": [
      "C:\\ProgramData\\Anaconda3\\lib\\site-packages\\seaborn\\_decorators.py:36: FutureWarning: Pass the following variable as a keyword arg: x. From version 0.12, the only valid positional argument will be `data`, and passing other arguments without an explicit keyword will result in an error or misinterpretation.\n",
      "  warnings.warn(\n",
      "C:\\ProgramData\\Anaconda3\\lib\\site-packages\\seaborn\\_decorators.py:36: FutureWarning: Pass the following variable as a keyword arg: x. From version 0.12, the only valid positional argument will be `data`, and passing other arguments without an explicit keyword will result in an error or misinterpretation.\n",
      "  warnings.warn(\n"
     ]
    },
    {
     "data": {
      "image/png": "[encoded data removed]",
      "text/plain": [
       "<Figure size 1440x720 with 2 Axes>"
      ]
     },
     "metadata": {
      "needs_background": "light"
     },
     "output_type": "display_data"
    }
   ],
   "source": [
    "plt.figure(figsize=(20,10))\n",
    "\n",
    "plt.subplot(1,2,1)\n",
    "sns.countplot(pr['STDNT_BACKGROUND'])\n",
    "plt.title('Bar Garph')\n",
    "\n",
    "plt.subplot(1,2,2)\n",
    "sns.countplot(pr['STDNT_BACKGROUND'],hue=pr['Attrition'])\n",
    "plt.show()"
   ]
  },
  {
   "cell_type": "code",
   "execution_count": 23,
   "id": "a29bb8ef",
   "metadata": {},
   "outputs": [
    {
     "data": {
      "text/html": [
       "<div>\n",
       "<style scoped>\n",
       "    .dataframe tbody tr th:only-of-type {\n",
       "        vertical-align: middle;\n",
       "    }\n",
       "\n",
       "    .dataframe tbody tr th {\n",
       "        vertical-align: top;\n",
       "    }\n",
       "\n",
       "    .dataframe thead th {\n",
       "        text-align: right;\n",
       "    }\n",
       "</style>\n",
       "<table border=\"1\" class=\"dataframe\">\n",
       "  <thead>\n",
       "    <tr style=\"text-align: right;\">\n",
       "      <th>Attrition</th>\n",
       "      <th>0</th>\n",
       "      <th>1</th>\n",
       "    </tr>\n",
       "    <tr>\n",
       "      <th>STDNT_BACKGROUND</th>\n",
       "      <th></th>\n",
       "      <th></th>\n",
       "    </tr>\n",
       "  </thead>\n",
       "  <tbody>\n",
       "    <tr>\n",
       "      <th>BGD 1</th>\n",
       "      <td>1605</td>\n",
       "      <td>477</td>\n",
       "    </tr>\n",
       "    <tr>\n",
       "      <th>BGD 2</th>\n",
       "      <td>82</td>\n",
       "      <td>24</td>\n",
       "    </tr>\n",
       "    <tr>\n",
       "      <th>BGD 3</th>\n",
       "      <td>777</td>\n",
       "      <td>170</td>\n",
       "    </tr>\n",
       "    <tr>\n",
       "      <th>BGD 4</th>\n",
       "      <td>113</td>\n",
       "      <td>26</td>\n",
       "    </tr>\n",
       "    <tr>\n",
       "      <th>BGD 5</th>\n",
       "      <td>4</td>\n",
       "      <td>4</td>\n",
       "    </tr>\n",
       "    <tr>\n",
       "      <th>BGD 6</th>\n",
       "      <td>80</td>\n",
       "      <td>14</td>\n",
       "    </tr>\n",
       "    <tr>\n",
       "      <th>BGD 7</th>\n",
       "      <td>12</td>\n",
       "      <td>7</td>\n",
       "    </tr>\n",
       "    <tr>\n",
       "      <th>BGD 8</th>\n",
       "      <td>4</td>\n",
       "      <td>1</td>\n",
       "    </tr>\n",
       "  </tbody>\n",
       "</table>\n",
       "</div>"
      ],
      "text/plain": [
       "Attrition            0    1\n",
       "STDNT_BACKGROUND           \n",
       "BGD 1             1605  477\n",
       "BGD 2               82   24\n",
       "BGD 3              777  170\n",
       "BGD 4              113   26\n",
       "BGD 5                4    4\n",
       "BGD 6               80   14\n",
       "BGD 7               12    7\n",
       "BGD 8                4    1"
      ]
     },
     "execution_count": 23,
     "metadata": {},
     "output_type": "execute_result"
    }
   ],
   "source": [
    "pd.crosstab(index=pr['STDNT_BACKGROUND'], columns=pr['Attrition'])"
   ]
  },
  {
   "cell_type": "code",
   "execution_count": 24,
   "id": "58708b7c",
   "metadata": {
    "scrolled": true
   },
   "outputs": [
    {
     "data": {
      "text/html": [
       "<div>\n",
       "<style scoped>\n",
       "    .dataframe tbody tr th:only-of-type {\n",
       "        vertical-align: middle;\n",
       "    }\n",
       "\n",
       "    .dataframe tbody tr th {\n",
       "        vertical-align: top;\n",
       "    }\n",
       "\n",
       "    .dataframe thead th {\n",
       "        text-align: right;\n",
       "    }\n",
       "</style>\n",
       "<table border=\"1\" class=\"dataframe\">\n",
       "  <thead>\n",
       "    <tr style=\"text-align: right;\">\n",
       "      <th>Attrition</th>\n",
       "      <th>0</th>\n",
       "      <th>1</th>\n",
       "    </tr>\n",
       "    <tr>\n",
       "      <th>STDNT_BACKGROUND</th>\n",
       "      <th></th>\n",
       "      <th></th>\n",
       "    </tr>\n",
       "  </thead>\n",
       "  <tbody>\n",
       "    <tr>\n",
       "      <th>BGD 1</th>\n",
       "      <td>0.770893</td>\n",
       "      <td>0.229107</td>\n",
       "    </tr>\n",
       "    <tr>\n",
       "      <th>BGD 2</th>\n",
       "      <td>0.773585</td>\n",
       "      <td>0.226415</td>\n",
       "    </tr>\n",
       "    <tr>\n",
       "      <th>BGD 3</th>\n",
       "      <td>0.820486</td>\n",
       "      <td>0.179514</td>\n",
       "    </tr>\n",
       "    <tr>\n",
       "      <th>BGD 4</th>\n",
       "      <td>0.812950</td>\n",
       "      <td>0.187050</td>\n",
       "    </tr>\n",
       "    <tr>\n",
       "      <th>BGD 5</th>\n",
       "      <td>0.500000</td>\n",
       "      <td>0.500000</td>\n",
       "    </tr>\n",
       "    <tr>\n",
       "      <th>BGD 6</th>\n",
       "      <td>0.851064</td>\n",
       "      <td>0.148936</td>\n",
       "    </tr>\n",
       "    <tr>\n",
       "      <th>BGD 7</th>\n",
       "      <td>0.631579</td>\n",
       "      <td>0.368421</td>\n",
       "    </tr>\n",
       "    <tr>\n",
       "      <th>BGD 8</th>\n",
       "      <td>0.800000</td>\n",
       "      <td>0.200000</td>\n",
       "    </tr>\n",
       "  </tbody>\n",
       "</table>\n",
       "</div>"
      ],
      "text/plain": [
       "Attrition                0         1\n",
       "STDNT_BACKGROUND                    \n",
       "BGD 1             0.770893  0.229107\n",
       "BGD 2             0.773585  0.226415\n",
       "BGD 3             0.820486  0.179514\n",
       "BGD 4             0.812950  0.187050\n",
       "BGD 5             0.500000  0.500000\n",
       "BGD 6             0.851064  0.148936\n",
       "BGD 7             0.631579  0.368421\n",
       "BGD 8             0.800000  0.200000"
      ]
     },
     "execution_count": 24,
     "metadata": {},
     "output_type": "execute_result"
    }
   ],
   "source": [
    "pd.crosstab(index=pr['STDNT_BACKGROUND'], columns=pr['Attrition'],normalize='index')"
   ]
  },
  {
   "cell_type": "code",
   "execution_count": 25,
   "id": "186bde99",
   "metadata": {},
   "outputs": [],
   "source": [
    "pr_yes = pr[pr['Attrition'] == 1]\n",
    "pr_no = pr[pr['Attrition'] == 0]"
   ]
  },
  {
   "cell_type": "code",
   "execution_count": 26,
   "id": "3182267b",
   "metadata": {},
   "outputs": [
    {
     "name": "stderr",
     "output_type": "stream",
     "text": [
      "C:\\ProgramData\\Anaconda3\\lib\\site-packages\\seaborn\\_decorators.py:36: FutureWarning: Pass the following variable as a keyword arg: x. From version 0.12, the only valid positional argument will be `data`, and passing other arguments without an explicit keyword will result in an error or misinterpretation.\n",
      "  warnings.warn(\n",
      "C:\\ProgramData\\Anaconda3\\lib\\site-packages\\seaborn\\_decorators.py:36: FutureWarning: Pass the following variable as a keyword arg: x. From version 0.12, the only valid positional argument will be `data`, and passing other arguments without an explicit keyword will result in an error or misinterpretation.\n",
      "  warnings.warn(\n"
     ]
    },
    {
     "data": {
      "image/png": "[encoded data removed]",
      "text/plain": [
       "<Figure size 1152x432 with 2 Axes>"
      ]
     },
     "metadata": {
      "needs_background": "light"
     },
     "output_type": "display_data"
    }
   ],
   "source": [
    "plt.figure(figsize=(16,6))\n",
    "\n",
    "plt.subplot(1,2,1)\n",
    "sns.countplot(pr_no['STDNT_BACKGROUND'], hue=pr_no['STDNT_GENDER'])\n",
    "\n",
    "plt.subplot(1,2,2)\n",
    "sns.countplot(pr_yes['STDNT_BACKGROUND'], hue=pr_yes['STDNT_GENDER'])\n",
    "plt.show()\n",
    "\n",
    "#Gender vs Bckground vs target"
   ]
  },
  {
   "cell_type": "markdown",
   "id": "f42b3d05",
   "metadata": {},
   "source": [
    "# IN_STATE_FLAG"
   ]
  },
  {
   "cell_type": "code",
   "execution_count": 27,
   "id": "65ec144b",
   "metadata": {},
   "outputs": [
    {
     "data": {
      "text/plain": [
       "Y    3063\n",
       "N     337\n",
       "Name: IN_STATE_FLAG, dtype: int64"
      ]
     },
     "execution_count": 27,
     "metadata": {},
     "output_type": "execute_result"
    }
   ],
   "source": [
    "pr['IN_STATE_FLAG'].value_counts()"
   ]
  },
  {
   "cell_type": "code",
   "execution_count": 28,
   "id": "9fd8a969",
   "metadata": {},
   "outputs": [
    {
     "data": {
      "text/plain": [
       "Y    90.088235\n",
       "N     9.911765\n",
       "Name: IN_STATE_FLAG, dtype: float64"
      ]
     },
     "execution_count": 28,
     "metadata": {},
     "output_type": "execute_result"
    }
   ],
   "source": [
    "pr['IN_STATE_FLAG'].value_counts(normalize=True)*100"
   ]
  },
  {
   "cell_type": "code",
   "execution_count": 29,
   "id": "f6e3209f",
   "metadata": {},
   "outputs": [
    {
     "name": "stderr",
     "output_type": "stream",
     "text": [
      "C:\\ProgramData\\Anaconda3\\lib\\site-packages\\seaborn\\_decorators.py:36: FutureWarning: Pass the following variable as a keyword arg: x. From version 0.12, the only valid positional argument will be `data`, and passing other arguments without an explicit keyword will result in an error or misinterpretation.\n",
      "  warnings.warn(\n",
      "C:\\ProgramData\\Anaconda3\\lib\\site-packages\\seaborn\\_decorators.py:36: FutureWarning: Pass the following variable as a keyword arg: x. From version 0.12, the only valid positional argument will be `data`, and passing other arguments without an explicit keyword will result in an error or misinterpretation.\n",
      "  warnings.warn(\n"
     ]
    },
    {
     "data": {
      "image/png": "[encoded data removed]",
      "text/plain": [
       "<Figure size 1440x720 with 3 Axes>"
      ]
     },
     "metadata": {
      "needs_background": "light"
     },
     "output_type": "display_data"
    }
   ],
   "source": [
    "plt.figure(figsize=(20,10))\n",
    "\n",
    "plt.subplot(1,3,1)\n",
    "sns.countplot(pr['IN_STATE_FLAG'])\n",
    "plt.title('Bar graph')\n",
    "\n",
    "plt.subplot(1,3,2)\n",
    "plt.pie(pr['IN_STATE_FLAG'].value_counts(),explode=[0.05,0], colors=[ 'lightskyblue', 'orange'], labels=['YES', 'NO'], autopct='%.2f%%')\n",
    "plt.title('Pie chart')\n",
    "\n",
    "plt.subplot(1,3,3)\n",
    "sns.countplot(pr['IN_STATE_FLAG'], hue=pr['Attrition'])\n",
    "\n",
    "plt.show()\n",
    "\n",
    "#many are from same state and many student have left the course"
   ]
  },
  {
   "cell_type": "code",
   "execution_count": 30,
   "id": "0b82afd1",
   "metadata": {},
   "outputs": [
    {
     "data": {
      "text/html": [
       "<div>\n",
       "<style scoped>\n",
       "    .dataframe tbody tr th:only-of-type {\n",
       "        vertical-align: middle;\n",
       "    }\n",
       "\n",
       "    .dataframe tbody tr th {\n",
       "        vertical-align: top;\n",
       "    }\n",
       "\n",
       "    .dataframe thead th {\n",
       "        text-align: right;\n",
       "    }\n",
       "</style>\n",
       "<table border=\"1\" class=\"dataframe\">\n",
       "  <thead>\n",
       "    <tr style=\"text-align: right;\">\n",
       "      <th>Attrition</th>\n",
       "      <th>0</th>\n",
       "      <th>1</th>\n",
       "    </tr>\n",
       "    <tr>\n",
       "      <th>IN_STATE_FLAG</th>\n",
       "      <th></th>\n",
       "      <th></th>\n",
       "    </tr>\n",
       "  </thead>\n",
       "  <tbody>\n",
       "    <tr>\n",
       "      <th>N</th>\n",
       "      <td>0.735905</td>\n",
       "      <td>0.264095</td>\n",
       "    </tr>\n",
       "    <tr>\n",
       "      <th>Y</th>\n",
       "      <td>0.793013</td>\n",
       "      <td>0.206987</td>\n",
       "    </tr>\n",
       "  </tbody>\n",
       "</table>\n",
       "</div>"
      ],
      "text/plain": [
       "Attrition             0         1\n",
       "IN_STATE_FLAG                    \n",
       "N              0.735905  0.264095\n",
       "Y              0.793013  0.206987"
      ]
     },
     "execution_count": 30,
     "metadata": {},
     "output_type": "execute_result"
    }
   ],
   "source": [
    "pd.crosstab(pr['IN_STATE_FLAG'], pr['Attrition'], normalize='index')"
   ]
  },
  {
   "cell_type": "markdown",
   "id": "92c2b455",
   "metadata": {},
   "source": [
    "# INTERNATIONAL_STS"
   ]
  },
  {
   "cell_type": "code",
   "execution_count": 31,
   "id": "c3315bb8",
   "metadata": {},
   "outputs": [
    {
     "data": {
      "text/plain": [
       "N    3373\n",
       "Y      27\n",
       "Name: INTERNATIONAL_STS, dtype: int64"
      ]
     },
     "execution_count": 31,
     "metadata": {},
     "output_type": "execute_result"
    }
   ],
   "source": [
    "pr['INTERNATIONAL_STS'].value_counts()"
   ]
  },
  {
   "cell_type": "code",
   "execution_count": 32,
   "id": "5fe17f94",
   "metadata": {},
   "outputs": [
    {
     "data": {
      "text/plain": [
       "Y    90.088235\n",
       "N     9.911765\n",
       "Name: IN_STATE_FLAG, dtype: float64"
      ]
     },
     "execution_count": 32,
     "metadata": {},
     "output_type": "execute_result"
    }
   ],
   "source": [
    "pr['IN_STATE_FLAG'].value_counts(normalize=True) * 100"
   ]
  },
  {
   "cell_type": "code",
   "execution_count": 33,
   "id": "2ec6f5a7",
   "metadata": {},
   "outputs": [
    {
     "data": {
      "text/html": [
       "<div>\n",
       "<style scoped>\n",
       "    .dataframe tbody tr th:only-of-type {\n",
       "        vertical-align: middle;\n",
       "    }\n",
       "\n",
       "    .dataframe tbody tr th {\n",
       "        vertical-align: top;\n",
       "    }\n",
       "\n",
       "    .dataframe thead th {\n",
       "        text-align: right;\n",
       "    }\n",
       "</style>\n",
       "<table border=\"1\" class=\"dataframe\">\n",
       "  <thead>\n",
       "    <tr style=\"text-align: right;\">\n",
       "      <th>Attrition</th>\n",
       "      <th>0</th>\n",
       "      <th>1</th>\n",
       "    </tr>\n",
       "    <tr>\n",
       "      <th>IN_STATE_FLAG</th>\n",
       "      <th></th>\n",
       "      <th></th>\n",
       "    </tr>\n",
       "  </thead>\n",
       "  <tbody>\n",
       "    <tr>\n",
       "      <th>N</th>\n",
       "      <td>0.735905</td>\n",
       "      <td>0.264095</td>\n",
       "    </tr>\n",
       "    <tr>\n",
       "      <th>Y</th>\n",
       "      <td>0.793013</td>\n",
       "      <td>0.206987</td>\n",
       "    </tr>\n",
       "  </tbody>\n",
       "</table>\n",
       "</div>"
      ],
      "text/plain": [
       "Attrition             0         1\n",
       "IN_STATE_FLAG                    \n",
       "N              0.735905  0.264095\n",
       "Y              0.793013  0.206987"
      ]
     },
     "execution_count": 33,
     "metadata": {},
     "output_type": "execute_result"
    }
   ],
   "source": [
    "pd.crosstab(pr['IN_STATE_FLAG'], pr['Attrition'], normalize='index')"
   ]
  },
  {
   "cell_type": "code",
   "execution_count": 34,
   "id": "06ca3d08",
   "metadata": {},
   "outputs": [
    {
     "name": "stderr",
     "output_type": "stream",
     "text": [
      "C:\\ProgramData\\Anaconda3\\lib\\site-packages\\seaborn\\_decorators.py:36: FutureWarning: Pass the following variable as a keyword arg: x. From version 0.12, the only valid positional argument will be `data`, and passing other arguments without an explicit keyword will result in an error or misinterpretation.\n",
      "  warnings.warn(\n",
      "C:\\ProgramData\\Anaconda3\\lib\\site-packages\\seaborn\\_decorators.py:36: FutureWarning: Pass the following variable as a keyword arg: x. From version 0.12, the only valid positional argument will be `data`, and passing other arguments without an explicit keyword will result in an error or misinterpretation.\n",
      "  warnings.warn(\n"
     ]
    },
    {
     "data": {
      "image/png": "[encoded data removed]",
      "text/plain": [
       "<Figure size 1440x720 with 3 Axes>"
      ]
     },
     "metadata": {
      "needs_background": "light"
     },
     "output_type": "display_data"
    }
   ],
   "source": [
    "plt.figure(figsize=(20,10))\n",
    "\n",
    "plt.subplot(1,3,1)\n",
    "sns.countplot(pr['IN_STATE_FLAG'])\n",
    "plt.title('Bar graph')\n",
    "\n",
    "plt.subplot(1,3,2)\n",
    "plt.pie(pr['IN_STATE_FLAG'].value_counts(),explode=[0.05,0], colors=[ 'lightskyblue', 'orange'], labels=['YES', 'NO'], autopct='%.2f%%')\n",
    "plt.title('Pie chart')\n",
    "\n",
    "plt.subplot(1,3,3)\n",
    "sns.countplot(pr['IN_STATE_FLAG'], hue=pr['Attrition'])\n",
    "\n",
    "plt.show()\n",
    "\n",
    "#many are from same state and many student have left the course"
   ]
  },
  {
   "cell_type": "markdown",
   "id": "cccfc0c6",
   "metadata": {},
   "source": [
    "# INTERNATIONAL_STS"
   ]
  },
  {
   "cell_type": "code",
   "execution_count": 35,
   "id": "8fc40b4e",
   "metadata": {},
   "outputs": [
    {
     "data": {
      "text/plain": [
       "N    3373\n",
       "Y      27\n",
       "Name: INTERNATIONAL_STS, dtype: int64"
      ]
     },
     "execution_count": 35,
     "metadata": {},
     "output_type": "execute_result"
    }
   ],
   "source": [
    "pr['INTERNATIONAL_STS'].value_counts()"
   ]
  },
  {
   "cell_type": "code",
   "execution_count": 36,
   "id": "c574cb96",
   "metadata": {},
   "outputs": [
    {
     "data": {
      "text/plain": [
       "N    99.205882\n",
       "Y     0.794118\n",
       "Name: INTERNATIONAL_STS, dtype: float64"
      ]
     },
     "execution_count": 36,
     "metadata": {},
     "output_type": "execute_result"
    }
   ],
   "source": [
    "pr['INTERNATIONAL_STS'].value_counts(normalize=True) * 100\n",
    "\n",
    "#we can ignore this feature, but we can analyse with target once"
   ]
  },
  {
   "cell_type": "code",
   "execution_count": 37,
   "id": "fd5e5160",
   "metadata": {},
   "outputs": [
    {
     "data": {
      "text/html": [
       "<div>\n",
       "<style scoped>\n",
       "    .dataframe tbody tr th:only-of-type {\n",
       "        vertical-align: middle;\n",
       "    }\n",
       "\n",
       "    .dataframe tbody tr th {\n",
       "        vertical-align: top;\n",
       "    }\n",
       "\n",
       "    .dataframe thead th {\n",
       "        text-align: right;\n",
       "    }\n",
       "</style>\n",
       "<table border=\"1\" class=\"dataframe\">\n",
       "  <thead>\n",
       "    <tr style=\"text-align: right;\">\n",
       "      <th>Attrition</th>\n",
       "      <th>0</th>\n",
       "      <th>1</th>\n",
       "    </tr>\n",
       "    <tr>\n",
       "      <th>INTERNATIONAL_STS</th>\n",
       "      <th></th>\n",
       "      <th></th>\n",
       "    </tr>\n",
       "  </thead>\n",
       "  <tbody>\n",
       "    <tr>\n",
       "      <th>N</th>\n",
       "      <td>2662</td>\n",
       "      <td>711</td>\n",
       "    </tr>\n",
       "    <tr>\n",
       "      <th>Y</th>\n",
       "      <td>15</td>\n",
       "      <td>12</td>\n",
       "    </tr>\n",
       "  </tbody>\n",
       "</table>\n",
       "</div>"
      ],
      "text/plain": [
       "Attrition             0    1\n",
       "INTERNATIONAL_STS           \n",
       "N                  2662  711\n",
       "Y                    15   12"
      ]
     },
     "execution_count": 37,
     "metadata": {},
     "output_type": "execute_result"
    }
   ],
   "source": [
    "pd.crosstab(pr['INTERNATIONAL_STS'], pr['Attrition'])"
   ]
  },
  {
   "cell_type": "code",
   "execution_count": 38,
   "id": "87278e6c",
   "metadata": {},
   "outputs": [
    {
     "name": "stderr",
     "output_type": "stream",
     "text": [
      "C:\\ProgramData\\Anaconda3\\lib\\site-packages\\seaborn\\_decorators.py:36: FutureWarning: Pass the following variable as a keyword arg: x. From version 0.12, the only valid positional argument will be `data`, and passing other arguments without an explicit keyword will result in an error or misinterpretation.\n",
      "  warnings.warn(\n",
      "C:\\ProgramData\\Anaconda3\\lib\\site-packages\\seaborn\\_decorators.py:36: FutureWarning: Pass the following variable as a keyword arg: x. From version 0.12, the only valid positional argument will be `data`, and passing other arguments without an explicit keyword will result in an error or misinterpretation.\n",
      "  warnings.warn(\n"
     ]
    },
    {
     "data": {
      "image/png": "[encoded data removed]",
      "text/plain": [
       "<Figure size 1440x720 with 3 Axes>"
      ]
     },
     "metadata": {
      "needs_background": "light"
     },
     "output_type": "display_data"
    }
   ],
   "source": [
    "plt.figure(figsize=(20,10))\n",
    "\n",
    "plt.subplot(1,3,1)\n",
    "sns.countplot(pr['INTERNATIONAL_STS'])\n",
    "plt.title('Bar graph')\n",
    "\n",
    "plt.subplot(1,3,2)\n",
    "plt.pie(pr['INTERNATIONAL_STS'].value_counts(),explode=[0.05,0], colors=[ 'lightskyblue', 'orange'], labels=['NO', 'YES'], autopct='%.2f%%')\n",
    "plt.title('Pie chart')\n",
    "\n",
    "plt.subplot(1,3,3)\n",
    "sns.countplot(pr['INTERNATIONAL_STS'], hue=pr['Attrition'])\n",
    "\n",
    "plt.show()\n",
    "\n",
    "#many are from same state and many student have left the course\n"
   ]
  },
  {
   "cell_type": "markdown",
   "id": "2a30f7fd",
   "metadata": {},
   "source": [
    "# STDNT_MAJOR"
   ]
  },
  {
   "cell_type": "code",
   "execution_count": 39,
   "id": "2804aa9a",
   "metadata": {},
   "outputs": [
    {
     "data": {
      "text/plain": [
       "0"
      ]
     },
     "execution_count": 39,
     "metadata": {},
     "output_type": "execute_result"
    }
   ],
   "source": [
    "pr['STDNT_MAJOR'].isnull().sum()"
   ]
  },
  {
   "cell_type": "code",
   "execution_count": 40,
   "id": "971216f7",
   "metadata": {},
   "outputs": [
    {
     "data": {
      "text/plain": [
       "Undeclared                        460\n",
       "Biology                           362\n",
       "Early Childhood Education         190\n",
       "Pre-Nursing                       177\n",
       "Nursing                           164\n",
       "Psychology                        155\n",
       "Pre-Business                      133\n",
       "Theatre Arts                      131\n",
       "Music Performance                  99\n",
       "Criminal Justice                   98\n",
       "Music Education                    96\n",
       "General Business                   85\n",
       "Exercise Science                   81\n",
       "Art                                75\n",
       "Management                         72\n",
       "Communication                      70\n",
       "Political Science                  64\n",
       "Chemistry                          64\n",
       "English Language/Literature        60\n",
       "Engineering Studies                60\n",
       "Marketing                          59\n",
       "Computer Science - Systems         58\n",
       "Accounting                         54\n",
       "Health Science                     48\n",
       "Computer Science - Games           40\n",
       "Joint Enrollment - Accel           35\n",
       "History                            33\n",
       "Applied Computer Science           32\n",
       "Theatre Education                  29\n",
       "English and Secondary Ed           28\n",
       "Pre-Engineering/RETP               27\n",
       "History and Secondary Ed           27\n",
       "Mathematics                        26\n",
       "Finance                            24\n",
       "Management Information Systems     21\n",
       "Sociology                          20\n",
       "Health and Physical Education      20\n",
       "Middle Grades Education            17\n",
       "Music                              17\n",
       "Spec Ed: Gen. Curr. - Reading      13\n",
       "General Studies/AS                 12\n",
       "Mathematics and Secondary Ed       11\n",
       "Information Technology             10\n",
       "Art Education                       9\n",
       "Biology and Secondary Ed            5\n",
       "Spanish                             5\n",
       "Spanish with Teacher Cert           4\n",
       "French with Teacher Cert            4\n",
       "Geology                             4\n",
       "French                              4\n",
       "Early Admission - Accel             3\n",
       "Chemistry and Secondary Ed          2\n",
       "Earth and Space Science             2\n",
       "Liberal Arts                        1\n",
       "Name: STDNT_MAJOR, dtype: int64"
      ]
     },
     "execution_count": 40,
     "metadata": {},
     "output_type": "execute_result"
    }
   ],
   "source": [
    "pr['STDNT_MAJOR'].value_counts()\n",
    "\n",
    "#Many of the students have not declared there majir subject, "
   ]
  },
  {
   "cell_type": "code",
   "execution_count": 41,
   "id": "eb9aba11",
   "metadata": {},
   "outputs": [
    {
     "data": {
      "text/html": [
       "<div>\n",
       "<style scoped>\n",
       "    .dataframe tbody tr th:only-of-type {\n",
       "        vertical-align: middle;\n",
       "    }\n",
       "\n",
       "    .dataframe tbody tr th {\n",
       "        vertical-align: top;\n",
       "    }\n",
       "\n",
       "    .dataframe thead th {\n",
       "        text-align: right;\n",
       "    }\n",
       "</style>\n",
       "<table border=\"1\" class=\"dataframe\">\n",
       "  <thead>\n",
       "    <tr style=\"text-align: right;\">\n",
       "      <th>Attrition</th>\n",
       "      <th>0</th>\n",
       "      <th>1</th>\n",
       "    </tr>\n",
       "    <tr>\n",
       "      <th>STDNT_MAJOR</th>\n",
       "      <th></th>\n",
       "      <th></th>\n",
       "    </tr>\n",
       "  </thead>\n",
       "  <tbody>\n",
       "    <tr>\n",
       "      <th>Accounting</th>\n",
       "      <td>42</td>\n",
       "      <td>12</td>\n",
       "    </tr>\n",
       "    <tr>\n",
       "      <th>Applied Computer Science</th>\n",
       "      <td>27</td>\n",
       "      <td>5</td>\n",
       "    </tr>\n",
       "    <tr>\n",
       "      <th>Art</th>\n",
       "      <td>57</td>\n",
       "      <td>18</td>\n",
       "    </tr>\n",
       "    <tr>\n",
       "      <th>Art Education</th>\n",
       "      <td>7</td>\n",
       "      <td>2</td>\n",
       "    </tr>\n",
       "    <tr>\n",
       "      <th>Biology</th>\n",
       "      <td>280</td>\n",
       "      <td>82</td>\n",
       "    </tr>\n",
       "    <tr>\n",
       "      <th>Biology and Secondary Ed</th>\n",
       "      <td>2</td>\n",
       "      <td>3</td>\n",
       "    </tr>\n",
       "    <tr>\n",
       "      <th>Chemistry</th>\n",
       "      <td>54</td>\n",
       "      <td>10</td>\n",
       "    </tr>\n",
       "    <tr>\n",
       "      <th>Chemistry and Secondary Ed</th>\n",
       "      <td>2</td>\n",
       "      <td>0</td>\n",
       "    </tr>\n",
       "    <tr>\n",
       "      <th>Communication</th>\n",
       "      <td>56</td>\n",
       "      <td>14</td>\n",
       "    </tr>\n",
       "    <tr>\n",
       "      <th>Computer Science - Games</th>\n",
       "      <td>26</td>\n",
       "      <td>14</td>\n",
       "    </tr>\n",
       "    <tr>\n",
       "      <th>Computer Science - Systems</th>\n",
       "      <td>49</td>\n",
       "      <td>9</td>\n",
       "    </tr>\n",
       "    <tr>\n",
       "      <th>Criminal Justice</th>\n",
       "      <td>69</td>\n",
       "      <td>29</td>\n",
       "    </tr>\n",
       "    <tr>\n",
       "      <th>Early Admission - Accel</th>\n",
       "      <td>3</td>\n",
       "      <td>0</td>\n",
       "    </tr>\n",
       "    <tr>\n",
       "      <th>Early Childhood Education</th>\n",
       "      <td>153</td>\n",
       "      <td>37</td>\n",
       "    </tr>\n",
       "    <tr>\n",
       "      <th>Earth and Space Science</th>\n",
       "      <td>1</td>\n",
       "      <td>1</td>\n",
       "    </tr>\n",
       "    <tr>\n",
       "      <th>Engineering Studies</th>\n",
       "      <td>45</td>\n",
       "      <td>15</td>\n",
       "    </tr>\n",
       "    <tr>\n",
       "      <th>English Language/Literature</th>\n",
       "      <td>51</td>\n",
       "      <td>9</td>\n",
       "    </tr>\n",
       "    <tr>\n",
       "      <th>English and Secondary Ed</th>\n",
       "      <td>24</td>\n",
       "      <td>4</td>\n",
       "    </tr>\n",
       "    <tr>\n",
       "      <th>Exercise Science</th>\n",
       "      <td>62</td>\n",
       "      <td>19</td>\n",
       "    </tr>\n",
       "    <tr>\n",
       "      <th>Finance</th>\n",
       "      <td>16</td>\n",
       "      <td>8</td>\n",
       "    </tr>\n",
       "    <tr>\n",
       "      <th>French</th>\n",
       "      <td>3</td>\n",
       "      <td>1</td>\n",
       "    </tr>\n",
       "    <tr>\n",
       "      <th>French with Teacher Cert</th>\n",
       "      <td>3</td>\n",
       "      <td>1</td>\n",
       "    </tr>\n",
       "    <tr>\n",
       "      <th>General Business</th>\n",
       "      <td>73</td>\n",
       "      <td>12</td>\n",
       "    </tr>\n",
       "    <tr>\n",
       "      <th>General Studies/AS</th>\n",
       "      <td>10</td>\n",
       "      <td>2</td>\n",
       "    </tr>\n",
       "    <tr>\n",
       "      <th>Geology</th>\n",
       "      <td>4</td>\n",
       "      <td>0</td>\n",
       "    </tr>\n",
       "    <tr>\n",
       "      <th>Health Science</th>\n",
       "      <td>42</td>\n",
       "      <td>6</td>\n",
       "    </tr>\n",
       "    <tr>\n",
       "      <th>Health and Physical Education</th>\n",
       "      <td>15</td>\n",
       "      <td>5</td>\n",
       "    </tr>\n",
       "    <tr>\n",
       "      <th>History</th>\n",
       "      <td>25</td>\n",
       "      <td>8</td>\n",
       "    </tr>\n",
       "    <tr>\n",
       "      <th>History and Secondary Ed</th>\n",
       "      <td>20</td>\n",
       "      <td>7</td>\n",
       "    </tr>\n",
       "    <tr>\n",
       "      <th>Information Technology</th>\n",
       "      <td>7</td>\n",
       "      <td>3</td>\n",
       "    </tr>\n",
       "    <tr>\n",
       "      <th>Joint Enrollment - Accel</th>\n",
       "      <td>35</td>\n",
       "      <td>0</td>\n",
       "    </tr>\n",
       "    <tr>\n",
       "      <th>Liberal Arts</th>\n",
       "      <td>1</td>\n",
       "      <td>0</td>\n",
       "    </tr>\n",
       "    <tr>\n",
       "      <th>Management</th>\n",
       "      <td>57</td>\n",
       "      <td>15</td>\n",
       "    </tr>\n",
       "    <tr>\n",
       "      <th>Management Information Systems</th>\n",
       "      <td>14</td>\n",
       "      <td>7</td>\n",
       "    </tr>\n",
       "    <tr>\n",
       "      <th>Marketing</th>\n",
       "      <td>44</td>\n",
       "      <td>15</td>\n",
       "    </tr>\n",
       "    <tr>\n",
       "      <th>Mathematics</th>\n",
       "      <td>20</td>\n",
       "      <td>6</td>\n",
       "    </tr>\n",
       "    <tr>\n",
       "      <th>Mathematics and Secondary Ed</th>\n",
       "      <td>10</td>\n",
       "      <td>1</td>\n",
       "    </tr>\n",
       "    <tr>\n",
       "      <th>Middle Grades Education</th>\n",
       "      <td>14</td>\n",
       "      <td>3</td>\n",
       "    </tr>\n",
       "    <tr>\n",
       "      <th>Music</th>\n",
       "      <td>11</td>\n",
       "      <td>6</td>\n",
       "    </tr>\n",
       "    <tr>\n",
       "      <th>Music Education</th>\n",
       "      <td>88</td>\n",
       "      <td>8</td>\n",
       "    </tr>\n",
       "    <tr>\n",
       "      <th>Music Performance</th>\n",
       "      <td>87</td>\n",
       "      <td>12</td>\n",
       "    </tr>\n",
       "    <tr>\n",
       "      <th>Nursing</th>\n",
       "      <td>127</td>\n",
       "      <td>37</td>\n",
       "    </tr>\n",
       "    <tr>\n",
       "      <th>Political Science</th>\n",
       "      <td>50</td>\n",
       "      <td>14</td>\n",
       "    </tr>\n",
       "    <tr>\n",
       "      <th>Pre-Business</th>\n",
       "      <td>101</td>\n",
       "      <td>32</td>\n",
       "    </tr>\n",
       "    <tr>\n",
       "      <th>Pre-Engineering/RETP</th>\n",
       "      <td>20</td>\n",
       "      <td>7</td>\n",
       "    </tr>\n",
       "    <tr>\n",
       "      <th>Pre-Nursing</th>\n",
       "      <td>130</td>\n",
       "      <td>47</td>\n",
       "    </tr>\n",
       "    <tr>\n",
       "      <th>Psychology</th>\n",
       "      <td>112</td>\n",
       "      <td>43</td>\n",
       "    </tr>\n",
       "    <tr>\n",
       "      <th>Sociology</th>\n",
       "      <td>16</td>\n",
       "      <td>4</td>\n",
       "    </tr>\n",
       "    <tr>\n",
       "      <th>Spanish</th>\n",
       "      <td>5</td>\n",
       "      <td>0</td>\n",
       "    </tr>\n",
       "    <tr>\n",
       "      <th>Spanish with Teacher Cert</th>\n",
       "      <td>3</td>\n",
       "      <td>1</td>\n",
       "    </tr>\n",
       "    <tr>\n",
       "      <th>Spec Ed: Gen. Curr. - Reading</th>\n",
       "      <td>10</td>\n",
       "      <td>3</td>\n",
       "    </tr>\n",
       "    <tr>\n",
       "      <th>Theatre Arts</th>\n",
       "      <td>119</td>\n",
       "      <td>12</td>\n",
       "    </tr>\n",
       "    <tr>\n",
       "      <th>Theatre Education</th>\n",
       "      <td>26</td>\n",
       "      <td>3</td>\n",
       "    </tr>\n",
       "    <tr>\n",
       "      <th>Undeclared</th>\n",
       "      <td>349</td>\n",
       "      <td>111</td>\n",
       "    </tr>\n",
       "  </tbody>\n",
       "</table>\n",
       "</div>"
      ],
      "text/plain": [
       "Attrition                         0    1\n",
       "STDNT_MAJOR                             \n",
       "Accounting                       42   12\n",
       "Applied Computer Science         27    5\n",
       "Art                              57   18\n",
       "Art Education                     7    2\n",
       "Biology                         280   82\n",
       "Biology and Secondary Ed          2    3\n",
       "Chemistry                        54   10\n",
       "Chemistry and Secondary Ed        2    0\n",
       "Communication                    56   14\n",
       "Computer Science - Games         26   14\n",
       "Computer Science - Systems       49    9\n",
       "Criminal Justice                 69   29\n",
       "Early Admission - Accel           3    0\n",
       "Early Childhood Education       153   37\n",
       "Earth and Space Science           1    1\n",
       "Engineering Studies              45   15\n",
       "English Language/Literature      51    9\n",
       "English and Secondary Ed         24    4\n",
       "Exercise Science                 62   19\n",
       "Finance                          16    8\n",
       "French                            3    1\n",
       "French with Teacher Cert          3    1\n",
       "General Business                 73   12\n",
       "General Studies/AS               10    2\n",
       "Geology                           4    0\n",
       "Health Science                   42    6\n",
       "Health and Physical Education    15    5\n",
       "History                          25    8\n",
       "History and Secondary Ed         20    7\n",
       "Information Technology            7    3\n",
       "Joint Enrollment - Accel         35    0\n",
       "Liberal Arts                      1    0\n",
       "Management                       57   15\n",
       "Management Information Systems   14    7\n",
       "Marketing                        44   15\n",
       "Mathematics                      20    6\n",
       "Mathematics and Secondary Ed     10    1\n",
       "Middle Grades Education          14    3\n",
       "Music                            11    6\n",
       "Music Education                  88    8\n",
       "Music Performance                87   12\n",
       "Nursing                         127   37\n",
       "Political Science                50   14\n",
       "Pre-Business                    101   32\n",
       "Pre-Engineering/RETP             20    7\n",
       "Pre-Nursing                     130   47\n",
       "Psychology                      112   43\n",
       "Sociology                        16    4\n",
       "Spanish                           5    0\n",
       "Spanish with Teacher Cert         3    1\n",
       "Spec Ed: Gen. Curr. - Reading    10    3\n",
       "Theatre Arts                    119   12\n",
       "Theatre Education                26    3\n",
       "Undeclared                      349  111"
      ]
     },
     "execution_count": 41,
     "metadata": {},
     "output_type": "execute_result"
    }
   ],
   "source": [
    "pd.crosstab(pr['STDNT_MAJOR'], pr['Attrition'])"
   ]
  },
  {
   "cell_type": "markdown",
   "id": "9137792f",
   "metadata": {},
   "source": [
    "# STDNT_MINOR"
   ]
  },
  {
   "cell_type": "code",
   "execution_count": 42,
   "id": "005111ba",
   "metadata": {},
   "outputs": [
    {
     "data": {
      "text/plain": [
       "N                                92.941176\n",
       "Spanish                           0.764706\n",
       "Psychology                        0.558824\n",
       "Music                             0.558824\n",
       "Foundations of Business           0.441176\n",
       "Communication                     0.411765\n",
       "History                           0.382353\n",
       "Theatre Arts                      0.352941\n",
       "Criminal Justice                  0.352941\n",
       "Computer Science - Systems        0.294118\n",
       "Early Childhood Education         0.264706\n",
       "Mathematics                       0.205882\n",
       "Professional Writing              0.176471\n",
       "Marketing                         0.176471\n",
       "Art History                       0.176471\n",
       "Art                               0.147059\n",
       "Sociology                         0.147059\n",
       "English Language/Literature       0.147059\n",
       "Political Science                 0.117647\n",
       "Chemistry                         0.117647\n",
       "Accounting                        0.117647\n",
       "Biology                           0.117647\n",
       "French                            0.117647\n",
       "Computer Info. Management         0.088235\n",
       "Exercise Science                  0.088235\n",
       "International Business            0.088235\n",
       "Economics                         0.088235\n",
       "Health Science                    0.088235\n",
       "Asian Studies                     0.058824\n",
       "Creative Writing                  0.058824\n",
       "Military Sci & Adv Leadership     0.058824\n",
       "African Studies                   0.058824\n",
       "Management                        0.058824\n",
       "Anthropology                      0.058824\n",
       "Philosophy                        0.058824\n",
       "Women's Studies                   0.029412\n",
       "Finance                           0.029412\n",
       "Name: STDNT_MINOR, dtype: float64"
      ]
     },
     "execution_count": 42,
     "metadata": {},
     "output_type": "execute_result"
    }
   ],
   "source": [
    "pr['STDNT_MINOR'].value_counts(normalize=True) * 100\n",
    "\n",
    "#93% students have no minor subject"
   ]
  },
  {
   "cell_type": "code",
   "execution_count": 43,
   "id": "816e8c3f",
   "metadata": {},
   "outputs": [
    {
     "data": {
      "text/html": [
       "<div>\n",
       "<style scoped>\n",
       "    .dataframe tbody tr th:only-of-type {\n",
       "        vertical-align: middle;\n",
       "    }\n",
       "\n",
       "    .dataframe tbody tr th {\n",
       "        vertical-align: top;\n",
       "    }\n",
       "\n",
       "    .dataframe thead th {\n",
       "        text-align: right;\n",
       "    }\n",
       "</style>\n",
       "<table border=\"1\" class=\"dataframe\">\n",
       "  <thead>\n",
       "    <tr style=\"text-align: right;\">\n",
       "      <th>Attrition</th>\n",
       "      <th>0</th>\n",
       "      <th>1</th>\n",
       "    </tr>\n",
       "    <tr>\n",
       "      <th>STDNT_MINOR</th>\n",
       "      <th></th>\n",
       "      <th></th>\n",
       "    </tr>\n",
       "  </thead>\n",
       "  <tbody>\n",
       "    <tr>\n",
       "      <th>Accounting</th>\n",
       "      <td>3</td>\n",
       "      <td>1</td>\n",
       "    </tr>\n",
       "    <tr>\n",
       "      <th>African Studies</th>\n",
       "      <td>2</td>\n",
       "      <td>0</td>\n",
       "    </tr>\n",
       "    <tr>\n",
       "      <th>Anthropology</th>\n",
       "      <td>2</td>\n",
       "      <td>0</td>\n",
       "    </tr>\n",
       "    <tr>\n",
       "      <th>Art</th>\n",
       "      <td>3</td>\n",
       "      <td>2</td>\n",
       "    </tr>\n",
       "    <tr>\n",
       "      <th>Art History</th>\n",
       "      <td>4</td>\n",
       "      <td>2</td>\n",
       "    </tr>\n",
       "    <tr>\n",
       "      <th>Asian Studies</th>\n",
       "      <td>2</td>\n",
       "      <td>0</td>\n",
       "    </tr>\n",
       "    <tr>\n",
       "      <th>Biology</th>\n",
       "      <td>3</td>\n",
       "      <td>1</td>\n",
       "    </tr>\n",
       "    <tr>\n",
       "      <th>Chemistry</th>\n",
       "      <td>4</td>\n",
       "      <td>0</td>\n",
       "    </tr>\n",
       "    <tr>\n",
       "      <th>Communication</th>\n",
       "      <td>13</td>\n",
       "      <td>1</td>\n",
       "    </tr>\n",
       "    <tr>\n",
       "      <th>Computer Info. Management</th>\n",
       "      <td>3</td>\n",
       "      <td>0</td>\n",
       "    </tr>\n",
       "    <tr>\n",
       "      <th>Computer Science - Systems</th>\n",
       "      <td>8</td>\n",
       "      <td>2</td>\n",
       "    </tr>\n",
       "    <tr>\n",
       "      <th>Creative Writing</th>\n",
       "      <td>1</td>\n",
       "      <td>1</td>\n",
       "    </tr>\n",
       "    <tr>\n",
       "      <th>Criminal Justice</th>\n",
       "      <td>8</td>\n",
       "      <td>4</td>\n",
       "    </tr>\n",
       "    <tr>\n",
       "      <th>Early Childhood Education</th>\n",
       "      <td>7</td>\n",
       "      <td>2</td>\n",
       "    </tr>\n",
       "    <tr>\n",
       "      <th>Economics</th>\n",
       "      <td>2</td>\n",
       "      <td>1</td>\n",
       "    </tr>\n",
       "    <tr>\n",
       "      <th>English Language/Literature</th>\n",
       "      <td>1</td>\n",
       "      <td>4</td>\n",
       "    </tr>\n",
       "    <tr>\n",
       "      <th>Exercise Science</th>\n",
       "      <td>2</td>\n",
       "      <td>1</td>\n",
       "    </tr>\n",
       "    <tr>\n",
       "      <th>Finance</th>\n",
       "      <td>1</td>\n",
       "      <td>0</td>\n",
       "    </tr>\n",
       "    <tr>\n",
       "      <th>Foundations of Business</th>\n",
       "      <td>13</td>\n",
       "      <td>2</td>\n",
       "    </tr>\n",
       "    <tr>\n",
       "      <th>French</th>\n",
       "      <td>3</td>\n",
       "      <td>1</td>\n",
       "    </tr>\n",
       "    <tr>\n",
       "      <th>Health Science</th>\n",
       "      <td>3</td>\n",
       "      <td>0</td>\n",
       "    </tr>\n",
       "    <tr>\n",
       "      <th>History</th>\n",
       "      <td>11</td>\n",
       "      <td>2</td>\n",
       "    </tr>\n",
       "    <tr>\n",
       "      <th>International Business</th>\n",
       "      <td>3</td>\n",
       "      <td>0</td>\n",
       "    </tr>\n",
       "    <tr>\n",
       "      <th>Management</th>\n",
       "      <td>2</td>\n",
       "      <td>0</td>\n",
       "    </tr>\n",
       "    <tr>\n",
       "      <th>Marketing</th>\n",
       "      <td>5</td>\n",
       "      <td>1</td>\n",
       "    </tr>\n",
       "    <tr>\n",
       "      <th>Mathematics</th>\n",
       "      <td>7</td>\n",
       "      <td>0</td>\n",
       "    </tr>\n",
       "    <tr>\n",
       "      <th>Military Sci &amp; Adv Leadership</th>\n",
       "      <td>1</td>\n",
       "      <td>1</td>\n",
       "    </tr>\n",
       "    <tr>\n",
       "      <th>Music</th>\n",
       "      <td>16</td>\n",
       "      <td>3</td>\n",
       "    </tr>\n",
       "    <tr>\n",
       "      <th>N</th>\n",
       "      <td>2485</td>\n",
       "      <td>675</td>\n",
       "    </tr>\n",
       "    <tr>\n",
       "      <th>Philosophy</th>\n",
       "      <td>2</td>\n",
       "      <td>0</td>\n",
       "    </tr>\n",
       "    <tr>\n",
       "      <th>Political Science</th>\n",
       "      <td>3</td>\n",
       "      <td>1</td>\n",
       "    </tr>\n",
       "    <tr>\n",
       "      <th>Professional Writing</th>\n",
       "      <td>6</td>\n",
       "      <td>0</td>\n",
       "    </tr>\n",
       "    <tr>\n",
       "      <th>Psychology</th>\n",
       "      <td>14</td>\n",
       "      <td>5</td>\n",
       "    </tr>\n",
       "    <tr>\n",
       "      <th>Sociology</th>\n",
       "      <td>3</td>\n",
       "      <td>2</td>\n",
       "    </tr>\n",
       "    <tr>\n",
       "      <th>Spanish</th>\n",
       "      <td>22</td>\n",
       "      <td>4</td>\n",
       "    </tr>\n",
       "    <tr>\n",
       "      <th>Theatre Arts</th>\n",
       "      <td>9</td>\n",
       "      <td>3</td>\n",
       "    </tr>\n",
       "    <tr>\n",
       "      <th>Women's Studies</th>\n",
       "      <td>0</td>\n",
       "      <td>1</td>\n",
       "    </tr>\n",
       "  </tbody>\n",
       "</table>\n",
       "</div>"
      ],
      "text/plain": [
       "Attrition                         0    1\n",
       "STDNT_MINOR                             \n",
       "Accounting                        3    1\n",
       "African Studies                   2    0\n",
       "Anthropology                      2    0\n",
       "Art                               3    2\n",
       "Art History                       4    2\n",
       "Asian Studies                     2    0\n",
       "Biology                           3    1\n",
       "Chemistry                         4    0\n",
       "Communication                    13    1\n",
       "Computer Info. Management         3    0\n",
       "Computer Science - Systems        8    2\n",
       "Creative Writing                  1    1\n",
       "Criminal Justice                  8    4\n",
       "Early Childhood Education         7    2\n",
       "Economics                         2    1\n",
       "English Language/Literature       1    4\n",
       "Exercise Science                  2    1\n",
       "Finance                           1    0\n",
       "Foundations of Business          13    2\n",
       "French                            3    1\n",
       "Health Science                    3    0\n",
       "History                          11    2\n",
       "International Business            3    0\n",
       "Management                        2    0\n",
       "Marketing                         5    1\n",
       "Mathematics                       7    0\n",
       "Military Sci & Adv Leadership     1    1\n",
       "Music                            16    3\n",
       "N                              2485  675\n",
       "Philosophy                        2    0\n",
       "Political Science                 3    1\n",
       "Professional Writing              6    0\n",
       "Psychology                       14    5\n",
       "Sociology                         3    2\n",
       "Spanish                          22    4\n",
       "Theatre Arts                      9    3\n",
       "Women's Studies                   0    1"
      ]
     },
     "execution_count": 43,
     "metadata": {},
     "output_type": "execute_result"
    }
   ],
   "source": [
    "pd.crosstab(pr['STDNT_MINOR'], pr['Attrition'])\n",
    "\n",
    "#we can remove this feature"
   ]
  },
  {
   "cell_type": "markdown",
   "id": "129038bf",
   "metadata": {},
   "source": [
    "# ENtrance test"
   ]
  },
  {
   "cell_type": "code",
   "execution_count": 44,
   "id": "7027ae3d",
   "metadata": {},
   "outputs": [
    {
     "data": {
      "text/plain": [
       "STDNT_TEST_ENTRANCE1        2294\n",
       "STDNT_TEST_ENTRANCE2         908\n",
       "STDNT_TEST_ENTRANCE_COMB     518\n",
       "dtype: int64"
      ]
     },
     "execution_count": 44,
     "metadata": {},
     "output_type": "execute_result"
    }
   ],
   "source": [
    "pr[['STDNT_TEST_ENTRANCE1', 'STDNT_TEST_ENTRANCE2','STDNT_TEST_ENTRANCE_COMB']].isnull().sum()\n",
    "\n",
    "#we can consider combined entrance marks"
   ]
  },
  {
   "cell_type": "code",
   "execution_count": 45,
   "id": "bc85442d",
   "metadata": {},
   "outputs": [
    {
     "name": "stderr",
     "output_type": "stream",
     "text": [
      "C:\\ProgramData\\Anaconda3\\lib\\site-packages\\seaborn\\distributions.py:2619: FutureWarning: `distplot` is a deprecated function and will be removed in a future version. Please adapt your code to use either `displot` (a figure-level function with similar flexibility) or `histplot` (an axes-level function for histograms).\n",
      "  warnings.warn(msg, FutureWarning)\n"
     ]
    },
    {
     "data": {
      "text/plain": [
       "<AxesSubplot:xlabel='STDNT_TEST_ENTRANCE_COMB', ylabel='Density'>"
      ]
     },
     "execution_count": 45,
     "metadata": {},
     "output_type": "execute_result"
    },
    {
     "data": {
      "image/png": "[encoded data removed]",
      "text/plain": [
       "<Figure size 432x288 with 1 Axes>"
      ]
     },
     "metadata": {
      "needs_background": "light"
     },
     "output_type": "display_data"
    }
   ],
   "source": [
    "sns.distplot(pr['STDNT_TEST_ENTRANCE_COMB'])"
   ]
  },
  {
   "cell_type": "code",
   "execution_count": 46,
   "id": "44e8a46b",
   "metadata": {},
   "outputs": [
    {
     "data": {
      "image/png": "[encoded data removed]",
      "text/plain": [
       "<Figure size 1440x720 with 2 Axes>"
      ]
     },
     "metadata": {
      "needs_background": "light"
     },
     "output_type": "display_data"
    }
   ],
   "source": [
    "plt.figure(figsize=(20,10))\n",
    "\n",
    "plt.subplot(1,2,1)\n",
    "sns.histplot(pr['STDNT_TEST_ENTRANCE_COMB'])\n",
    "plt.title('Count of STDNT_TEST_ENTRANCE_COMB group')\n",
    "\n",
    "plt.subplot(1,2,2)\n",
    "sns.histplot(data=pr, x='STDNT_TEST_ENTRANCE_COMB', hue='Attrition')\n",
    "plt.title('Count of STDNT_TEST_ENTRANCE_COMB group w.r.t Attrition')\n",
    "plt.show()"
   ]
  },
  {
   "cell_type": "code",
   "execution_count": 47,
   "id": "a36d4756",
   "metadata": {},
   "outputs": [
    {
     "name": "stderr",
     "output_type": "stream",
     "text": [
      "C:\\ProgramData\\Anaconda3\\lib\\site-packages\\seaborn\\_decorators.py:36: FutureWarning: Pass the following variable as a keyword arg: x. From version 0.12, the only valid positional argument will be `data`, and passing other arguments without an explicit keyword will result in an error or misinterpretation.\n",
      "  warnings.warn(\n"
     ]
    },
    {
     "data": {
      "image/png": "[encoded data removed]",
      "text/plain": [
       "<Figure size 432x288 with 1 Axes>"
      ]
     },
     "metadata": {
      "needs_background": "light"
     },
     "output_type": "display_data"
    }
   ],
   "source": [
    "#For null values we can impute mean, data is normal\n",
    "\n",
    "sns.boxplot(pr['STDNT_TEST_ENTRANCE_COMB'])\n",
    "plt.show()\n",
    "#we can use IQR technique to remove outliers"
   ]
  },
  {
   "cell_type": "markdown",
   "id": "8b8857eb",
   "metadata": {},
   "source": [
    "# First term"
   ]
  },
  {
   "cell_type": "code",
   "execution_count": 48,
   "id": "2bb6440c",
   "metadata": {},
   "outputs": [
    {
     "data": {
      "text/plain": [
       "(200508, 201008)"
      ]
     },
     "execution_count": 48,
     "metadata": {},
     "output_type": "execute_result"
    }
   ],
   "source": [
    "pr['FIRST_TERM'].min(), pr['FIRST_TERM'].max()\n",
    "\n",
    "#Data consists of 6years, 2005 to 2010\n",
    "#we can convert it to year feature and then label encode it"
   ]
  },
  {
   "cell_type": "code",
   "execution_count": 49,
   "id": "30747798",
   "metadata": {},
   "outputs": [
    {
     "data": {
      "text/html": [
       "<div>\n",
       "<style scoped>\n",
       "    .dataframe tbody tr th:only-of-type {\n",
       "        vertical-align: middle;\n",
       "    }\n",
       "\n",
       "    .dataframe tbody tr th {\n",
       "        vertical-align: top;\n",
       "    }\n",
       "\n",
       "    .dataframe thead th {\n",
       "        text-align: right;\n",
       "    }\n",
       "</style>\n",
       "<table border=\"1\" class=\"dataframe\">\n",
       "  <thead>\n",
       "    <tr style=\"text-align: right;\">\n",
       "      <th></th>\n",
       "      <th>CORE_COURSE_NAME_1_F</th>\n",
       "      <th>CORE_COURSE_NAME_2_F</th>\n",
       "      <th>CORE_COURSE_NAME_3_F</th>\n",
       "      <th>CORE_COURSE_NAME_4_F</th>\n",
       "      <th>CORE_COURSE_NAME_5_F</th>\n",
       "      <th>CORE_COURSE_NAME_6_F</th>\n",
       "    </tr>\n",
       "  </thead>\n",
       "  <tbody>\n",
       "    <tr>\n",
       "      <th>0</th>\n",
       "      <td>ANTH 1105</td>\n",
       "      <td>ARTH 1100</td>\n",
       "      <td>ENGL 1102</td>\n",
       "      <td>PSYC 1101</td>\n",
       "      <td>NaN</td>\n",
       "      <td>NaN</td>\n",
       "    </tr>\n",
       "    <tr>\n",
       "      <th>1</th>\n",
       "      <td>ANTH 1105</td>\n",
       "      <td>GERM 1002</td>\n",
       "      <td>ITDS 2735</td>\n",
       "      <td>MATH 1125</td>\n",
       "      <td>THEA 1100</td>\n",
       "      <td>POLS 1101</td>\n",
       "    </tr>\n",
       "    <tr>\n",
       "      <th>2</th>\n",
       "      <td>ANTH 1105</td>\n",
       "      <td>ENGL 1101</td>\n",
       "      <td>HIST 2111</td>\n",
       "      <td>MATH 1111</td>\n",
       "      <td>SOCI 1101</td>\n",
       "      <td>NaN</td>\n",
       "    </tr>\n",
       "    <tr>\n",
       "      <th>3</th>\n",
       "      <td>ANTH 1107</td>\n",
       "      <td>COMM 1110</td>\n",
       "      <td>NaN</td>\n",
       "      <td>NaN</td>\n",
       "      <td>NaN</td>\n",
       "      <td>NaN</td>\n",
       "    </tr>\n",
       "    <tr>\n",
       "      <th>4</th>\n",
       "      <td>ANTH 1107</td>\n",
       "      <td>ARTH 1100</td>\n",
       "      <td>CPSC 1105</td>\n",
       "      <td>MATH 1111</td>\n",
       "      <td>NaN</td>\n",
       "      <td>NaN</td>\n",
       "    </tr>\n",
       "    <tr>\n",
       "      <th>...</th>\n",
       "      <td>...</td>\n",
       "      <td>...</td>\n",
       "      <td>...</td>\n",
       "      <td>...</td>\n",
       "      <td>...</td>\n",
       "      <td>...</td>\n",
       "    </tr>\n",
       "    <tr>\n",
       "      <th>3395</th>\n",
       "      <td>COMM 1110</td>\n",
       "      <td>NaN</td>\n",
       "      <td>NaN</td>\n",
       "      <td>NaN</td>\n",
       "      <td>NaN</td>\n",
       "      <td>NaN</td>\n",
       "    </tr>\n",
       "    <tr>\n",
       "      <th>3396</th>\n",
       "      <td>POLS 1101</td>\n",
       "      <td>NaN</td>\n",
       "      <td>NaN</td>\n",
       "      <td>NaN</td>\n",
       "      <td>NaN</td>\n",
       "      <td>NaN</td>\n",
       "    </tr>\n",
       "    <tr>\n",
       "      <th>3397</th>\n",
       "      <td>ENGL 1101</td>\n",
       "      <td>NaN</td>\n",
       "      <td>NaN</td>\n",
       "      <td>NaN</td>\n",
       "      <td>NaN</td>\n",
       "      <td>NaN</td>\n",
       "    </tr>\n",
       "    <tr>\n",
       "      <th>3398</th>\n",
       "      <td>PSYC 1101</td>\n",
       "      <td>NaN</td>\n",
       "      <td>NaN</td>\n",
       "      <td>NaN</td>\n",
       "      <td>NaN</td>\n",
       "      <td>NaN</td>\n",
       "    </tr>\n",
       "    <tr>\n",
       "      <th>3399</th>\n",
       "      <td>HIST 2111</td>\n",
       "      <td>NaN</td>\n",
       "      <td>NaN</td>\n",
       "      <td>NaN</td>\n",
       "      <td>NaN</td>\n",
       "      <td>NaN</td>\n",
       "    </tr>\n",
       "  </tbody>\n",
       "</table>\n",
       "<p>3400 rows × 6 columns</p>\n",
       "</div>"
      ],
      "text/plain": [
       "     CORE_COURSE_NAME_1_F CORE_COURSE_NAME_2_F CORE_COURSE_NAME_3_F  \\\n",
       "0               ANTH 1105            ARTH 1100            ENGL 1102   \n",
       "1               ANTH 1105            GERM 1002            ITDS 2735   \n",
       "2               ANTH 1105            ENGL 1101            HIST 2111   \n",
       "3               ANTH 1107            COMM 1110                  NaN   \n",
       "4               ANTH 1107            ARTH 1100            CPSC 1105   \n",
       "...                   ...                  ...                  ...   \n",
       "3395            COMM 1110                  NaN                  NaN   \n",
       "3396            POLS 1101                  NaN                  NaN   \n",
       "3397            ENGL 1101                  NaN                  NaN   \n",
       "3398            PSYC 1101                  NaN                  NaN   \n",
       "3399            HIST 2111                  NaN                  NaN   \n",
       "\n",
       "     CORE_COURSE_NAME_4_F CORE_COURSE_NAME_5_F CORE_COURSE_NAME_6_F  \n",
       "0               PSYC 1101                  NaN                  NaN  \n",
       "1               MATH 1125            THEA 1100            POLS 1101  \n",
       "2               MATH 1111            SOCI 1101                  NaN  \n",
       "3                     NaN                  NaN                  NaN  \n",
       "4               MATH 1111                  NaN                  NaN  \n",
       "...                   ...                  ...                  ...  \n",
       "3395                  NaN                  NaN                  NaN  \n",
       "3396                  NaN                  NaN                  NaN  \n",
       "3397                  NaN                  NaN                  NaN  \n",
       "3398                  NaN                  NaN                  NaN  \n",
       "3399                  NaN                  NaN                  NaN  \n",
       "\n",
       "[3400 rows x 6 columns]"
      ]
     },
     "execution_count": 49,
     "metadata": {},
     "output_type": "execute_result"
    }
   ],
   "source": [
    "pr[['CORE_COURSE_NAME_1_F',  'CORE_COURSE_NAME_2_F', 'CORE_COURSE_NAME_3_F', 'CORE_COURSE_NAME_4_F',\n",
    "      'CORE_COURSE_NAME_5_F', 'CORE_COURSE_NAME_6_F']]"
   ]
  },
  {
   "cell_type": "code",
   "execution_count": 50,
   "id": "d5dc7b00",
   "metadata": {},
   "outputs": [
    {
     "data": {
      "text/plain": [
       "ENGL 1101                   2330\n",
       "HIST 2111                    825\n",
       "COMM 1110                    780\n",
       "MATH 1111                    740\n",
       "POLS 1101                    520\n",
       "                            ... \n",
       "BIOL 1225K                     1\n",
       "LATN 1002                      1\n",
       "Life and Career Planning       1\n",
       "U.S. History to 1865           1\n",
       "FREN 2002                      1\n",
       "Length: 83, dtype: int64"
      ]
     },
     "execution_count": 50,
     "metadata": {},
     "output_type": "execute_result"
    }
   ],
   "source": [
    "pd.concat([pr['CORE_COURSE_NAME_1_F'], pr['CORE_COURSE_NAME_2_F'], pr['CORE_COURSE_NAME_3_F'], pr['CORE_COURSE_NAME_4_F'],\n",
    "          pr['CORE_COURSE_NAME_5_F'], pr['CORE_COURSE_NAME_6_F']]).value_counts()\n",
    "#instead of course name, we can consider the grades for each student with number of subjects"
   ]
  },
  {
   "cell_type": "code",
   "execution_count": 51,
   "id": "59134046",
   "metadata": {},
   "outputs": [
    {
     "data": {
      "text/plain": [
       "B          4100\n",
       "A          3905\n",
       "C          2402\n",
       "D           966\n",
       "F           595\n",
       "NOT REP     109\n",
       "INCOMPL      35\n",
       "dtype: int64"
      ]
     },
     "execution_count": 51,
     "metadata": {},
     "output_type": "execute_result"
    }
   ],
   "source": [
    "pd.concat([pr['CORE_COURSE_GRADE_1_F'], pr['CORE_COURSE_GRADE_2_F'], pr['CORE_COURSE_GRADE_3_F'], pr['CORE_COURSE_GRADE_4_F'],\n",
    "          pr['CORE_COURSE_GRADE_5_F'], pr['CORE_COURSE_GRADE_6_F']]).value_counts()"
   ]
  },
  {
   "cell_type": "markdown",
   "id": "4c82039d",
   "metadata": {},
   "source": [
    "# Second term"
   ]
  },
  {
   "cell_type": "code",
   "execution_count": 52,
   "id": "85bc6fc4",
   "metadata": {},
   "outputs": [
    {
     "data": {
      "text/plain": [
       "(200602, 201102)"
      ]
     },
     "execution_count": 52,
     "metadata": {},
     "output_type": "execute_result"
    }
   ],
   "source": [
    "pr['SECOND_TERM'].min(), pr['SECOND_TERM'].max()\n",
    "\n",
    "#Data consists of 6years, 2005 to 2010\n",
    "#we can convert it to year feature and then label encode it"
   ]
  },
  {
   "cell_type": "code",
   "execution_count": 53,
   "id": "517c1d79",
   "metadata": {},
   "outputs": [
    {
     "data": {
      "text/html": [
       "<div>\n",
       "<style scoped>\n",
       "    .dataframe tbody tr th:only-of-type {\n",
       "        vertical-align: middle;\n",
       "    }\n",
       "\n",
       "    .dataframe tbody tr th {\n",
       "        vertical-align: top;\n",
       "    }\n",
       "\n",
       "    .dataframe thead th {\n",
       "        text-align: right;\n",
       "    }\n",
       "</style>\n",
       "<table border=\"1\" class=\"dataframe\">\n",
       "  <thead>\n",
       "    <tr style=\"text-align: right;\">\n",
       "      <th></th>\n",
       "      <th>CORE_COURSE_NAME_1_S</th>\n",
       "      <th>CORE_COURSE_NAME_2_S</th>\n",
       "      <th>CORE_COURSE_NAME_3_S</th>\n",
       "      <th>CORE_COURSE_NAME_4_S</th>\n",
       "      <th>CORE_COURSE_NAME_5_S</th>\n",
       "      <th>CORE_COURSE_NAME_6_S</th>\n",
       "    </tr>\n",
       "  </thead>\n",
       "  <tbody>\n",
       "    <tr>\n",
       "      <th>0</th>\n",
       "      <td>CHEM 1151</td>\n",
       "      <td>CHEM 1151L</td>\n",
       "      <td>COMM 1110</td>\n",
       "      <td>ITDS 2749</td>\n",
       "      <td>NaN</td>\n",
       "      <td>NaN</td>\n",
       "    </tr>\n",
       "    <tr>\n",
       "      <th>1</th>\n",
       "      <td>ECON 2105</td>\n",
       "      <td>ENGL 1102</td>\n",
       "      <td>NaN</td>\n",
       "      <td>NaN</td>\n",
       "      <td>NaN</td>\n",
       "      <td>NaN</td>\n",
       "    </tr>\n",
       "    <tr>\n",
       "      <th>2</th>\n",
       "      <td>ENGL 1102</td>\n",
       "      <td>ENVS 1105</td>\n",
       "      <td>MUSC 1100</td>\n",
       "      <td>NaN</td>\n",
       "      <td>NaN</td>\n",
       "      <td>NaN</td>\n",
       "    </tr>\n",
       "    <tr>\n",
       "      <th>3</th>\n",
       "      <td>ENGL 1102</td>\n",
       "      <td>HIST 2112</td>\n",
       "      <td>LEAD 1705</td>\n",
       "      <td>MUSC 1100</td>\n",
       "      <td>NaN</td>\n",
       "      <td>NaN</td>\n",
       "    </tr>\n",
       "    <tr>\n",
       "      <th>4</th>\n",
       "      <td>COMM 1110</td>\n",
       "      <td>ENGL 1101</td>\n",
       "      <td>HIST 2111</td>\n",
       "      <td>PSYC 1101</td>\n",
       "      <td>NaN</td>\n",
       "      <td>NaN</td>\n",
       "    </tr>\n",
       "    <tr>\n",
       "      <th>...</th>\n",
       "      <td>...</td>\n",
       "      <td>...</td>\n",
       "      <td>...</td>\n",
       "      <td>...</td>\n",
       "      <td>...</td>\n",
       "      <td>...</td>\n",
       "    </tr>\n",
       "    <tr>\n",
       "      <th>3395</th>\n",
       "      <td>NaN</td>\n",
       "      <td>NaN</td>\n",
       "      <td>NaN</td>\n",
       "      <td>NaN</td>\n",
       "      <td>NaN</td>\n",
       "      <td>NaN</td>\n",
       "    </tr>\n",
       "    <tr>\n",
       "      <th>3396</th>\n",
       "      <td>POLS 1101</td>\n",
       "      <td>NaN</td>\n",
       "      <td>NaN</td>\n",
       "      <td>NaN</td>\n",
       "      <td>NaN</td>\n",
       "      <td>NaN</td>\n",
       "    </tr>\n",
       "    <tr>\n",
       "      <th>3397</th>\n",
       "      <td>NaN</td>\n",
       "      <td>NaN</td>\n",
       "      <td>NaN</td>\n",
       "      <td>NaN</td>\n",
       "      <td>NaN</td>\n",
       "      <td>NaN</td>\n",
       "    </tr>\n",
       "    <tr>\n",
       "      <th>3398</th>\n",
       "      <td>NaN</td>\n",
       "      <td>NaN</td>\n",
       "      <td>NaN</td>\n",
       "      <td>NaN</td>\n",
       "      <td>NaN</td>\n",
       "      <td>NaN</td>\n",
       "    </tr>\n",
       "    <tr>\n",
       "      <th>3399</th>\n",
       "      <td>NaN</td>\n",
       "      <td>NaN</td>\n",
       "      <td>NaN</td>\n",
       "      <td>NaN</td>\n",
       "      <td>NaN</td>\n",
       "      <td>NaN</td>\n",
       "    </tr>\n",
       "  </tbody>\n",
       "</table>\n",
       "<p>3400 rows × 6 columns</p>\n",
       "</div>"
      ],
      "text/plain": [
       "     CORE_COURSE_NAME_1_S CORE_COURSE_NAME_2_S CORE_COURSE_NAME_3_S  \\\n",
       "0               CHEM 1151           CHEM 1151L            COMM 1110   \n",
       "1               ECON 2105            ENGL 1102                  NaN   \n",
       "2               ENGL 1102            ENVS 1105            MUSC 1100   \n",
       "3               ENGL 1102            HIST 2112            LEAD 1705   \n",
       "4               COMM 1110            ENGL 1101            HIST 2111   \n",
       "...                   ...                  ...                  ...   \n",
       "3395                  NaN                  NaN                  NaN   \n",
       "3396            POLS 1101                  NaN                  NaN   \n",
       "3397                  NaN                  NaN                  NaN   \n",
       "3398                  NaN                  NaN                  NaN   \n",
       "3399                  NaN                  NaN                  NaN   \n",
       "\n",
       "     CORE_COURSE_NAME_4_S CORE_COURSE_NAME_5_S CORE_COURSE_NAME_6_S  \n",
       "0               ITDS 2749                  NaN                  NaN  \n",
       "1                     NaN                  NaN                  NaN  \n",
       "2                     NaN                  NaN                  NaN  \n",
       "3               MUSC 1100                  NaN                  NaN  \n",
       "4               PSYC 1101                  NaN                  NaN  \n",
       "...                   ...                  ...                  ...  \n",
       "3395                  NaN                  NaN                  NaN  \n",
       "3396                  NaN                  NaN                  NaN  \n",
       "3397                  NaN                  NaN                  NaN  \n",
       "3398                  NaN                  NaN                  NaN  \n",
       "3399                  NaN                  NaN                  NaN  \n",
       "\n",
       "[3400 rows x 6 columns]"
      ]
     },
     "execution_count": 53,
     "metadata": {},
     "output_type": "execute_result"
    }
   ],
   "source": [
    "pr[['CORE_COURSE_NAME_1_S',  'CORE_COURSE_NAME_2_S', 'CORE_COURSE_NAME_3_S', 'CORE_COURSE_NAME_4_S',\n",
    "      'CORE_COURSE_NAME_5_S', 'CORE_COURSE_NAME_6_S']]"
   ]
  },
  {
   "cell_type": "code",
   "execution_count": 54,
   "id": "2f4769a1",
   "metadata": {},
   "outputs": [
    {
     "data": {
      "text/plain": [
       "ENGL 1102    1896\n",
       "POLS 1101     748\n",
       "COMM 1110     706\n",
       "MATH 1111     553\n",
       "HIST 2111     518\n",
       "             ... \n",
       "MATH 2115       3\n",
       "FREN 2002       2\n",
       "LATN 1002       2\n",
       "PHYS 1325       2\n",
       "GEOL 2225       1\n",
       "Length: 72, dtype: int64"
      ]
     },
     "execution_count": 54,
     "metadata": {},
     "output_type": "execute_result"
    }
   ],
   "source": [
    "pd.concat([pr['CORE_COURSE_NAME_1_S'], pr['CORE_COURSE_NAME_2_S'], pr['CORE_COURSE_NAME_3_S'], pr['CORE_COURSE_NAME_4_S'],\n",
    "          pr['CORE_COURSE_NAME_5_S'], pr['CORE_COURSE_NAME_6_S']]).value_counts()\n",
    "#instead of course name, we can consider the grades for each student with number of subjects"
   ]
  },
  {
   "cell_type": "code",
   "execution_count": 55,
   "id": "2a3960ca",
   "metadata": {},
   "outputs": [
    {
     "data": {
      "text/plain": [
       "B          3478\n",
       "A          3277\n",
       "C          2097\n",
       "D           837\n",
       "F           607\n",
       "NOT REP      47\n",
       "INCOMPL      29\n",
       "Unknown       5\n",
       "dtype: int64"
      ]
     },
     "execution_count": 55,
     "metadata": {},
     "output_type": "execute_result"
    }
   ],
   "source": [
    "pd.concat([pr['CORE_COURSE_GRADE_1_S'], pr['CORE_COURSE_GRADE_2_S'], pr['CORE_COURSE_GRADE_3_S'], pr['CORE_COURSE_GRADE_4_S'],\n",
    "          pr['CORE_COURSE_GRADE_5_S'], pr['CORE_COURSE_GRADE_6_S']]).value_counts()"
   ]
  },
  {
   "cell_type": "markdown",
   "id": "437f50e5",
   "metadata": {},
   "source": [
    "# HOUSING_STS"
   ]
  },
  {
   "cell_type": "code",
   "execution_count": 56,
   "id": "3882463b",
   "metadata": {},
   "outputs": [
    {
     "data": {
      "text/plain": [
       "Off Campus    1981\n",
       "On Campus     1419\n",
       "Name: HOUSING_STS, dtype: int64"
      ]
     },
     "execution_count": 56,
     "metadata": {},
     "output_type": "execute_result"
    }
   ],
   "source": [
    "pr['HOUSING_STS'].value_counts()"
   ]
  },
  {
   "cell_type": "code",
   "execution_count": 57,
   "id": "ed7c6ad5",
   "metadata": {},
   "outputs": [
    {
     "name": "stderr",
     "output_type": "stream",
     "text": [
      "C:\\ProgramData\\Anaconda3\\lib\\site-packages\\seaborn\\_decorators.py:36: FutureWarning: Pass the following variable as a keyword arg: x. From version 0.12, the only valid positional argument will be `data`, and passing other arguments without an explicit keyword will result in an error or misinterpretation.\n",
      "  warnings.warn(\n",
      "C:\\ProgramData\\Anaconda3\\lib\\site-packages\\seaborn\\_decorators.py:36: FutureWarning: Pass the following variable as a keyword arg: x. From version 0.12, the only valid positional argument will be `data`, and passing other arguments without an explicit keyword will result in an error or misinterpretation.\n",
      "  warnings.warn(\n"
     ]
    },
    {
     "data": {
      "image/png": "[encoded data removed]",
      "text/plain": [
       "<Figure size 1440x720 with 3 Axes>"
      ]
     },
     "metadata": {
      "needs_background": "light"
     },
     "output_type": "display_data"
    }
   ],
   "source": [
    "plt.figure(figsize=(20,10))\n",
    "\n",
    "plt.subplot(1,3,1)\n",
    "sns.countplot(pr['HOUSING_STS'])\n",
    "plt.title('Bar graph')\n",
    "\n",
    "plt.subplot(1,3,2)\n",
    "plt.pie(pr['HOUSING_STS'].value_counts(),explode=[0.05,0], colors=[ 'lightskyblue', 'orange'], labels=['OFF_camp', 'On_camp'], autopct='%.2f%%')\n",
    "plt.title('Pie chart')\n",
    "\n",
    "plt.subplot(1,3,3)\n",
    "sns.countplot(pr['HOUSING_STS'], hue=pr['Attrition'])\n",
    "\n",
    "plt.show()"
   ]
  },
  {
   "cell_type": "markdown",
   "id": "568c54f6",
   "metadata": {},
   "source": [
    "# DISTANCE_FROM_HOME"
   ]
  },
  {
   "cell_type": "code",
   "execution_count": 58,
   "id": "ae535891",
   "metadata": {},
   "outputs": [
    {
     "data": {
      "text/plain": [
       "(0.0, 5932.0)"
      ]
     },
     "execution_count": 58,
     "metadata": {},
     "output_type": "execute_result"
    }
   ],
   "source": [
    "pr['DISTANCE_FROM_HOME'].min(), pr['DISTANCE_FROM_HOME'].max()"
   ]
  },
  {
   "cell_type": "code",
   "execution_count": 59,
   "id": "cc6141f1",
   "metadata": {},
   "outputs": [
    {
     "name": "stderr",
     "output_type": "stream",
     "text": [
      "C:\\ProgramData\\Anaconda3\\lib\\site-packages\\seaborn\\distributions.py:2619: FutureWarning: `distplot` is a deprecated function and will be removed in a future version. Please adapt your code to use either `displot` (a figure-level function with similar flexibility) or `histplot` (an axes-level function for histograms).\n",
      "  warnings.warn(msg, FutureWarning)\n"
     ]
    },
    {
     "data": {
      "text/plain": [
       "<AxesSubplot:xlabel='DISTANCE_FROM_HOME', ylabel='Density'>"
      ]
     },
     "execution_count": 59,
     "metadata": {},
     "output_type": "execute_result"
    },
    {
     "data": {
      "image/png": "[encoded data removed]",
      "text/plain": [
       "<Figure size 432x288 with 1 Axes>"
      ]
     },
     "metadata": {
      "needs_background": "light"
     },
     "output_type": "display_data"
    }
   ],
   "source": [
    "sns.distplot(pr['DISTANCE_FROM_HOME'])"
   ]
  },
  {
   "cell_type": "code",
   "execution_count": 60,
   "id": "6c85137b",
   "metadata": {},
   "outputs": [
    {
     "name": "stderr",
     "output_type": "stream",
     "text": [
      "C:\\ProgramData\\Anaconda3\\lib\\site-packages\\seaborn\\_decorators.py:36: FutureWarning: Pass the following variable as a keyword arg: x. From version 0.12, the only valid positional argument will be `data`, and passing other arguments without an explicit keyword will result in an error or misinterpretation.\n",
      "  warnings.warn(\n"
     ]
    },
    {
     "data": {
      "text/plain": [
       "<AxesSubplot:xlabel='DISTANCE_FROM_HOME'>"
      ]
     },
     "execution_count": 60,
     "metadata": {},
     "output_type": "execute_result"
    },
    {
     "data": {
      "image/png": "[encoded data removed]",
      "text/plain": [
       "<Figure size 432x288 with 1 Axes>"
      ]
     },
     "metadata": {
      "needs_background": "light"
     },
     "output_type": "display_data"
    }
   ],
   "source": [
    "#There are outliers\n",
    "\n",
    "sns.boxplot(pr['DISTANCE_FROM_HOME'])"
   ]
  },
  {
   "cell_type": "markdown",
   "id": "e9735acf",
   "metadata": {},
   "source": [
    "# HIGH_SCHL_GPA"
   ]
  },
  {
   "cell_type": "code",
   "execution_count": 61,
   "id": "62955c52",
   "metadata": {},
   "outputs": [
    {
     "data": {
      "text/plain": [
       "53"
      ]
     },
     "execution_count": 61,
     "metadata": {},
     "output_type": "execute_result"
    }
   ],
   "source": [
    "pr['HIGH_SCHL_GPA'].isnull().sum()"
   ]
  },
  {
   "cell_type": "code",
   "execution_count": 62,
   "id": "6383b699",
   "metadata": {},
   "outputs": [
    {
     "data": {
      "text/plain": [
       "SCHOOL 11     249\n",
       "SCHOOL 130    245\n",
       "SCHOOL 10     238\n",
       "SCHOOL 1      209\n",
       "SCHOOL 2      129\n",
       "             ... \n",
       "SCHOOL 398      1\n",
       "SCHOOL 344      1\n",
       "SCHOOL 495      1\n",
       "SCHOOL 493      1\n",
       "SCHOOL 414      1\n",
       "Name: HIGH_SCHL_NAME, Length: 439, dtype: int64"
      ]
     },
     "execution_count": 62,
     "metadata": {},
     "output_type": "execute_result"
    }
   ],
   "source": [
    "pr['HIGH_SCHL_NAME'].value_counts()"
   ]
  },
  {
   "cell_type": "code",
   "execution_count": 63,
   "id": "df6a83f2",
   "metadata": {},
   "outputs": [
    {
     "data": {
      "text/plain": [
       "2.0    1336\n",
       "3.0    1309\n",
       "4.0     226\n",
       "1.0      97\n",
       "Name: FATHER_HI_EDU_CD, dtype: int64"
      ]
     },
     "execution_count": 63,
     "metadata": {},
     "output_type": "execute_result"
    }
   ],
   "source": [
    "pr['FATHER_HI_EDU_CD'].value_counts()\n",
    "\n",
    "#we can remove anyone of the columns FATHER_HI_EDU_CD, FATHER_HI_EDU_DESC\n",
    "#same with mothers education"
   ]
  },
  {
   "cell_type": "code",
   "execution_count": 64,
   "id": "9ec7a78e",
   "metadata": {},
   "outputs": [
    {
     "data": {
      "text/plain": [
       "B    3384\n",
       "A      12\n",
       "V       4\n",
       "Name: DEGREE_GROUP_CD, dtype: int64"
      ]
     },
     "execution_count": 64,
     "metadata": {},
     "output_type": "execute_result"
    }
   ],
   "source": [
    "pr['DEGREE_GROUP_CD'].value_counts()"
   ]
  },
  {
   "cell_type": "code",
   "execution_count": 65,
   "id": "0931df84",
   "metadata": {},
   "outputs": [
    {
     "data": {
      "text/plain": [
       "Bachelors           3384\n",
       "Associate             12\n",
       "Career Associate       4\n",
       "Name: DEGREE_GROUP_DESC, dtype: int64"
      ]
     },
     "execution_count": 65,
     "metadata": {},
     "output_type": "execute_result"
    }
   ],
   "source": [
    "pr['DEGREE_GROUP_DESC'].value_counts()\n",
    "\n",
    "#we can remove one columns ==> DEGREE_GROUP_CD or DEGREE_GROUP_DESC and encode the other columns"
   ]
  },
  {
   "cell_type": "code",
   "execution_count": 66,
   "id": "95a03379",
   "metadata": {},
   "outputs": [
    {
     "data": {
      "text/plain": [
       "-3"
      ]
     },
     "execution_count": 66,
     "metadata": {},
     "output_type": "execute_result"
    }
   ],
   "source": [
    "(pr['FIRST_TERM_ATTEMPT_HRS'] - pr['FIRST_TERM_EARNED_HRS']).min()"
   ]
  },
  {
   "cell_type": "markdown",
   "id": "586bff1d",
   "metadata": {},
   "source": [
    "# Data pre-processing"
   ]
  },
  {
   "cell_type": "code",
   "execution_count": 67,
   "id": "07015e34",
   "metadata": {},
   "outputs": [],
   "source": [
    "#remove 'STUDENT IDENTIFIER' column, it is redundant\n",
    "pr.drop('STUDENT IDENTIFIER', axis=1, inplace=True)"
   ]
  },
  {
   "cell_type": "code",
   "execution_count": 68,
   "id": "25bf677d",
   "metadata": {},
   "outputs": [
    {
     "data": {
      "text/plain": [
       "STDNT_AGE                      0\n",
       "STDNT_GENDER                   0\n",
       "STDNT_BACKGROUND               0\n",
       "IN_STATE_FLAG                  0\n",
       "INTERNATIONAL_STS              0\n",
       "STDNT_MAJOR                    0\n",
       "STDNT_MINOR                    0\n",
       "STDNT_TEST_ENTRANCE1        2294\n",
       "STDNT_TEST_ENTRANCE2         908\n",
       "STDNT_TEST_ENTRANCE_COMB     518\n",
       "FIRST_TERM                     0\n",
       "CORE_COURSE_NAME_1_F           0\n",
       "CORE_COURSE_GRADE_1_F          0\n",
       "CORE_COURSE_NAME_2_F          99\n",
       "CORE_COURSE_GRADE_2_F         99\n",
       "CORE_COURSE_NAME_3_F         565\n",
       "CORE_COURSE_GRADE_3_F        565\n",
       "CORE_COURSE_NAME_4_F        1597\n",
       "CORE_COURSE_GRADE_4_F       1597\n",
       "CORE_COURSE_NAME_5_F        2755\n",
       "CORE_COURSE_GRADE_5_F       2755\n",
       "CORE_COURSE_NAME_6_F        3272\n",
       "CORE_COURSE_GRADE_6_F       3272\n",
       "SECOND_TERM                    0\n",
       "CORE_COURSE_NAME_1_S         157\n",
       "CORE_COURSE_GRADE_1_S        232\n",
       "CORE_COURSE_NAME_2_S         439\n",
       "CORE_COURSE_GRADE_2_S        439\n",
       "CORE_COURSE_NAME_3_S        1038\n",
       "CORE_COURSE_GRADE_3_S       1038\n",
       "CORE_COURSE_NAME_4_S        2045\n",
       "CORE_COURSE_GRADE_4_S       2045\n",
       "CORE_COURSE_NAME_5_S        2950\n",
       "CORE_COURSE_GRADE_5_S       2950\n",
       "CORE_COURSE_NAME_6_S        3319\n",
       "CORE_COURSE_GRADE_6_S       3319\n",
       "HOUSING_STS                    0\n",
       "DISTANCE_FROM_HOME            25\n",
       "HIGH_SCHL_GPA                 53\n",
       "HIGH_SCHL_NAME                 1\n",
       "FATHER_HI_EDU_CD             432\n",
       "FATHER_HI_EDU_DESC             0\n",
       "MOTHER_HI_EDU_CD             489\n",
       "MOTHER_HI_EDU_DESC             0\n",
       "DEGREE_GROUP_CD                0\n",
       "DEGREE_GROUP_DESC              0\n",
       "FIRST_TERM_ATTEMPT_HRS         0\n",
       "FIRST_TERM_EARNED_HRS          0\n",
       "SECOND_TERM_ATTEMPT_HRS      206\n",
       "SECOND_TERM_EARNED_HRS       209\n",
       "GROSS_FIN_NEED                 0\n",
       "COST_OF_ATTEND                 0\n",
       "EST_FAM_CONTRIBUTION           0\n",
       "UNMET_NEED                     0\n",
       "Attrition                      0\n",
       "dtype: int64"
      ]
     },
     "execution_count": 68,
     "metadata": {},
     "output_type": "execute_result"
    }
   ],
   "source": [
    "pr.isnull().sum()"
   ]
  },
  {
   "cell_type": "code",
   "execution_count": 69,
   "id": "6064f029",
   "metadata": {
    "scrolled": true
   },
   "outputs": [
    {
     "data": {
      "text/plain": [
       "(array(['Undeclared', 'Mathematics', 'Art', 'Political Science', 'Biology',\n",
       "        'Accounting', 'Criminal Justice', 'Psychology', 'Theatre Arts',\n",
       "        'Nursing', 'Pre-Nursing', 'Chemistry', 'Pre-Engineering/RETP',\n",
       "        'Early Childhood Education', 'Music Performance',\n",
       "        'English Language/Literature', 'Joint Enrollment - Accel',\n",
       "        'History and Secondary Ed', 'History', 'Engineering Studies',\n",
       "        'Computer Science - Systems', 'Pre-Business', 'Management',\n",
       "        'Theatre Education', 'Marketing', 'Communication',\n",
       "        'Music Education', 'French with Teacher Cert',\n",
       "        'English and Secondary Ed', 'Exercise Science', 'General Business',\n",
       "        'Mathematics and Secondary Ed', 'Finance', 'French',\n",
       "        'Health Science', 'Spec Ed: Gen. Curr. - Reading', 'Music',\n",
       "        'Middle Grades Education', 'Geology',\n",
       "        'Management Information Systems', 'Art Education',\n",
       "        'Applied Computer Science', 'Information Technology', 'Sociology',\n",
       "        'Computer Science - Games', 'Spanish', 'General Studies/AS',\n",
       "        'Biology and Secondary Ed', 'Chemistry and Secondary Ed',\n",
       "        'Health and Physical Education', 'Liberal Arts',\n",
       "        'Spanish with Teacher Cert', 'Earth and Space Science',\n",
       "        'Early Admission - Accel'], dtype=object),\n",
       " 54)"
      ]
     },
     "execution_count": 69,
     "metadata": {},
     "output_type": "execute_result"
    }
   ],
   "source": [
    "pr['STDNT_MAJOR'].unique(), pr['STDNT_MAJOR'].nunique()\n",
    "\n",
    "#There are no null values but there are undeclared category, we can perform a statistical test & decide whether to remove \n",
    "#or not"
   ]
  },
  {
   "cell_type": "code",
   "execution_count": 70,
   "id": "8d32ff95",
   "metadata": {},
   "outputs": [],
   "source": [
    "from scipy import stats"
   ]
  },
  {
   "cell_type": "code",
   "execution_count": 71,
   "id": "4948a450",
   "metadata": {},
   "outputs": [
    {
     "name": "stdout",
     "output_type": "stream",
     "text": [
      "0.002281570927520071\n"
     ]
    }
   ],
   "source": [
    "#if we encode it 54 cat will be formed.\n",
    "#we can perform a statiscal test to find out whether there is a relationship b/w target and major subject\n",
    "#Chi2 contingency\n",
    "# Ho : There is no relation\n",
    "# Ha : There is a relation\n",
    "obs = pd.crosstab(pr['Attrition'], pr['STDNT_MAJOR'])\n",
    "tstat, pvalue, x, exp = stats.chi2_contingency(obs)\n",
    "print(pvalue)\n",
    "# pval = 0.0022\n",
    "# pval < sig lvl\n",
    "# Ho is rejected\n",
    "# There is a relation\n",
    "#we dont remove that feature, instead we can label encode it"
   ]
  },
  {
   "cell_type": "code",
   "execution_count": 72,
   "id": "77beba42",
   "metadata": {},
   "outputs": [
    {
     "name": "stdout",
     "output_type": "stream",
     "text": [
      "0.5562124183770998\n"
     ]
    }
   ],
   "source": [
    "#we can perform a statiscal test to find out whether there is a relationship b/w target and minor subject\n",
    "#Chi2 contingency\n",
    "# Ho : There is no relation\n",
    "# Ha : There is a relation\n",
    "obs = pd.crosstab(pr['Attrition'], pr['STDNT_MINOR'])\n",
    "tstat, pvalue, x, exp = stats.chi2_contingency(obs)\n",
    "print(pvalue)\n",
    "#there is no relationship, we drop that column\n",
    "pr.drop('STDNT_MINOR', axis=1, inplace=True)"
   ]
  },
  {
   "cell_type": "code",
   "execution_count": 73,
   "id": "e51f7d5e",
   "metadata": {},
   "outputs": [],
   "source": [
    "#Entrance exam, we can consider only STDNT_TEST_ENTRANCE_COMB, we can drop other 2 columns\n",
    "\n",
    "pr.drop(['STDNT_TEST_ENTRANCE1', 'STDNT_TEST_ENTRANCE2'], axis=1, inplace=True)"
   ]
  },
  {
   "cell_type": "code",
   "execution_count": 74,
   "id": "c6e03b07",
   "metadata": {},
   "outputs": [
    {
     "name": "stdout",
     "output_type": "stream",
     "text": [
      "no of null values 518\n"
     ]
    },
    {
     "data": {
      "text/plain": [
       "-0.36469197420163796"
      ]
     },
     "execution_count": 74,
     "metadata": {},
     "output_type": "execute_result"
    }
   ],
   "source": [
    "print('no of null values', pr['STDNT_TEST_ENTRANCE_COMB'].isnull().sum())\n",
    "pr['STDNT_TEST_ENTRANCE_COMB'].skew()\n",
    "#its lightly left skewed, we can impute null with mean value/"
   ]
  },
  {
   "cell_type": "code",
   "execution_count": 75,
   "id": "dbb9523c",
   "metadata": {},
   "outputs": [],
   "source": [
    "a = pr['STDNT_TEST_ENTRANCE_COMB'].mean()\n",
    "\n",
    "pr['STDNT_TEST_ENTRANCE_COMB'] = pr['STDNT_TEST_ENTRANCE_COMB'].fillna(a)"
   ]
  },
  {
   "cell_type": "code",
   "execution_count": 76,
   "id": "5b9b81e2",
   "metadata": {},
   "outputs": [
    {
     "data": {
      "text/plain": [
       "array([94], dtype=int64)"
      ]
     },
     "execution_count": 76,
     "metadata": {},
     "output_type": "execute_result"
    }
   ],
   "source": [
    "(pr['SECOND_TERM'] - pr['FIRST_TERM']).unique()"
   ]
  },
  {
   "cell_type": "code",
   "execution_count": 77,
   "id": "bfde2c74",
   "metadata": {},
   "outputs": [],
   "source": [
    "#we can remove Second term feature\n",
    "pr.drop('SECOND_TERM', axis=1, inplace=True)"
   ]
  },
  {
   "cell_type": "code",
   "execution_count": 78,
   "id": "2a476585",
   "metadata": {},
   "outputs": [],
   "source": [
    "#we can keep only year as first term and then later we can label encode it\n",
    "pr['FIRST_TERM'] = pr['FIRST_TERM'].apply(lambda x: str(x)[:4])\n",
    "#table has 5years of data"
   ]
  },
  {
   "cell_type": "code",
   "execution_count": 79,
   "id": "85fa8919",
   "metadata": {},
   "outputs": [],
   "source": [
    "#We can remove all the subject names and keep number of subjects each student attended\n",
    "#we can change the feature as 1 if there is a subject else 0\n",
    "#list of course feature name taken by each student in first term\n",
    "course_1 = ['CORE_COURSE_NAME_1_F',  'CORE_COURSE_NAME_2_F', 'CORE_COURSE_NAME_3_F', 'CORE_COURSE_NAME_4_F',\n",
    "      'CORE_COURSE_NAME_5_F', 'CORE_COURSE_NAME_6_F']\n",
    "for feat in course_1:\n",
    "    pr[feat] = pr[feat].fillna(0).apply(lambda x: 0 if x==0 else 1)"
   ]
  },
  {
   "cell_type": "code",
   "execution_count": 80,
   "id": "d9865fd6",
   "metadata": {},
   "outputs": [],
   "source": [
    "pr['No_sub_first_term'] = pr[['CORE_COURSE_NAME_1_F',  'CORE_COURSE_NAME_2_F', 'CORE_COURSE_NAME_3_F', 'CORE_COURSE_NAME_4_F',\n",
    "      'CORE_COURSE_NAME_5_F', 'CORE_COURSE_NAME_6_F']].sum(axis=1)"
   ]
  },
  {
   "cell_type": "code",
   "execution_count": 81,
   "id": "ae744198",
   "metadata": {},
   "outputs": [],
   "source": [
    "#remove those course columns\n",
    "\n",
    "pr.drop(course_1, axis=1, inplace=True)"
   ]
  },
  {
   "cell_type": "code",
   "execution_count": 82,
   "id": "f2b7ad35",
   "metadata": {},
   "outputs": [],
   "source": [
    "#Calculate the grades obtained by each student in overall subjects\n",
    "#Almost every students have cleared the course, we can delete these grades\n",
    "pr.drop(['CORE_COURSE_GRADE_1_F',  'CORE_COURSE_GRADE_2_F', 'CORE_COURSE_GRADE_3_F', 'CORE_COURSE_GRADE_4_F',\n",
    "      'CORE_COURSE_GRADE_5_F', 'CORE_COURSE_GRADE_6_F'], axis=1, inplace=True)"
   ]
  },
  {
   "cell_type": "code",
   "execution_count": 83,
   "id": "194d4470",
   "metadata": {},
   "outputs": [],
   "source": [
    "#WE can calculate no of sunjects taken in 2nd term and delete those columns\n",
    "#list of course feature name taken by each student in first term\n",
    "course_2 = ['CORE_COURSE_NAME_1_S',  'CORE_COURSE_NAME_2_S', 'CORE_COURSE_NAME_3_S', 'CORE_COURSE_NAME_4_S',\n",
    "      'CORE_COURSE_NAME_5_S', 'CORE_COURSE_NAME_6_S']\n",
    "for feat in course_2:\n",
    "    pr[feat] = pr[feat].fillna(0).apply(lambda x: 0 if x==0 else 1)"
   ]
  },
  {
   "cell_type": "code",
   "execution_count": 84,
   "id": "3e3fd8f7",
   "metadata": {},
   "outputs": [],
   "source": [
    "pr['No_sub_second_term'] = pr[['CORE_COURSE_NAME_1_S',  'CORE_COURSE_NAME_2_S', 'CORE_COURSE_NAME_3_S', 'CORE_COURSE_NAME_4_S',\n",
    "      'CORE_COURSE_NAME_5_S', 'CORE_COURSE_NAME_6_S']].sum(axis=1)"
   ]
  },
  {
   "cell_type": "code",
   "execution_count": 85,
   "id": "b90e6169",
   "metadata": {},
   "outputs": [],
   "source": [
    "#remove those course columns\n",
    "\n",
    "pr.drop(course_2, axis=1, inplace=True)"
   ]
  },
  {
   "cell_type": "code",
   "execution_count": 86,
   "id": "8fe78db8",
   "metadata": {},
   "outputs": [],
   "source": [
    "#remove grade columns\n",
    "\n",
    "pr.drop(['CORE_COURSE_GRADE_1_S',  'CORE_COURSE_GRADE_2_S', 'CORE_COURSE_GRADE_3_S', 'CORE_COURSE_GRADE_4_S',\n",
    "      'CORE_COURSE_GRADE_5_S', 'CORE_COURSE_GRADE_6_S'], axis=1, inplace=True)"
   ]
  },
  {
   "cell_type": "code",
   "execution_count": 87,
   "id": "6b4dc59e",
   "metadata": {},
   "outputs": [
    {
     "data": {
      "text/plain": [
       "Off Campus    1981\n",
       "On Campus     1419\n",
       "Name: HOUSING_STS, dtype: int64"
      ]
     },
     "execution_count": 87,
     "metadata": {},
     "output_type": "execute_result"
    }
   ],
   "source": [
    "pr['HOUSING_STS'].value_counts()"
   ]
  },
  {
   "cell_type": "code",
   "execution_count": 88,
   "id": "05053161",
   "metadata": {},
   "outputs": [
    {
     "data": {
      "text/plain": [
       "25"
      ]
     },
     "execution_count": 88,
     "metadata": {},
     "output_type": "execute_result"
    }
   ],
   "source": [
    "pr['DISTANCE_FROM_HOME'].isnull().sum()\n",
    "#there are 25null values, we can impute the null values\n",
    "#we can fill mean for null values"
   ]
  },
  {
   "cell_type": "code",
   "execution_count": 89,
   "id": "f90340b3",
   "metadata": {},
   "outputs": [],
   "source": [
    "pr['DISTANCE_FROM_HOME'].fillna(pr['DISTANCE_FROM_HOME'].mean(), inplace=True)"
   ]
  },
  {
   "cell_type": "code",
   "execution_count": 90,
   "id": "ae6792d2",
   "metadata": {},
   "outputs": [],
   "source": [
    "#we can impute null with mean\n",
    "pr['HIGH_SCHL_GPA'].fillna(pr['HIGH_SCHL_GPA'].mean(), inplace=True)"
   ]
  },
  {
   "cell_type": "code",
   "execution_count": 91,
   "id": "bf6a2cd0",
   "metadata": {},
   "outputs": [],
   "source": [
    "#1 null value in HIGH_school_name\n",
    "#we can back fill this record\n",
    "pr['HIGH_SCHL_NAME'].fillna(method='bfill', inplace=True)"
   ]
  },
  {
   "cell_type": "code",
   "execution_count": 92,
   "id": "71c0e4d6",
   "metadata": {},
   "outputs": [],
   "source": [
    "#we could drop FATHER_HI_EDU_CD & MOTHER_HI_EDU_CD, becuase it duplicated with FATHER_HI_EDU_DESC & moTHER_HI_EDU_DESC\n",
    "pr.drop(['FATHER_HI_EDU_CD', 'MOTHER_HI_EDU_CD'], axis=1, inplace=True)"
   ]
  },
  {
   "cell_type": "code",
   "execution_count": 93,
   "id": "8b62fd91",
   "metadata": {},
   "outputs": [],
   "source": [
    "# DEGREE_GROUP_CD  and  DEGREE_GROUP_DESC are same, we can drop anyone\n",
    "pr.drop('DEGREE_GROUP_CD', axis=1, inplace=True)"
   ]
  },
  {
   "cell_type": "code",
   "execution_count": 94,
   "id": "7e1b09d1",
   "metadata": {},
   "outputs": [],
   "source": [
    "pr['First_term_backlog_hrs']=(pr['FIRST_TERM_ATTEMPT_HRS']-pr['FIRST_TERM_EARNED_HRS'])"
   ]
  },
  {
   "cell_type": "code",
   "execution_count": 95,
   "id": "99629cd8",
   "metadata": {},
   "outputs": [],
   "source": [
    "pr.drop('FIRST_TERM_EARNED_HRS', axis=1, inplace=True)"
   ]
  },
  {
   "cell_type": "code",
   "execution_count": 96,
   "id": "60d5d604",
   "metadata": {},
   "outputs": [],
   "source": [
    "pr['First_term_backlog_hrs'] = pr['First_term_backlog_hrs'].apply(lambda x : 0 if x<0 else x)"
   ]
  },
  {
   "cell_type": "code",
   "execution_count": 97,
   "id": "f8a8640f",
   "metadata": {},
   "outputs": [],
   "source": [
    "# SECOND_TERM_ATTEMPT_HRS & SECOND_TERM_EARNED_HRS have null, might be they left the course after first term,\n",
    "#we impute with 0\n",
    "pr['SECOND_TERM_ATTEMPT_HRS'].fillna(0, inplace=True)\n",
    "pr['SECOND_TERM_EARNED_HRS'].fillna(0, inplace=True)"
   ]
  },
  {
   "cell_type": "code",
   "execution_count": 98,
   "id": "e051a0f4",
   "metadata": {},
   "outputs": [],
   "source": [
    "pr['Second_term_backlog_hrs']  = (pr['SECOND_TERM_ATTEMPT_HRS'] - pr['SECOND_TERM_EARNED_HRS'])\n",
    "pr['Second_term_backlog_hrs'] = pr['Second_term_backlog_hrs'].apply(lambda x : 0 if x<0 else x)"
   ]
  },
  {
   "cell_type": "code",
   "execution_count": 99,
   "id": "00429cd9",
   "metadata": {},
   "outputs": [],
   "source": [
    "pr.drop('SECOND_TERM_EARNED_HRS', axis=1, inplace=True)"
   ]
  },
  {
   "cell_type": "code",
   "execution_count": 100,
   "id": "6ee05587",
   "metadata": {},
   "outputs": [],
   "source": [
    "#we can drop GROSS_FIN_NEED, becuase we have one more column called unmet need\n",
    "pr.drop('GROSS_FIN_NEED',axis=1, inplace=True)"
   ]
  },
  {
   "cell_type": "code",
   "execution_count": 101,
   "id": "c184d87c",
   "metadata": {},
   "outputs": [],
   "source": [
    "pr['UNMET_NEED'] = pr['UNMET_NEED'].apply(lambda x: 0 if x<0 else x)"
   ]
  },
  {
   "cell_type": "code",
   "execution_count": 102,
   "id": "bcae3b1f",
   "metadata": {},
   "outputs": [
    {
     "data": {
      "text/plain": [
       "0"
      ]
     },
     "execution_count": 102,
     "metadata": {},
     "output_type": "execute_result"
    }
   ],
   "source": [
    "pr.isna().sum().sum()"
   ]
  },
  {
   "cell_type": "code",
   "execution_count": 103,
   "id": "1869dd59",
   "metadata": {},
   "outputs": [
    {
     "data": {
      "text/plain": [
       "(3400, 25)"
      ]
     },
     "execution_count": 103,
     "metadata": {},
     "output_type": "execute_result"
    }
   ],
   "source": [
    "pr.shape"
   ]
  },
  {
   "cell_type": "code",
   "execution_count": 104,
   "id": "2dbff3d7",
   "metadata": {},
   "outputs": [
    {
     "data": {
      "text/plain": [
       "False    3400\n",
       "dtype: int64"
      ]
     },
     "execution_count": 104,
     "metadata": {},
     "output_type": "execute_result"
    }
   ],
   "source": [
    "pr.duplicated().value_counts()"
   ]
  },
  {
   "cell_type": "markdown",
   "id": "91323de2",
   "metadata": {},
   "source": [
    "# Outlier treatment"
   ]
  },
  {
   "cell_type": "code",
   "execution_count": 105,
   "id": "a2489eb6",
   "metadata": {},
   "outputs": [
    {
     "data": {
      "text/plain": [
       "Index(['STDNT_AGE', 'STDNT_TEST_ENTRANCE_COMB', 'DISTANCE_FROM_HOME',\n",
       "       'HIGH_SCHL_GPA', 'FIRST_TERM_ATTEMPT_HRS', 'SECOND_TERM_ATTEMPT_HRS',\n",
       "       'COST_OF_ATTEND', 'EST_FAM_CONTRIBUTION', 'UNMET_NEED', 'Attrition',\n",
       "       'No_sub_first_term', 'No_sub_second_term', 'First_term_backlog_hrs',\n",
       "       'Second_term_backlog_hrs'],\n",
       "      dtype='object')"
      ]
     },
     "execution_count": 105,
     "metadata": {},
     "output_type": "execute_result"
    }
   ],
   "source": [
    "pr.select_dtypes(include='number').columns"
   ]
  },
  {
   "cell_type": "code",
   "execution_count": 106,
   "id": "452956d0",
   "metadata": {},
   "outputs": [],
   "source": [
    "pr = pr[pr['HIGH_SCHL_GPA'] != 0]"
   ]
  },
  {
   "cell_type": "code",
   "execution_count": 107,
   "id": "95496194",
   "metadata": {},
   "outputs": [
    {
     "name": "stderr",
     "output_type": "stream",
     "text": [
      "C:\\ProgramData\\Anaconda3\\lib\\site-packages\\seaborn\\_decorators.py:36: FutureWarning: Pass the following variable as a keyword arg: x. From version 0.12, the only valid positional argument will be `data`, and passing other arguments without an explicit keyword will result in an error or misinterpretation.\n",
      "  warnings.warn(\n"
     ]
    },
    {
     "data": {
      "image/png": "[encoded data removed]",
      "text/plain": [
       "<Figure size 432x288 with 1 Axes>"
      ]
     },
     "metadata": {
      "needs_background": "light"
     },
     "output_type": "display_data"
    },
    {
     "name": "stderr",
     "output_type": "stream",
     "text": [
      "C:\\ProgramData\\Anaconda3\\lib\\site-packages\\seaborn\\_decorators.py:36: FutureWarning: Pass the following variable as a keyword arg: x. From version 0.12, the only valid positional argument will be `data`, and passing other arguments without an explicit keyword will result in an error or misinterpretation.\n",
      "  warnings.warn(\n"
     ]
    },
    {
     "data": {
      "image/png": "[encoded data removed]",
      "text/plain": [
       "<Figure size 432x288 with 1 Axes>"
      ]
     },
     "metadata": {
      "needs_background": "light"
     },
     "output_type": "display_data"
    },
    {
     "name": "stderr",
     "output_type": "stream",
     "text": [
      "C:\\ProgramData\\Anaconda3\\lib\\site-packages\\seaborn\\_decorators.py:36: FutureWarning: Pass the following variable as a keyword arg: x. From version 0.12, the only valid positional argument will be `data`, and passing other arguments without an explicit keyword will result in an error or misinterpretation.\n",
      "  warnings.warn(\n"
     ]
    },
    {
     "data": {
      "image/png": "[encoded data removed]",
      "text/plain": [
       "<Figure size 432x288 with 1 Axes>"
      ]
     },
     "metadata": {
      "needs_background": "light"
     },
     "output_type": "display_data"
    },
    {
     "name": "stderr",
     "output_type": "stream",
     "text": [
      "C:\\ProgramData\\Anaconda3\\lib\\site-packages\\seaborn\\_decorators.py:36: FutureWarning: Pass the following variable as a keyword arg: x. From version 0.12, the only valid positional argument will be `data`, and passing other arguments without an explicit keyword will result in an error or misinterpretation.\n",
      "  warnings.warn(\n"
     ]
    },
    {
     "data": {
      "image/png": "[encoded data removed]",
      "text/plain": [
       "<Figure size 432x288 with 1 Axes>"
      ]
     },
     "metadata": {
      "needs_background": "light"
     },
     "output_type": "display_data"
    },
    {
     "name": "stderr",
     "output_type": "stream",
     "text": [
      "C:\\ProgramData\\Anaconda3\\lib\\site-packages\\seaborn\\_decorators.py:36: FutureWarning: Pass the following variable as a keyword arg: x. From version 0.12, the only valid positional argument will be `data`, and passing other arguments without an explicit keyword will result in an error or misinterpretation.\n",
      "  warnings.warn(\n"
     ]
    },
    {
     "data": {
      "image/png": "[encoded data removed]",
      "text/plain": [
       "<Figure size 432x288 with 1 Axes>"
      ]
     },
     "metadata": {
      "needs_background": "light"
     },
     "output_type": "display_data"
    }
   ],
   "source": [
    "num_list = ['STDNT_AGE', 'STDNT_TEST_ENTRANCE_COMB', 'DISTANCE_FROM_HOME', 'HIGH_SCHL_GPA', 'COST_OF_ATTEND']\n",
    "\n",
    "for feat in num_list:\n",
    "    sns.boxplot(pr[feat])\n",
    "    plt.show()"
   ]
  },
  {
   "cell_type": "code",
   "execution_count": 108,
   "id": "27d07dc2",
   "metadata": {},
   "outputs": [],
   "source": [
    "#Power transformation to reduce outliers\n",
    "from sklearn.preprocessing import PowerTransformer\n",
    "pt = PowerTransformer()"
   ]
  },
  {
   "cell_type": "code",
   "execution_count": 109,
   "id": "5bdc6de2",
   "metadata": {},
   "outputs": [],
   "source": [
    "pr[num_list] =pt.fit_transform(pr[num_list])"
   ]
  },
  {
   "cell_type": "markdown",
   "id": "0d98b12a",
   "metadata": {},
   "source": [
    "# Label encoding"
   ]
  },
  {
   "cell_type": "code",
   "execution_count": 110,
   "id": "99e1edf6",
   "metadata": {},
   "outputs": [],
   "source": [
    "pr.drop('HIGH_SCHL_NAME', axis=1, inplace=True)"
   ]
  },
  {
   "cell_type": "code",
   "execution_count": 111,
   "id": "dd578c49",
   "metadata": {},
   "outputs": [],
   "source": [
    "cat_list = list(pr.select_dtypes(exclude='number').columns)"
   ]
  },
  {
   "cell_type": "code",
   "execution_count": 112,
   "id": "497ffc07",
   "metadata": {},
   "outputs": [
    {
     "data": {
      "text/plain": [
       "['STDNT_GENDER',\n",
       " 'STDNT_BACKGROUND',\n",
       " 'IN_STATE_FLAG',\n",
       " 'INTERNATIONAL_STS',\n",
       " 'STDNT_MAJOR',\n",
       " 'FIRST_TERM',\n",
       " 'HOUSING_STS',\n",
       " 'FATHER_HI_EDU_DESC',\n",
       " 'MOTHER_HI_EDU_DESC',\n",
       " 'DEGREE_GROUP_DESC']"
      ]
     },
     "execution_count": 112,
     "metadata": {},
     "output_type": "execute_result"
    }
   ],
   "source": [
    "cat_list"
   ]
  },
  {
   "cell_type": "code",
   "execution_count": 113,
   "id": "88c7dc59",
   "metadata": {},
   "outputs": [],
   "source": [
    "pr_final = pd.get_dummies(pr, columns=cat_list, drop_first=True)"
   ]
  },
  {
   "cell_type": "code",
   "execution_count": 114,
   "id": "2874a8e2",
   "metadata": {},
   "outputs": [
    {
     "name": "stdout",
     "output_type": "stream",
     "text": [
      "<class 'pandas.core.frame.DataFrame'>\n",
      "Int64Index: 3399 entries, 0 to 3399\n",
      "Data columns (total 93 columns):\n",
      " #   Column                                        Non-Null Count  Dtype  \n",
      "---  ------                                        --------------  -----  \n",
      " 0   STDNT_AGE                                     3399 non-null   float64\n",
      " 1   STDNT_TEST_ENTRANCE_COMB                      3399 non-null   float64\n",
      " 2   DISTANCE_FROM_HOME                            3399 non-null   float64\n",
      " 3   HIGH_SCHL_GPA                                 3399 non-null   float64\n",
      " 4   FIRST_TERM_ATTEMPT_HRS                        3399 non-null   int64  \n",
      " 5   SECOND_TERM_ATTEMPT_HRS                       3399 non-null   float64\n",
      " 6   COST_OF_ATTEND                                3399 non-null   float64\n",
      " 7   EST_FAM_CONTRIBUTION                          3399 non-null   int64  \n",
      " 8   UNMET_NEED                                    3399 non-null   float64\n",
      " 9   Attrition                                     3399 non-null   int64  \n",
      " 10  No_sub_first_term                             3399 non-null   int64  \n",
      " 11  No_sub_second_term                            3399 non-null   int64  \n",
      " 12  First_term_backlog_hrs                        3399 non-null   int64  \n",
      " 13  Second_term_backlog_hrs                       3399 non-null   float64\n",
      " 14  STDNT_GENDER_M                                3399 non-null   uint8  \n",
      " 15  STDNT_BACKGROUND_BGD 2                        3399 non-null   uint8  \n",
      " 16  STDNT_BACKGROUND_BGD 3                        3399 non-null   uint8  \n",
      " 17  STDNT_BACKGROUND_BGD 4                        3399 non-null   uint8  \n",
      " 18  STDNT_BACKGROUND_BGD 5                        3399 non-null   uint8  \n",
      " 19  STDNT_BACKGROUND_BGD 6                        3399 non-null   uint8  \n",
      " 20  STDNT_BACKGROUND_BGD 7                        3399 non-null   uint8  \n",
      " 21  STDNT_BACKGROUND_BGD 8                        3399 non-null   uint8  \n",
      " 22  IN_STATE_FLAG_Y                               3399 non-null   uint8  \n",
      " 23  INTERNATIONAL_STS_Y                           3399 non-null   uint8  \n",
      " 24  STDNT_MAJOR_Applied Computer Science          3399 non-null   uint8  \n",
      " 25  STDNT_MAJOR_Art                               3399 non-null   uint8  \n",
      " 26  STDNT_MAJOR_Art Education                     3399 non-null   uint8  \n",
      " 27  STDNT_MAJOR_Biology                           3399 non-null   uint8  \n",
      " 28  STDNT_MAJOR_Biology and Secondary Ed          3399 non-null   uint8  \n",
      " 29  STDNT_MAJOR_Chemistry                         3399 non-null   uint8  \n",
      " 30  STDNT_MAJOR_Chemistry and Secondary Ed        3399 non-null   uint8  \n",
      " 31  STDNT_MAJOR_Communication                     3399 non-null   uint8  \n",
      " 32  STDNT_MAJOR_Computer Science - Games          3399 non-null   uint8  \n",
      " 33  STDNT_MAJOR_Computer Science - Systems        3399 non-null   uint8  \n",
      " 34  STDNT_MAJOR_Criminal Justice                  3399 non-null   uint8  \n",
      " 35  STDNT_MAJOR_Early Admission - Accel           3399 non-null   uint8  \n",
      " 36  STDNT_MAJOR_Early Childhood Education         3399 non-null   uint8  \n",
      " 37  STDNT_MAJOR_Earth and Space Science           3399 non-null   uint8  \n",
      " 38  STDNT_MAJOR_Engineering Studies               3399 non-null   uint8  \n",
      " 39  STDNT_MAJOR_English Language/Literature       3399 non-null   uint8  \n",
      " 40  STDNT_MAJOR_English and Secondary Ed          3399 non-null   uint8  \n",
      " 41  STDNT_MAJOR_Exercise Science                  3399 non-null   uint8  \n",
      " 42  STDNT_MAJOR_Finance                           3399 non-null   uint8  \n",
      " 43  STDNT_MAJOR_French                            3399 non-null   uint8  \n",
      " 44  STDNT_MAJOR_French with Teacher Cert          3399 non-null   uint8  \n",
      " 45  STDNT_MAJOR_General Business                  3399 non-null   uint8  \n",
      " 46  STDNT_MAJOR_General Studies/AS                3399 non-null   uint8  \n",
      " 47  STDNT_MAJOR_Geology                           3399 non-null   uint8  \n",
      " 48  STDNT_MAJOR_Health Science                    3399 non-null   uint8  \n",
      " 49  STDNT_MAJOR_Health and Physical Education     3399 non-null   uint8  \n",
      " 50  STDNT_MAJOR_History                           3399 non-null   uint8  \n",
      " 51  STDNT_MAJOR_History and Secondary Ed          3399 non-null   uint8  \n",
      " 52  STDNT_MAJOR_Information Technology            3399 non-null   uint8  \n",
      " 53  STDNT_MAJOR_Joint Enrollment - Accel          3399 non-null   uint8  \n",
      " 54  STDNT_MAJOR_Liberal Arts                      3399 non-null   uint8  \n",
      " 55  STDNT_MAJOR_Management                        3399 non-null   uint8  \n",
      " 56  STDNT_MAJOR_Management Information Systems    3399 non-null   uint8  \n",
      " 57  STDNT_MAJOR_Marketing                         3399 non-null   uint8  \n",
      " 58  STDNT_MAJOR_Mathematics                       3399 non-null   uint8  \n",
      " 59  STDNT_MAJOR_Mathematics and Secondary Ed      3399 non-null   uint8  \n",
      " 60  STDNT_MAJOR_Middle Grades Education           3399 non-null   uint8  \n",
      " 61  STDNT_MAJOR_Music                             3399 non-null   uint8  \n",
      " 62  STDNT_MAJOR_Music Education                   3399 non-null   uint8  \n",
      " 63  STDNT_MAJOR_Music Performance                 3399 non-null   uint8  \n",
      " 64  STDNT_MAJOR_Nursing                           3399 non-null   uint8  \n",
      " 65  STDNT_MAJOR_Political Science                 3399 non-null   uint8  \n",
      " 66  STDNT_MAJOR_Pre-Business                      3399 non-null   uint8  \n",
      " 67  STDNT_MAJOR_Pre-Engineering/RETP              3399 non-null   uint8  \n",
      " 68  STDNT_MAJOR_Pre-Nursing                       3399 non-null   uint8  \n",
      " 69  STDNT_MAJOR_Psychology                        3399 non-null   uint8  \n",
      " 70  STDNT_MAJOR_Sociology                         3399 non-null   uint8  \n",
      " 71  STDNT_MAJOR_Spanish                           3399 non-null   uint8  \n",
      " 72  STDNT_MAJOR_Spanish with Teacher Cert         3399 non-null   uint8  \n",
      " 73  STDNT_MAJOR_Spec Ed: Gen. Curr. - Reading     3399 non-null   uint8  \n",
      " 74  STDNT_MAJOR_Theatre Arts                      3399 non-null   uint8  \n",
      " 75  STDNT_MAJOR_Theatre Education                 3399 non-null   uint8  \n",
      " 76  STDNT_MAJOR_Undeclared                        3399 non-null   uint8  \n",
      " 77  FIRST_TERM_2006                               3399 non-null   uint8  \n",
      " 78  FIRST_TERM_2007                               3399 non-null   uint8  \n",
      " 79  FIRST_TERM_2008                               3399 non-null   uint8  \n",
      " 80  FIRST_TERM_2009                               3399 non-null   uint8  \n",
      " 81  FIRST_TERM_2010                               3399 non-null   uint8  \n",
      " 82  HOUSING_STS_On Campus                         3399 non-null   uint8  \n",
      " 83  FATHER_HI_EDU_DESC_High School                3399 non-null   uint8  \n",
      " 84  FATHER_HI_EDU_DESC_Middle School/Junior High  3399 non-null   uint8  \n",
      " 85  FATHER_HI_EDU_DESC_No Information             3399 non-null   uint8  \n",
      " 86  FATHER_HI_EDU_DESC_Other/Unknown              3399 non-null   uint8  \n",
      " 87  MOTHER_HI_EDU_DESC_High School                3399 non-null   uint8  \n",
      " 88  MOTHER_HI_EDU_DESC_Middle School/Junior High  3399 non-null   uint8  \n",
      " 89  MOTHER_HI_EDU_DESC_No Information             3399 non-null   uint8  \n",
      " 90  MOTHER_HI_EDU_DESC_Other/Unknown              3399 non-null   uint8  \n",
      " 91  DEGREE_GROUP_DESC_Bachelors                   3399 non-null   uint8  \n",
      " 92  DEGREE_GROUP_DESC_Career Associate            3399 non-null   uint8  \n",
      "dtypes: float64(8), int64(6), uint8(79)\n",
      "memory usage: 660.5 KB\n"
     ]
    }
   ],
   "source": [
    "pr_final.info()"
   ]
  },
  {
   "cell_type": "code",
   "execution_count": 115,
   "id": "38c3d4fc",
   "metadata": {},
   "outputs": [],
   "source": [
    "# split the data.\n",
    "X=pr_final.drop('Attrition', axis=1)\n",
    "y=pr_final['Attrition']"
   ]
  },
  {
   "cell_type": "code",
   "execution_count": 116,
   "id": "6b919ce3",
   "metadata": {},
   "outputs": [],
   "source": [
    "X_train, X_test, y_train, y_test = train_test_split(X,y, test_size=0.3, random_state=42)"
   ]
  },
  {
   "cell_type": "code",
   "execution_count": 117,
   "id": "14a1a70f",
   "metadata": {},
   "outputs": [],
   "source": [
    "#Data transform for Unmet need, EST_FAM_CONTRIBUTION\n",
    "X_train['EST_FAM_CONTRIBUTION'] = pt.fit_transform(X_train[['EST_FAM_CONTRIBUTION']])\n",
    "X_test['EST_FAM_CONTRIBUTION'] = pt.transform(X_test[['EST_FAM_CONTRIBUTION']])"
   ]
  },
  {
   "cell_type": "code",
   "execution_count": 118,
   "id": "cf2fca3f",
   "metadata": {},
   "outputs": [],
   "source": [
    "X_train['UNMET_NEED'] = pt.fit_transform(X_train[['UNMET_NEED']])\n",
    "X_test['UNMET_NEED'] = pt.transform(X_test[['UNMET_NEED']])"
   ]
  },
  {
   "cell_type": "markdown",
   "id": "758374ac",
   "metadata": {},
   "source": [
    "# Model building"
   ]
  },
  {
   "cell_type": "code",
   "execution_count": 119,
   "id": "558a68d7",
   "metadata": {},
   "outputs": [],
   "source": [
    "from sklearn.metrics import accuracy_score, roc_curve, roc_auc_score, confusion_matrix, precision_score, recall_score, f1_score"
   ]
  },
  {
   "cell_type": "code",
   "execution_count": 120,
   "id": "22188613",
   "metadata": {},
   "outputs": [],
   "source": [
    "def model_eval(algo, X_train=X_train, X_test=X_test, y_train=y_train, y_test=y_test):\n",
    "    algo.fit(X_train, y_train)\n",
    "    \n",
    "    y_train_pred = algo.predict(X_train)\n",
    "    y_train_pred_proba = algo.predict_proba(X_train)[:, 1]\n",
    "\n",
    "    cm = confusion_matrix(y_train, y_train_pred)\n",
    "    print('Train dataset :\\n')\n",
    "    print('Confusion matrix:\\n', cm)\n",
    "    print('Accuracy :', accuracy_score(y_train, y_train_pred))\n",
    "    print('Precision :',precision_score(y_train, y_train_pred))\n",
    "    print('Recall :', recall_score(y_train, y_train_pred))\n",
    "    print('AUC score :', roc_auc_score(y_train, y_train_pred_proba))\n",
    "    print('F1 score :', f1_score(y_train, y_train_pred))\n",
    "    \n",
    "    fpr_train, tpr_train, threshold_train = roc_curve(y_train, y_train_pred_proba)\n",
    "\n",
    "    plt.plot(fpr_train,fpr_train)\n",
    "    plt.plot(fpr_train,tpr_train)\n",
    "    plt.show()\n",
    "    \n",
    "    \n",
    "    y_test_pred = algo.predict(X_test)\n",
    "    y_test_pred_proba = algo.predict_proba(X_test)[:, 1]\n",
    "\n",
    "    cm = confusion_matrix(y_test, y_test_pred)\n",
    "    print('\\n\\nTest dataset :\\n')\n",
    "    print('Confusion matrix:\\n', cm)\n",
    "    print('Accuracy :', accuracy_score(y_test, y_test_pred))\n",
    "    print('Precision :',precision_score(y_test, y_test_pred))\n",
    "    print('Recall :', recall_score(y_test, y_test_pred))\n",
    "    print('AUC score :', roc_auc_score(y_test, y_test_pred_proba))\n",
    "    print('F1 score :', f1_score(y_test, y_test_pred))\n",
    "    \n",
    "    fpr_test, tpr_test, threshold_test = roc_curve(y_test, y_test_pred_proba)\n",
    "\n",
    "    plt.plot(fpr_test,fpr_test)\n",
    "    plt.plot(fpr_test,tpr_test)\n",
    "    plt.show()"
   ]
  },
  {
   "cell_type": "markdown",
   "id": "a22e2e6a",
   "metadata": {},
   "source": [
    "# Suggested approaches"
   ]
  },
  {
   "cell_type": "markdown",
   "id": "95183790",
   "metadata": {},
   "source": [
    "## 1.Logistic regression"
   ]
  },
  {
   "cell_type": "code",
   "execution_count": 121,
   "id": "88ffdee4",
   "metadata": {},
   "outputs": [
    {
     "name": "stderr",
     "output_type": "stream",
     "text": [
      "C:\\Users\\PRANAY\\AppData\\Roaming\\Python\\Python39\\site-packages\\sklearn\\linear_model\\_logistic.py:444: ConvergenceWarning: lbfgs failed to converge (status=1):\n",
      "STOP: TOTAL NO. of ITERATIONS REACHED LIMIT.\n",
      "\n",
      "Increase the number of iterations (max_iter) or scale the data as shown in:\n",
      "    https://scikit-learn.org/stable/modules/preprocessing.html\n",
      "Please also refer to the documentation for alternative solver options:\n",
      "    https://scikit-learn.org/stable/modules/linear_model.html#logistic-regression\n",
      "  n_iter_i = _check_optimize_result(\n"
     ]
    },
    {
     "name": "stdout",
     "output_type": "stream",
     "text": [
      "Train dataset :\n",
      "\n",
      "Confusion matrix:\n",
      " [[1851   30]\n",
      " [ 351  147]]\n",
      "Accuracy : 0.8398486759142497\n",
      "Precision : 0.8305084745762712\n",
      "Recall : 0.29518072289156627\n",
      "AUC score : 0.7563993347125877\n",
      "F1 score : 0.43555555555555553\n"
     ]
    },
    {
     "data": {
      "image/png": "[encoded data removed]",
      "text/plain": [
       "<Figure size 432x288 with 1 Axes>"
      ]
     },
     "metadata": {
      "needs_background": "light"
     },
     "output_type": "display_data"
    },
    {
     "name": "stdout",
     "output_type": "stream",
     "text": [
      "\n",
      "\n",
      "Test dataset :\n",
      "\n",
      "Confusion matrix:\n",
      " [[788   8]\n",
      " [155  69]]\n",
      "Accuracy : 0.8401960784313726\n",
      "Precision : 0.8961038961038961\n",
      "Recall : 0.3080357142857143\n",
      "AUC score : 0.7104103104809764\n",
      "F1 score : 0.45847176079734214\n"
     ]
    },
    {
     "data": {
      "image/png": "[encoded data removed]",
      "text/plain": [
       "<Figure size 432x288 with 1 Axes>"
      ]
     },
     "metadata": {
      "needs_background": "light"
     },
     "output_type": "display_data"
    }
   ],
   "source": [
    "logr = LogisticRegression()\n",
    "model_eval(logr)"
   ]
  },
  {
   "cell_type": "markdown",
   "id": "38e19dfa",
   "metadata": {},
   "source": [
    "## 1.1 Logistic regression with data imbalance treatment"
   ]
  },
  {
   "cell_type": "code",
   "execution_count": 122,
   "id": "466eee5d",
   "metadata": {
    "scrolled": false
   },
   "outputs": [
    {
     "data": {
      "text/plain": [
       "0    78.758458\n",
       "1    21.241542\n",
       "Name: Attrition, dtype: float64"
      ]
     },
     "execution_count": 122,
     "metadata": {},
     "output_type": "execute_result"
    }
   ],
   "source": [
    "y.value_counts(normalize=True) * 100"
   ]
  },
  {
   "cell_type": "code",
   "execution_count": 123,
   "id": "7f668790",
   "metadata": {
    "scrolled": true
   },
   "outputs": [],
   "source": [
    "from imblearn.over_sampling import SMOTE"
   ]
  },
  {
   "cell_type": "code",
   "execution_count": 124,
   "id": "c3d48c26",
   "metadata": {},
   "outputs": [],
   "source": [
    "from warnings import filterwarnings\n",
    "filterwarnings('ignore')"
   ]
  },
  {
   "cell_type": "code",
   "execution_count": 125,
   "id": "0f8d1d18",
   "metadata": {},
   "outputs": [],
   "source": [
    "sm = SMOTE(random_state=42)"
   ]
  },
  {
   "cell_type": "code",
   "execution_count": 126,
   "id": "a9e20222",
   "metadata": {},
   "outputs": [],
   "source": [
    "X_train_sm, y_train_sm = sm.fit_resample(X_train, y_train)"
   ]
  },
  {
   "cell_type": "code",
   "execution_count": 127,
   "id": "11f0c25e",
   "metadata": {},
   "outputs": [
    {
     "data": {
      "text/plain": [
       "1    1881\n",
       "0    1881\n",
       "Name: Attrition, dtype: int64"
      ]
     },
     "execution_count": 127,
     "metadata": {},
     "output_type": "execute_result"
    }
   ],
   "source": [
    "y_train_sm.value_counts()"
   ]
  },
  {
   "cell_type": "code",
   "execution_count": 128,
   "id": "977a65fd",
   "metadata": {},
   "outputs": [
    {
     "data": {
      "text/plain": [
       "0    1881\n",
       "1     498\n",
       "Name: Attrition, dtype: int64"
      ]
     },
     "execution_count": 128,
     "metadata": {},
     "output_type": "execute_result"
    }
   ],
   "source": [
    "y_train.value_counts()"
   ]
  },
  {
   "cell_type": "code",
   "execution_count": 129,
   "id": "feab922c",
   "metadata": {},
   "outputs": [
    {
     "data": {
      "text/plain": [
       "False    3762\n",
       "dtype: int64"
      ]
     },
     "execution_count": 129,
     "metadata": {},
     "output_type": "execute_result"
    }
   ],
   "source": [
    "X_train_sm.duplicated().value_counts()"
   ]
  },
  {
   "cell_type": "code",
   "execution_count": 130,
   "id": "59f9244c",
   "metadata": {},
   "outputs": [
    {
     "name": "stdout",
     "output_type": "stream",
     "text": [
      "Train dataset :\n",
      "\n",
      "Confusion matrix:\n",
      " [[1661  220]\n",
      " [ 347 1534]]\n",
      "Accuracy : 0.8492822966507177\n",
      "Precision : 0.8745724059293044\n",
      "Recall : 0.8155236576289208\n",
      "AUC score : 0.9116696498548258\n",
      "F1 score : 0.8440165061898212\n"
     ]
    },
    {
     "data": {
      "image/png": "[encoded data removed]",
      "text/plain": [
       "<Figure size 432x288 with 1 Axes>"
      ]
     },
     "metadata": {
      "needs_background": "light"
     },
     "output_type": "display_data"
    },
    {
     "name": "stdout",
     "output_type": "stream",
     "text": [
      "\n",
      "\n",
      "Test dataset :\n",
      "\n",
      "Confusion matrix:\n",
      " [[688 108]\n",
      " [134  90]]\n",
      "Accuracy : 0.7627450980392156\n",
      "Precision : 0.45454545454545453\n",
      "Recall : 0.4017857142857143\n",
      "AUC score : 0.6826543431442929\n",
      "F1 score : 0.42654028436018965\n"
     ]
    },
    {
     "data": {
      "image/png": "[encoded data removed]",
      "text/plain": [
       "<Figure size 432x288 with 1 Axes>"
      ]
     },
     "metadata": {
      "needs_background": "light"
     },
     "output_type": "display_data"
    }
   ],
   "source": [
    "lor = LogisticRegression()\n",
    "model_eval(lor, X_train_sm, X_test, y_train_sm, y_test)"
   ]
  },
  {
   "cell_type": "markdown",
   "id": "f9a6d3c3",
   "metadata": {},
   "source": [
    "## 1.3 Feature selection, LOG reg"
   ]
  },
  {
   "cell_type": "code",
   "execution_count": 131,
   "id": "7413ca1b",
   "metadata": {},
   "outputs": [],
   "source": [
    "X['UNMET_NEED'] = pt.fit_transform(X[['UNMET_NEED']])\n",
    "X['EST_FAM_CONTRIBUTION'] = pt.fit_transform(X[['EST_FAM_CONTRIBUTION']])"
   ]
  },
  {
   "cell_type": "code",
   "execution_count": 132,
   "id": "6ad368de",
   "metadata": {},
   "outputs": [],
   "source": [
    "from sklearn.feature_selection import RFECV"
   ]
  },
  {
   "cell_type": "code",
   "execution_count": 133,
   "id": "0d8467e9",
   "metadata": {},
   "outputs": [
    {
     "data": {
      "text/html": [
       "<style>#sk-container-id-1 {color: black;background-color: white;}#sk-container-id-1 pre{padding: 0;}#sk-container-id-1 div.sk-toggleable {background-color: white;}#sk-container-id-1 label.sk-toggleable__label {cursor: pointer;display: block;width: 100%;margin-bottom: 0;padding: 0.3em;box-sizing: border-box;text-align: center;}#sk-container-id-1 label.sk-toggleable__label-arrow:before {content: \"▸\";float: left;margin-right: 0.25em;color: #696969;}#sk-container-id-1 label.sk-toggleable__label-arrow:hover:before {color: black;}#sk-container-id-1 div.sk-estimator:hover label.sk-toggleable__label-arrow:before {color: black;}#sk-container-id-1 div.sk-toggleable__content {max-height: 0;max-width: 0;overflow: hidden;text-align: left;background-color: #f0f8ff;}#sk-container-id-1 div.sk-toggleable__content pre {margin: 0.2em;color: black;border-radius: 0.25em;background-color: #f0f8ff;}#sk-container-id-1 input.sk-toggleable__control:checked~div.sk-toggleable__content {max-height: 200px;max-width: 100%;overflow: auto;}#sk-container-id-1 input.sk-toggleable__control:checked~label.sk-toggleable__label-arrow:before {content: \"▾\";}#sk-container-id-1 div.sk-estimator input.sk-toggleable__control:checked~label.sk-toggleable__label {background-color: #d4ebff;}#sk-container-id-1 div.sk-label input.sk-toggleable__control:checked~label.sk-toggleable__label {background-color: #d4ebff;}#sk-container-id-1 input.sk-hidden--visually {border: 0;clip: rect(1px 1px 1px 1px);clip: rect(1px, 1px, 1px, 1px);height: 1px;margin: -1px;overflow: hidden;padding: 0;position: absolute;width: 1px;}#sk-container-id-1 div.sk-estimator {font-family: monospace;background-color: #f0f8ff;border: 1px dotted black;border-radius: 0.25em;box-sizing: border-box;margin-bottom: 0.5em;}#sk-container-id-1 div.sk-estimator:hover {background-color: #d4ebff;}#sk-container-id-1 div.sk-parallel-item::after {content: \"\";width: 100%;border-bottom: 1px solid gray;flex-grow: 1;}#sk-container-id-1 div.sk-label:hover label.sk-toggleable__label {background-color: #d4ebff;}#sk-container-id-1 div.sk-serial::before {content: \"\";position: absolute;border-left: 1px solid gray;box-sizing: border-box;top: 0;bottom: 0;left: 50%;z-index: 0;}#sk-container-id-1 div.sk-serial {display: flex;flex-direction: column;align-items: center;background-color: white;padding-right: 0.2em;padding-left: 0.2em;position: relative;}#sk-container-id-1 div.sk-item {position: relative;z-index: 1;}#sk-container-id-1 div.sk-parallel {display: flex;align-items: stretch;justify-content: center;background-color: white;position: relative;}#sk-container-id-1 div.sk-item::before, #sk-container-id-1 div.sk-parallel-item::before {content: \"\";position: absolute;border-left: 1px solid gray;box-sizing: border-box;top: 0;bottom: 0;left: 50%;z-index: -1;}#sk-container-id-1 div.sk-parallel-item {display: flex;flex-direction: column;z-index: 1;position: relative;background-color: white;}#sk-container-id-1 div.sk-parallel-item:first-child::after {align-self: flex-end;width: 50%;}#sk-container-id-1 div.sk-parallel-item:last-child::after {align-self: flex-start;width: 50%;}#sk-container-id-1 div.sk-parallel-item:only-child::after {width: 0;}#sk-container-id-1 div.sk-dashed-wrapped {border: 1px dashed gray;margin: 0 0.4em 0.5em 0.4em;box-sizing: border-box;padding-bottom: 0.4em;background-color: white;}#sk-container-id-1 div.sk-label label {font-family: monospace;font-weight: bold;display: inline-block;line-height: 1.2em;}#sk-container-id-1 div.sk-label-container {text-align: center;}#sk-container-id-1 div.sk-container {/* jupyter's `normalize.less` sets `[hidden] { display: none; }` but bootstrap.min.css set `[hidden] { display: none !important; }` so we also need the `!important` here to be able to override the default hidden behavior on the sphinx rendered scikit-learn.org. See: https://github.com/scikit-learn/scikit-learn/issues/21755 */display: inline-block !important;position: relative;}#sk-container-id-1 div.sk-text-repr-fallback {display: none;}</style><div id=\"sk-container-id-1\" class=\"sk-top-container\"><div class=\"sk-text-repr-fallback\"><pre>RFECV(cv=3, estimator=LogisticRegression(), n_jobs=-1, scoring=&#x27;roc_auc&#x27;)</pre><b>In a Jupyter environment, please rerun this cell to show the HTML representation or trust the notebook. <br />On GitHub, the HTML representation is unable to render, please try loading this page with nbviewer.org.</b></div><div class=\"sk-container\" hidden><div class=\"sk-item sk-dashed-wrapped\"><div class=\"sk-label-container\"><div class=\"sk-label sk-toggleable\"><input class=\"sk-toggleable__control sk-hidden--visually\" id=\"sk-estimator-id-1\" type=\"checkbox\" ><label for=\"sk-estimator-id-1\" class=\"sk-toggleable__label sk-toggleable__label-arrow\">RFECV</label><div class=\"sk-toggleable__content\"><pre>RFECV(cv=3, estimator=LogisticRegression(), n_jobs=-1, scoring=&#x27;roc_auc&#x27;)</pre></div></div></div><div class=\"sk-parallel\"><div class=\"sk-parallel-item\"><div class=\"sk-item\"><div class=\"sk-label-container\"><div class=\"sk-label sk-toggleable\"><input class=\"sk-toggleable__control sk-hidden--visually\" id=\"sk-estimator-id-2\" type=\"checkbox\" ><label for=\"sk-estimator-id-2\" class=\"sk-toggleable__label sk-toggleable__label-arrow\">estimator: LogisticRegression</label><div class=\"sk-toggleable__content\"><pre>LogisticRegression()</pre></div></div></div><div class=\"sk-serial\"><div class=\"sk-item\"><div class=\"sk-estimator sk-toggleable\"><input class=\"sk-toggleable__control sk-hidden--visually\" id=\"sk-estimator-id-3\" type=\"checkbox\" ><label for=\"sk-estimator-id-3\" class=\"sk-toggleable__label sk-toggleable__label-arrow\">LogisticRegression</label><div class=\"sk-toggleable__content\"><pre>LogisticRegression()</pre></div></div></div></div></div></div></div></div></div></div>"
      ],
      "text/plain": [
       "RFECV(cv=3, estimator=LogisticRegression(), n_jobs=-1, scoring='roc_auc')"
      ]
     },
     "execution_count": 133,
     "metadata": {},
     "output_type": "execute_result"
    }
   ],
   "source": [
    "lor = LogisticRegression()\n",
    "feat_sel = RFECV(lor, cv=3, scoring='roc_auc', n_jobs=-1)\n",
    "feat_sel.fit(X,y)"
   ]
  },
  {
   "cell_type": "code",
   "execution_count": 134,
   "id": "b098c03e",
   "metadata": {},
   "outputs": [
    {
     "data": {
      "text/plain": [
       "76"
      ]
     },
     "execution_count": 134,
     "metadata": {},
     "output_type": "execute_result"
    }
   ],
   "source": [
    "feat_sel.n_features_"
   ]
  },
  {
   "cell_type": "code",
   "execution_count": 135,
   "id": "d8c75e8b",
   "metadata": {},
   "outputs": [],
   "source": [
    "rfe_df = pd.DataFrame(feat_sel.ranking_, index=X.columns, columns=['rank'])"
   ]
  },
  {
   "cell_type": "code",
   "execution_count": 136,
   "id": "6357b6d7",
   "metadata": {},
   "outputs": [],
   "source": [
    "selected = list(rfe_df[rfe_df['rank'] == 1].index)"
   ]
  },
  {
   "cell_type": "code",
   "execution_count": 137,
   "id": "8458f257",
   "metadata": {},
   "outputs": [],
   "source": [
    "X_train_sel = X_train[selected]\n",
    "X_test_sel = X_test[selected]"
   ]
  },
  {
   "cell_type": "code",
   "execution_count": 138,
   "id": "c5b702ca",
   "metadata": {},
   "outputs": [
    {
     "name": "stdout",
     "output_type": "stream",
     "text": [
      "Train dataset :\n",
      "\n",
      "Confusion matrix:\n",
      " [[1852   29]\n",
      " [ 348  150]]\n",
      "Accuracy : 0.8415300546448088\n",
      "Precision : 0.8379888268156425\n",
      "Recall : 0.30120481927710846\n",
      "AUC score : 0.7547382512506166\n",
      "F1 score : 0.4431314623338257\n"
     ]
    },
    {
     "data": {
      "image/png": "[encoded data removed]",
      "text/plain": [
       "<Figure size 432x288 with 1 Axes>"
      ]
     },
     "metadata": {
      "needs_background": "light"
     },
     "output_type": "display_data"
    },
    {
     "name": "stdout",
     "output_type": "stream",
     "text": [
      "\n",
      "\n",
      "Test dataset :\n",
      "\n",
      "Confusion matrix:\n",
      " [[787   9]\n",
      " [156  68]]\n",
      "Accuracy : 0.8382352941176471\n",
      "Precision : 0.8831168831168831\n",
      "Recall : 0.30357142857142855\n",
      "AUC score : 0.7188285175879396\n",
      "F1 score : 0.4518272425249169\n"
     ]
    },
    {
     "data": {
      "image/png": "[encoded data removed]",
      "text/plain": [
       "<Figure size 432x288 with 1 Axes>"
      ]
     },
     "metadata": {
      "needs_background": "light"
     },
     "output_type": "display_data"
    }
   ],
   "source": [
    "lor = LogisticRegression()\n",
    "model_eval(lor, X_train_sel, X_test_sel, y_train, y_test)"
   ]
  },
  {
   "cell_type": "code",
   "execution_count": 139,
   "id": "c710db87",
   "metadata": {},
   "outputs": [],
   "source": [
    "X_train_sm_sel = X_train_sm[selected]\n",
    "X_test_sm_sel = X_test[selected]"
   ]
  },
  {
   "cell_type": "code",
   "execution_count": 140,
   "id": "e9920f6f",
   "metadata": {},
   "outputs": [
    {
     "name": "stdout",
     "output_type": "stream",
     "text": [
      "Train dataset :\n",
      "\n",
      "Confusion matrix:\n",
      " [[1615  266]\n",
      " [ 344 1537]]\n",
      "Accuracy : 0.837852206273259\n",
      "Precision : 0.8524681087077094\n",
      "Recall : 0.8171185539606592\n",
      "AUC score : 0.8988734543170874\n",
      "F1 score : 0.8344191096634094\n"
     ]
    },
    {
     "data": {
      "image/png": "[encoded data removed]",
      "text/plain": [
       "<Figure size 432x288 with 1 Axes>"
      ]
     },
     "metadata": {
      "needs_background": "light"
     },
     "output_type": "display_data"
    },
    {
     "name": "stdout",
     "output_type": "stream",
     "text": [
      "\n",
      "\n",
      "Test dataset :\n",
      "\n",
      "Confusion matrix:\n",
      " [[674 122]\n",
      " [132  92]]\n",
      "Accuracy : 0.7509803921568627\n",
      "Precision : 0.42990654205607476\n",
      "Recall : 0.4107142857142857\n",
      "AUC score : 0.6694970387652549\n",
      "F1 score : 0.4200913242009132\n"
     ]
    },
    {
     "data": {
      "image/png": "[encoded data removed]",
      "text/plain": [
       "<Figure size 432x288 with 1 Axes>"
      ]
     },
     "metadata": {
      "needs_background": "light"
     },
     "output_type": "display_data"
    }
   ],
   "source": [
    "model_eval(lor, X_train_sm_sel, X_test_sm_sel, y_train_sm, y_test)"
   ]
  },
  {
   "cell_type": "markdown",
   "id": "b9eea319",
   "metadata": {},
   "source": [
    "# 2. Random forest"
   ]
  },
  {
   "cell_type": "code",
   "execution_count": 158,
   "id": "8f776366",
   "metadata": {},
   "outputs": [],
   "source": [
    "from sklearn.ensemble import RandomForestClassifier"
   ]
  },
  {
   "cell_type": "code",
   "execution_count": 159,
   "id": "667d50e9",
   "metadata": {},
   "outputs": [
    {
     "name": "stdout",
     "output_type": "stream",
     "text": [
      "Train dataset :\n",
      "\n",
      "Confusion matrix:\n",
      " [[1881    0]\n",
      " [   0  498]]\n",
      "Accuracy : 1.0\n",
      "Precision : 1.0\n",
      "Recall : 1.0\n",
      "AUC score : 1.0\n",
      "F1 score : 1.0\n"
     ]
    },
    {
     "data": {
      "image/png": "[encoded data removed]",
      "text/plain": [
       "<Figure size 432x288 with 1 Axes>"
      ]
     },
     "metadata": {
      "needs_background": "light"
     },
     "output_type": "display_data"
    },
    {
     "name": "stdout",
     "output_type": "stream",
     "text": [
      "\n",
      "\n",
      "Test dataset :\n",
      "\n",
      "Confusion matrix:\n",
      " [[789   7]\n",
      " [161  63]]\n",
      "Accuracy : 0.8352941176470589\n",
      "Precision : 0.9\n",
      "Recall : 0.28125\n",
      "AUC score : 0.6967426417803303\n",
      "F1 score : 0.4285714285714286\n"
     ]
    },
    {
     "data": {
      "image/png": "[encoded data removed]",
      "text/plain": [
       "<Figure size 432x288 with 1 Axes>"
      ]
     },
     "metadata": {
      "needs_background": "light"
     },
     "output_type": "display_data"
    }
   ],
   "source": [
    "rfc = RandomForestClassifier(random_state=42)\n",
    "model_eval(rfc)"
   ]
  },
  {
   "cell_type": "code",
   "execution_count": 160,
   "id": "da97c4d1",
   "metadata": {},
   "outputs": [
    {
     "name": "stdout",
     "output_type": "stream",
     "text": [
      "Train dataset :\n",
      "\n",
      "Confusion matrix:\n",
      " [[1881    0]\n",
      " [   0 1881]]\n",
      "Accuracy : 1.0\n",
      "Precision : 1.0\n",
      "Recall : 1.0\n",
      "AUC score : 1.0\n",
      "F1 score : 1.0\n"
     ]
    },
    {
     "data": {
      "image/png": "[encoded data removed]",
      "text/plain": [
       "<Figure size 432x288 with 1 Axes>"
      ]
     },
     "metadata": {
      "needs_background": "light"
     },
     "output_type": "display_data"
    },
    {
     "name": "stdout",
     "output_type": "stream",
     "text": [
      "\n",
      "\n",
      "Test dataset :\n",
      "\n",
      "Confusion matrix:\n",
      " [[757  39]\n",
      " [155  69]]\n",
      "Accuracy : 0.8098039215686275\n",
      "Precision : 0.6388888888888888\n",
      "Recall : 0.3080357142857143\n",
      "AUC score : 0.6998356739052405\n",
      "F1 score : 0.41566265060240964\n"
     ]
    },
    {
     "data": {
      "image/png": "[encoded data removed]",
      "text/plain": [
       "<Figure size 432x288 with 1 Axes>"
      ]
     },
     "metadata": {
      "needs_background": "light"
     },
     "output_type": "display_data"
    }
   ],
   "source": [
    "model_eval(rfc, X_train_sm, X_test, y_train_sm, y_test)"
   ]
  },
  {
   "cell_type": "code",
   "execution_count": 161,
   "id": "9955ee44",
   "metadata": {},
   "outputs": [],
   "source": [
    "params = {\n",
    "    'criterion' : ['gini', 'entropy'],\n",
    "    'max_depth' : sp_randint(2,20),\n",
    "    'min_samples_split' : sp_randint(2,25),\n",
    "    'n_estimators' : sp_randint(100,200)\n",
    "}\n",
    "rfc = RandomForestClassifier()"
   ]
  },
  {
   "cell_type": "code",
   "execution_count": 162,
   "id": "42bd7218",
   "metadata": {},
   "outputs": [
    {
     "data": {
      "text/html": [
       "<style>#sk-container-id-4 {color: black;background-color: white;}#sk-container-id-4 pre{padding: 0;}#sk-container-id-4 div.sk-toggleable {background-color: white;}#sk-container-id-4 label.sk-toggleable__label {cursor: pointer;display: block;width: 100%;margin-bottom: 0;padding: 0.3em;box-sizing: border-box;text-align: center;}#sk-container-id-4 label.sk-toggleable__label-arrow:before {content: \"▸\";float: left;margin-right: 0.25em;color: #696969;}#sk-container-id-4 label.sk-toggleable__label-arrow:hover:before {color: black;}#sk-container-id-4 div.sk-estimator:hover label.sk-toggleable__label-arrow:before {color: black;}#sk-container-id-4 div.sk-toggleable__content {max-height: 0;max-width: 0;overflow: hidden;text-align: left;background-color: #f0f8ff;}#sk-container-id-4 div.sk-toggleable__content pre {margin: 0.2em;color: black;border-radius: 0.25em;background-color: #f0f8ff;}#sk-container-id-4 input.sk-toggleable__control:checked~div.sk-toggleable__content {max-height: 200px;max-width: 100%;overflow: auto;}#sk-container-id-4 input.sk-toggleable__control:checked~label.sk-toggleable__label-arrow:before {content: \"▾\";}#sk-container-id-4 div.sk-estimator input.sk-toggleable__control:checked~label.sk-toggleable__label {background-color: #d4ebff;}#sk-container-id-4 div.sk-label input.sk-toggleable__control:checked~label.sk-toggleable__label {background-color: #d4ebff;}#sk-container-id-4 input.sk-hidden--visually {border: 0;clip: rect(1px 1px 1px 1px);clip: rect(1px, 1px, 1px, 1px);height: 1px;margin: -1px;overflow: hidden;padding: 0;position: absolute;width: 1px;}#sk-container-id-4 div.sk-estimator {font-family: monospace;background-color: #f0f8ff;border: 1px dotted black;border-radius: 0.25em;box-sizing: border-box;margin-bottom: 0.5em;}#sk-container-id-4 div.sk-estimator:hover {background-color: #d4ebff;}#sk-container-id-4 div.sk-parallel-item::after {content: \"\";width: 100%;border-bottom: 1px solid gray;flex-grow: 1;}#sk-container-id-4 div.sk-label:hover label.sk-toggleable__label {background-color: #d4ebff;}#sk-container-id-4 div.sk-serial::before {content: \"\";position: absolute;border-left: 1px solid gray;box-sizing: border-box;top: 0;bottom: 0;left: 50%;z-index: 0;}#sk-container-id-4 div.sk-serial {display: flex;flex-direction: column;align-items: center;background-color: white;padding-right: 0.2em;padding-left: 0.2em;position: relative;}#sk-container-id-4 div.sk-item {position: relative;z-index: 1;}#sk-container-id-4 div.sk-parallel {display: flex;align-items: stretch;justify-content: center;background-color: white;position: relative;}#sk-container-id-4 div.sk-item::before, #sk-container-id-4 div.sk-parallel-item::before {content: \"\";position: absolute;border-left: 1px solid gray;box-sizing: border-box;top: 0;bottom: 0;left: 50%;z-index: -1;}#sk-container-id-4 div.sk-parallel-item {display: flex;flex-direction: column;z-index: 1;position: relative;background-color: white;}#sk-container-id-4 div.sk-parallel-item:first-child::after {align-self: flex-end;width: 50%;}#sk-container-id-4 div.sk-parallel-item:last-child::after {align-self: flex-start;width: 50%;}#sk-container-id-4 div.sk-parallel-item:only-child::after {width: 0;}#sk-container-id-4 div.sk-dashed-wrapped {border: 1px dashed gray;margin: 0 0.4em 0.5em 0.4em;box-sizing: border-box;padding-bottom: 0.4em;background-color: white;}#sk-container-id-4 div.sk-label label {font-family: monospace;font-weight: bold;display: inline-block;line-height: 1.2em;}#sk-container-id-4 div.sk-label-container {text-align: center;}#sk-container-id-4 div.sk-container {/* jupyter's `normalize.less` sets `[hidden] { display: none; }` but bootstrap.min.css set `[hidden] { display: none !important; }` so we also need the `!important` here to be able to override the default hidden behavior on the sphinx rendered scikit-learn.org. See: https://github.com/scikit-learn/scikit-learn/issues/21755 */display: inline-block !important;position: relative;}#sk-container-id-4 div.sk-text-repr-fallback {display: none;}</style><div id=\"sk-container-id-4\" class=\"sk-top-container\"><div class=\"sk-text-repr-fallback\"><pre>RandomizedSearchCV(cv=3, estimator=RandomForestClassifier(), n_iter=50,\n",
       "                   n_jobs=-1,\n",
       "                   param_distributions={&#x27;criterion&#x27;: [&#x27;gini&#x27;, &#x27;entropy&#x27;],\n",
       "                                        &#x27;max_depth&#x27;: &lt;scipy.stats._distn_infrastructure.rv_frozen object at 0x00000276184F6A30&gt;,\n",
       "                                        &#x27;min_samples_split&#x27;: &lt;scipy.stats._distn_infrastructure.rv_frozen object at 0x00000276185012B0&gt;,\n",
       "                                        &#x27;n_estimators&#x27;: &lt;scipy.stats._distn_infrastructure.rv_frozen object at 0x00000276181BCB20&gt;},\n",
       "                   random_state=42, scoring=&#x27;roc_auc&#x27;)</pre><b>In a Jupyter environment, please rerun this cell to show the HTML representation or trust the notebook. <br />On GitHub, the HTML representation is unable to render, please try loading this page with nbviewer.org.</b></div><div class=\"sk-container\" hidden><div class=\"sk-item sk-dashed-wrapped\"><div class=\"sk-label-container\"><div class=\"sk-label sk-toggleable\"><input class=\"sk-toggleable__control sk-hidden--visually\" id=\"sk-estimator-id-10\" type=\"checkbox\" ><label for=\"sk-estimator-id-10\" class=\"sk-toggleable__label sk-toggleable__label-arrow\">RandomizedSearchCV</label><div class=\"sk-toggleable__content\"><pre>RandomizedSearchCV(cv=3, estimator=RandomForestClassifier(), n_iter=50,\n",
       "                   n_jobs=-1,\n",
       "                   param_distributions={&#x27;criterion&#x27;: [&#x27;gini&#x27;, &#x27;entropy&#x27;],\n",
       "                                        &#x27;max_depth&#x27;: &lt;scipy.stats._distn_infrastructure.rv_frozen object at 0x00000276184F6A30&gt;,\n",
       "                                        &#x27;min_samples_split&#x27;: &lt;scipy.stats._distn_infrastructure.rv_frozen object at 0x00000276185012B0&gt;,\n",
       "                                        &#x27;n_estimators&#x27;: &lt;scipy.stats._distn_infrastructure.rv_frozen object at 0x00000276181BCB20&gt;},\n",
       "                   random_state=42, scoring=&#x27;roc_auc&#x27;)</pre></div></div></div><div class=\"sk-parallel\"><div class=\"sk-parallel-item\"><div class=\"sk-item\"><div class=\"sk-label-container\"><div class=\"sk-label sk-toggleable\"><input class=\"sk-toggleable__control sk-hidden--visually\" id=\"sk-estimator-id-11\" type=\"checkbox\" ><label for=\"sk-estimator-id-11\" class=\"sk-toggleable__label sk-toggleable__label-arrow\">estimator: RandomForestClassifier</label><div class=\"sk-toggleable__content\"><pre>RandomForestClassifier()</pre></div></div></div><div class=\"sk-serial\"><div class=\"sk-item\"><div class=\"sk-estimator sk-toggleable\"><input class=\"sk-toggleable__control sk-hidden--visually\" id=\"sk-estimator-id-12\" type=\"checkbox\" ><label for=\"sk-estimator-id-12\" class=\"sk-toggleable__label sk-toggleable__label-arrow\">RandomForestClassifier</label><div class=\"sk-toggleable__content\"><pre>RandomForestClassifier()</pre></div></div></div></div></div></div></div></div></div></div>"
      ],
      "text/plain": [
       "RandomizedSearchCV(cv=3, estimator=RandomForestClassifier(), n_iter=50,\n",
       "                   n_jobs=-1,\n",
       "                   param_distributions={'criterion': ['gini', 'entropy'],\n",
       "                                        'max_depth': <scipy.stats._distn_infrastructure.rv_frozen object at 0x00000276184F6A30>,\n",
       "                                        'min_samples_split': <scipy.stats._distn_infrastructure.rv_frozen object at 0x00000276185012B0>,\n",
       "                                        'n_estimators': <scipy.stats._distn_infrastructure.rv_frozen object at 0x00000276181BCB20>},\n",
       "                   random_state=42, scoring='roc_auc')"
      ]
     },
     "execution_count": 162,
     "metadata": {},
     "output_type": "execute_result"
    }
   ],
   "source": [
    "r_search = RandomizedSearchCV(rfc, param_distributions=params, n_iter=50, scoring='roc_auc', n_jobs=-1, cv=3, random_state=42)\n",
    "r_search.fit(X,y)"
   ]
  },
  {
   "cell_type": "code",
   "execution_count": 163,
   "id": "2c2cb3f9",
   "metadata": {},
   "outputs": [
    {
     "data": {
      "text/plain": [
       "{'criterion': 'gini',\n",
       " 'max_depth': 16,\n",
       " 'min_samples_split': 15,\n",
       " 'n_estimators': 102}"
      ]
     },
     "execution_count": 163,
     "metadata": {},
     "output_type": "execute_result"
    }
   ],
   "source": [
    "r_search.best_params_"
   ]
  },
  {
   "cell_type": "code",
   "execution_count": 164,
   "id": "b6c1225b",
   "metadata": {},
   "outputs": [
    {
     "name": "stdout",
     "output_type": "stream",
     "text": [
      "Train dataset :\n",
      "\n",
      "Confusion matrix:\n",
      " [[1864   17]\n",
      " [ 353  145]]\n",
      "Accuracy : 0.8444724674232871\n",
      "Precision : 0.8950617283950617\n",
      "Recall : 0.29116465863453816\n",
      "AUC score : 0.9669523388610263\n",
      "F1 score : 0.43939393939393934\n"
     ]
    },
    {
     "data": {
      "image/png": "[encoded data removed]",
      "text/plain": [
       "<Figure size 432x288 with 1 Axes>"
      ]
     },
     "metadata": {
      "needs_background": "light"
     },
     "output_type": "display_data"
    },
    {
     "name": "stdout",
     "output_type": "stream",
     "text": [
      "\n",
      "\n",
      "Test dataset :\n",
      "\n",
      "Confusion matrix:\n",
      " [[790   6]\n",
      " [162  62]]\n",
      "Accuracy : 0.8352941176470589\n",
      "Precision : 0.9117647058823529\n",
      "Recall : 0.2767857142857143\n",
      "AUC score : 0.7077687544867194\n",
      "F1 score : 0.4246575342465753\n"
     ]
    },
    {
     "data": {
      "image/png": "[encoded data removed]",
      "text/plain": [
       "<Figure size 432x288 with 1 Axes>"
      ]
     },
     "metadata": {
      "needs_background": "light"
     },
     "output_type": "display_data"
    }
   ],
   "source": [
    "rfc = RandomForestClassifier(**r_search.best_params_, random_state=42)\n",
    "model_eval(rfc)"
   ]
  },
  {
   "cell_type": "code",
   "execution_count": 165,
   "id": "c4c82879",
   "metadata": {},
   "outputs": [
    {
     "name": "stdout",
     "output_type": "stream",
     "text": [
      "Train dataset :\n",
      "\n",
      "Confusion matrix:\n",
      " [[1830   51]\n",
      " [ 180 1701]]\n",
      "Accuracy : 0.9385964912280702\n",
      "Precision : 0.9708904109589042\n",
      "Recall : 0.9043062200956937\n",
      "AUC score : 0.9919017252182702\n",
      "F1 score : 0.9364161849710982\n"
     ]
    },
    {
     "data": {
      "image/png": "[encoded data removed]",
      "text/plain": [
       "<Figure size 432x288 with 1 Axes>"
      ]
     },
     "metadata": {
      "needs_background": "light"
     },
     "output_type": "display_data"
    },
    {
     "name": "stdout",
     "output_type": "stream",
     "text": [
      "\n",
      "\n",
      "Test dataset :\n",
      "\n",
      "Confusion matrix:\n",
      " [[749  47]\n",
      " [151  73]]\n",
      "Accuracy : 0.8058823529411765\n",
      "Precision : 0.6083333333333333\n",
      "Recall : 0.32589285714285715\n",
      "AUC score : 0.6871186288585787\n",
      "F1 score : 0.42441860465116277\n"
     ]
    },
    {
     "data": {
      "image/png": "[encoded data removed]",
      "text/plain": [
       "<Figure size 432x288 with 1 Axes>"
      ]
     },
     "metadata": {
      "needs_background": "light"
     },
     "output_type": "display_data"
    }
   ],
   "source": [
    "model_eval(rfc, X_train_sm, X_test, y_train_sm, y_test)"
   ]
  },
  {
   "cell_type": "markdown",
   "id": "5370d835",
   "metadata": {},
   "source": [
    "## 3. GradientBoostingClassifier"
   ]
  },
  {
   "cell_type": "code",
   "execution_count": 174,
   "id": "fa77f022",
   "metadata": {},
   "outputs": [],
   "source": [
    "from sklearn.ensemble import GradientBoostingClassifier\n",
    "gbc = GradientBoostingClassifier()"
   ]
  },
  {
   "cell_type": "code",
   "execution_count": 175,
   "id": "ab9b46f2",
   "metadata": {},
   "outputs": [
    {
     "name": "stdout",
     "output_type": "stream",
     "text": [
      "Train dataset :\n",
      "\n",
      "Confusion matrix:\n",
      " [[1868   13]\n",
      " [ 335  163]]\n",
      "Accuracy : 0.8537200504413619\n",
      "Precision : 0.9261363636363636\n",
      "Recall : 0.3273092369477912\n",
      "AUC score : 0.8727488369213163\n",
      "F1 score : 0.4836795252225519\n"
     ]
    },
    {
     "data": {
      "image/png": "[encoded data removed]",
      "text/plain": [
       "<Figure size 432x288 with 1 Axes>"
      ]
     },
     "metadata": {
      "needs_background": "light"
     },
     "output_type": "display_data"
    },
    {
     "name": "stdout",
     "output_type": "stream",
     "text": [
      "\n",
      "\n",
      "Test dataset :\n",
      "\n",
      "Confusion matrix:\n",
      " [[780  16]\n",
      " [164  60]]\n",
      "Accuracy : 0.8235294117647058\n",
      "Precision : 0.7894736842105263\n",
      "Recall : 0.26785714285714285\n",
      "AUC score : 0.7263942480258434\n",
      "F1 score : 0.4\n"
     ]
    },
    {
     "data": {
      "image/png": "[encoded data removed]",
      "text/plain": [
       "<Figure size 432x288 with 1 Axes>"
      ]
     },
     "metadata": {
      "needs_background": "light"
     },
     "output_type": "display_data"
    }
   ],
   "source": [
    "model_eval(gbc)"
   ]
  },
  {
   "cell_type": "code",
   "execution_count": 176,
   "id": "b719656a",
   "metadata": {},
   "outputs": [
    {
     "name": "stdout",
     "output_type": "stream",
     "text": [
      "Train dataset :\n",
      "\n",
      "Confusion matrix:\n",
      " [[1751  130]\n",
      " [ 284 1597]]\n",
      "Accuracy : 0.8899521531100478\n",
      "Precision : 0.9247249565720903\n",
      "Recall : 0.849016480595428\n",
      "AUC score : 0.9493789287711893\n",
      "F1 score : 0.8852549889135254\n"
     ]
    },
    {
     "data": {
      "image/png": "[encoded data removed]",
      "text/plain": [
       "<Figure size 432x288 with 1 Axes>"
      ]
     },
     "metadata": {
      "needs_background": "light"
     },
     "output_type": "display_data"
    },
    {
     "name": "stdout",
     "output_type": "stream",
     "text": [
      "\n",
      "\n",
      "Test dataset :\n",
      "\n",
      "Confusion matrix:\n",
      " [[717  79]\n",
      " [144  80]]\n",
      "Accuracy : 0.7813725490196078\n",
      "Precision : 0.5031446540880503\n",
      "Recall : 0.35714285714285715\n",
      "AUC score : 0.7082342516152189\n",
      "F1 score : 0.41775456919060056\n"
     ]
    },
    {
     "data": {
      "image/png": "[encoded data removed]",
      "text/plain": [
       "<Figure size 432x288 with 1 Axes>"
      ]
     },
     "metadata": {
      "needs_background": "light"
     },
     "output_type": "display_data"
    }
   ],
   "source": [
    "model_eval(gbc, X_train_sm, X_test, y_train_sm, y_test)"
   ]
  },
  {
   "cell_type": "markdown",
   "id": "1aaf7834",
   "metadata": {},
   "source": [
    "## 4. XGBoost"
   ]
  },
  {
   "cell_type": "code",
   "execution_count": 177,
   "id": "452a3281",
   "metadata": {},
   "outputs": [],
   "source": [
    "from xgboost import XGBClassifier"
   ]
  },
  {
   "cell_type": "code",
   "execution_count": 178,
   "id": "f7e05959",
   "metadata": {},
   "outputs": [
    {
     "name": "stdout",
     "output_type": "stream",
     "text": [
      "Train dataset :\n",
      "\n",
      "Confusion matrix:\n",
      " [[1881    0]\n",
      " [  44  454]]\n",
      "Accuracy : 0.9815048339638504\n",
      "Precision : 1.0\n",
      "Recall : 0.9116465863453815\n",
      "AUC score : 0.9998291945026251\n",
      "F1 score : 0.9537815126050421\n"
     ]
    },
    {
     "data": {
      "image/png": "[encoded data removed]",
      "text/plain": [
       "<Figure size 432x288 with 1 Axes>"
      ]
     },
     "metadata": {
      "needs_background": "light"
     },
     "output_type": "display_data"
    },
    {
     "name": "stdout",
     "output_type": "stream",
     "text": [
      "\n",
      "\n",
      "Test dataset :\n",
      "\n",
      "Confusion matrix:\n",
      " [[754  42]\n",
      " [153  71]]\n",
      "Accuracy : 0.8088235294117647\n",
      "Precision : 0.6283185840707964\n",
      "Recall : 0.3169642857142857\n",
      "AUC score : 0.7191145459440057\n",
      "F1 score : 0.42136498516320475\n"
     ]
    },
    {
     "data": {
      "image/png": "[encoded data removed]",
      "text/plain": [
       "<Figure size 432x288 with 1 Axes>"
      ]
     },
     "metadata": {
      "needs_background": "light"
     },
     "output_type": "display_data"
    }
   ],
   "source": [
    "xgb = XGBClassifier()\n",
    "model_eval(xgb)"
   ]
  },
  {
   "cell_type": "code",
   "execution_count": 179,
   "id": "d23651fe",
   "metadata": {},
   "outputs": [
    {
     "name": "stdout",
     "output_type": "stream",
     "text": [
      "Train dataset :\n",
      "\n",
      "Confusion matrix:\n",
      " [[1877    4]\n",
      " [  41 1840]]\n",
      "Accuracy : 0.9880382775119617\n",
      "Precision : 0.9978308026030369\n",
      "Recall : 0.9782030834662414\n",
      "AUC score : 0.9995949873394683\n",
      "F1 score : 0.9879194630872484\n"
     ]
    },
    {
     "data": {
      "image/png": "[encoded data removed]",
      "text/plain": [
       "<Figure size 432x288 with 1 Axes>"
      ]
     },
     "metadata": {
      "needs_background": "light"
     },
     "output_type": "display_data"
    },
    {
     "name": "stdout",
     "output_type": "stream",
     "text": [
      "\n",
      "\n",
      "Test dataset :\n",
      "\n",
      "Confusion matrix:\n",
      " [[743  53]\n",
      " [145  79]]\n",
      "Accuracy : 0.8058823529411765\n",
      "Precision : 0.5984848484848485\n",
      "Recall : 0.35267857142857145\n",
      "AUC score : 0.7274318018664752\n",
      "F1 score : 0.4438202247191011\n"
     ]
    },
    {
     "data": {
      "image/png": "[encoded data removed]",
      "text/plain": [
       "<Figure size 432x288 with 1 Axes>"
      ]
     },
     "metadata": {
      "needs_background": "light"
     },
     "output_type": "display_data"
    }
   ],
   "source": [
    "model_eval(xgb, X_train_sm, X_test, y_train_sm, y_test)"
   ]
  },
  {
   "cell_type": "code",
   "execution_count": 180,
   "id": "7d423c3b",
   "metadata": {},
   "outputs": [],
   "source": [
    "xGB_model = XGBClassifier(random_state = 4, max_depth = 8, \n",
    "                            n_estimators = 3000, reg_lambda = 1.2, reg_alpha = 1.2, \n",
    "                            min_child_weight = 1, \n",
    "                            objective = 'binary:logistic',\n",
    "                            learning_rate = 0.15, gamma = 0.3, colsample_bytree = 0.5, eval_metric = 'auc')"
   ]
  },
  {
   "cell_type": "code",
   "execution_count": 181,
   "id": "e08de861",
   "metadata": {},
   "outputs": [
    {
     "name": "stdout",
     "output_type": "stream",
     "text": [
      "Train dataset :\n",
      "\n",
      "Confusion matrix:\n",
      " [[1879    2]\n",
      " [   3 1878]]\n",
      "Accuracy : 0.9986709197235513\n",
      "Precision : 0.9989361702127659\n",
      "Recall : 0.9984051036682615\n",
      "AUC score : 0.9999918036516711\n",
      "F1 score : 0.9986705663387396\n"
     ]
    },
    {
     "data": {
      "image/png": "[encoded data removed]",
      "text/plain": [
       "<Figure size 432x288 with 1 Axes>"
      ]
     },
     "metadata": {
      "needs_background": "light"
     },
     "output_type": "display_data"
    },
    {
     "name": "stdout",
     "output_type": "stream",
     "text": [
      "\n",
      "\n",
      "Test dataset :\n",
      "\n",
      "Confusion matrix:\n",
      " [[750  46]\n",
      " [150  74]]\n",
      "Accuracy : 0.807843137254902\n",
      "Precision : 0.6166666666666667\n",
      "Recall : 0.33035714285714285\n",
      "AUC score : 0.7236405240488155\n",
      "F1 score : 0.43023255813953487\n"
     ]
    },
    {
     "data": {
      "image/png": "[encoded data removed]",
      "text/plain": [
       "<Figure size 432x288 with 1 Axes>"
      ]
     },
     "metadata": {
      "needs_background": "light"
     },
     "output_type": "display_data"
    }
   ],
   "source": [
    "model_eval(xGB_model, X_train_sm, X_test, y_train_sm, y_test)"
   ]
  },
  {
   "cell_type": "markdown",
   "id": "a5c76e8a",
   "metadata": {},
   "source": [
    "## 5.ADA boost"
   ]
  },
  {
   "cell_type": "code",
   "execution_count": 182,
   "id": "86f1ec33",
   "metadata": {},
   "outputs": [],
   "source": [
    "from sklearn.ensemble import AdaBoostClassifier"
   ]
  },
  {
   "cell_type": "code",
   "execution_count": 183,
   "id": "52d17863",
   "metadata": {},
   "outputs": [
    {
     "name": "stdout",
     "output_type": "stream",
     "text": [
      "Train dataset :\n",
      "\n",
      "Confusion matrix:\n",
      " [[1857   24]\n",
      " [ 352  146]]\n",
      "Accuracy : 0.8419503993274485\n",
      "Precision : 0.8588235294117647\n",
      "Recall : 0.2931726907630522\n",
      "AUC score : 0.7914059213995803\n",
      "F1 score : 0.437125748502994\n"
     ]
    },
    {
     "data": {
      "image/png": "[encoded data removed]",
      "text/plain": [
       "<Figure size 432x288 with 1 Axes>"
      ]
     },
     "metadata": {
      "needs_background": "light"
     },
     "output_type": "display_data"
    },
    {
     "name": "stdout",
     "output_type": "stream",
     "text": [
      "\n",
      "\n",
      "Test dataset :\n",
      "\n",
      "Confusion matrix:\n",
      " [[781  15]\n",
      " [163  61]]\n",
      "Accuracy : 0.8254901960784313\n",
      "Precision : 0.8026315789473685\n",
      "Recall : 0.27232142857142855\n",
      "AUC score : 0.709560638011486\n",
      "F1 score : 0.4066666666666666\n"
     ]
    },
    {
     "data": {
      "image/png": "[encoded data removed]",
      "text/plain": [
       "<Figure size 432x288 with 1 Axes>"
      ]
     },
     "metadata": {
      "needs_background": "light"
     },
     "output_type": "display_data"
    }
   ],
   "source": [
    "ada = AdaBoostClassifier()\n",
    "model_eval(ada)"
   ]
  },
  {
   "cell_type": "code",
   "execution_count": 184,
   "id": "723b8adc",
   "metadata": {},
   "outputs": [
    {
     "name": "stdout",
     "output_type": "stream",
     "text": [
      "Train dataset :\n",
      "\n",
      "Confusion matrix:\n",
      " [[1637  244]\n",
      " [ 305 1576]]\n",
      "Accuracy : 0.854066985645933\n",
      "Precision : 0.865934065934066\n",
      "Recall : 0.837852206273259\n",
      "AUC score : 0.9132238470776203\n",
      "F1 score : 0.8516617130505268\n"
     ]
    },
    {
     "data": {
      "image/png": "[encoded data removed]",
      "text/plain": [
       "<Figure size 432x288 with 1 Axes>"
      ]
     },
     "metadata": {
      "needs_background": "light"
     },
     "output_type": "display_data"
    },
    {
     "name": "stdout",
     "output_type": "stream",
     "text": [
      "\n",
      "\n",
      "Test dataset :\n",
      "\n",
      "Confusion matrix:\n",
      " [[681 115]\n",
      " [133  91]]\n",
      "Accuracy : 0.7568627450980392\n",
      "Precision : 0.441747572815534\n",
      "Recall : 0.40625\n",
      "AUC score : 0.6948357860732233\n",
      "F1 score : 0.4232558139534884\n"
     ]
    },
    {
     "data": {
      "image/png": "[encoded data removed]",
      "text/plain": [
       "<Figure size 432x288 with 1 Axes>"
      ]
     },
     "metadata": {
      "needs_background": "light"
     },
     "output_type": "display_data"
    }
   ],
   "source": [
    "model_eval(ada, X_train_sm, X_test, y_train_sm, y_test)"
   ]
  },
  {
   "cell_type": "markdown",
   "id": "e6ef6762",
   "metadata": {},
   "source": [
    "# Logistic regression gave best results"
   ]
  },
  {
   "cell_type": "code",
   "execution_count": 189,
   "id": "b31f56b6",
   "metadata": {
    "scrolled": true
   },
   "outputs": [
    {
     "name": "stdout",
     "output_type": "stream",
     "text": [
      "Train dataset :\n",
      "\n",
      "Confusion matrix:\n",
      " [[1851   30]\n",
      " [ 351  147]]\n",
      "Accuracy : 0.8398486759142497\n",
      "Precision : 0.8305084745762712\n",
      "Recall : 0.29518072289156627\n",
      "AUC score : 0.7563993347125877\n",
      "F1 score : 0.43555555555555553\n"
     ]
    },
    {
     "data": {
      "image/png": "[encoded data removed]",
      "text/plain": [
       "<Figure size 432x288 with 1 Axes>"
      ]
     },
     "metadata": {
      "needs_background": "light"
     },
     "output_type": "display_data"
    },
    {
     "name": "stdout",
     "output_type": "stream",
     "text": [
      "\n",
      "\n",
      "Test dataset :\n",
      "\n",
      "Confusion matrix:\n",
      " [[788   8]\n",
      " [155  69]]\n",
      "Accuracy : 0.8401960784313726\n",
      "Precision : 0.8961038961038961\n",
      "Recall : 0.3080357142857143\n",
      "AUC score : 0.7104103104809764\n",
      "F1 score : 0.45847176079734214\n"
     ]
    },
    {
     "data": {
      "image/png": "[encoded data removed]",
      "text/plain": [
       "<Figure size 432x288 with 1 Axes>"
      ]
     },
     "metadata": {
      "needs_background": "light"
     },
     "output_type": "display_data"
    }
   ],
   "source": [
    "lor = LogisticRegression()\n",
    "model_eval(lor)"
   ]
  },
  {
   "cell_type": "code",
   "execution_count": null,
   "id": "1b6531a2",
   "metadata": {},
   "outputs": [],
   "source": []
  }
 ],
 "metadata": {
  "kernelspec": {
   "display_name": "Python 3 (ipykernel)",
   "language": "python",
   "name": "python3"
  },
  "language_info": {
   "codemirror_mode": {
    "name": "ipython",
    "version": 3
   },
   "file_extension": ".py",
   "mimetype": "text/x-python",
   "name": "python",
   "nbconvert_exporter": "python",
   "pygments_lexer": "ipython3",
   "version": "3.9.7"
  }
 },
 "nbformat": 4,
 "nbformat_minor": 5
}
